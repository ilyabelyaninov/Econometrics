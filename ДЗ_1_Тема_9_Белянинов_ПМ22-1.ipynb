{
 "cells": [
  {
   "cell_type": "code",
   "execution_count": 2,
   "id": "462ba980",
   "metadata": {},
   "outputs": [],
   "source": [
    "import statsmodels.api as sm\n",
    "import scipy.stats as sts\n",
    "import numpy as np\n",
    "import pandas as pd\n",
    "import matplotlib.pyplot as plt\n",
    "import seaborn as sb"
   ]
  },
  {
   "cell_type": "markdown",
   "id": "7389aade",
   "metadata": {},
   "source": [
    "# Импорт данных"
   ]
  },
  {
   "cell_type": "code",
   "execution_count": 4,
   "id": "7447743e",
   "metadata": {},
   "outputs": [
    {
     "data": {
      "text/html": [
       "<div>\n",
       "<style scoped>\n",
       "    .dataframe tbody tr th:only-of-type {\n",
       "        vertical-align: middle;\n",
       "    }\n",
       "\n",
       "    .dataframe tbody tr th {\n",
       "        vertical-align: top;\n",
       "    }\n",
       "\n",
       "    .dataframe thead th {\n",
       "        text-align: right;\n",
       "    }\n",
       "</style>\n",
       "<table border=\"1\" class=\"dataframe\">\n",
       "  <thead>\n",
       "    <tr style=\"text-align: right;\">\n",
       "      <th></th>\n",
       "      <th>T</th>\n",
       "      <th>Реальные денежные доходы</th>\n",
       "      <th>Индекс реальных инвестиций в основной капитал</th>\n",
       "    </tr>\n",
       "  </thead>\n",
       "  <tbody>\n",
       "    <tr>\n",
       "      <th>0</th>\n",
       "      <td>2007 I</td>\n",
       "      <td>157.1</td>\n",
       "      <td>87.1</td>\n",
       "    </tr>\n",
       "    <tr>\n",
       "      <th>1</th>\n",
       "      <td>II</td>\n",
       "      <td>173.2</td>\n",
       "      <td>132.9</td>\n",
       "    </tr>\n",
       "    <tr>\n",
       "      <th>2</th>\n",
       "      <td>III</td>\n",
       "      <td>175.8</td>\n",
       "      <td>156.5</td>\n",
       "    </tr>\n",
       "    <tr>\n",
       "      <th>3</th>\n",
       "      <td>IV</td>\n",
       "      <td>258.7</td>\n",
       "      <td>226.7</td>\n",
       "    </tr>\n",
       "    <tr>\n",
       "      <th>4</th>\n",
       "      <td>2008 I</td>\n",
       "      <td>164.5</td>\n",
       "      <td>107.5</td>\n",
       "    </tr>\n",
       "    <tr>\n",
       "      <th>5</th>\n",
       "      <td>II</td>\n",
       "      <td>180.2</td>\n",
       "      <td>156.2</td>\n",
       "    </tr>\n",
       "    <tr>\n",
       "      <th>6</th>\n",
       "      <td>III</td>\n",
       "      <td>175.5</td>\n",
       "      <td>175.6</td>\n",
       "    </tr>\n",
       "    <tr>\n",
       "      <th>7</th>\n",
       "      <td>IV</td>\n",
       "      <td>230.9</td>\n",
       "      <td>223.7</td>\n",
       "    </tr>\n",
       "    <tr>\n",
       "      <th>8</th>\n",
       "      <td>2009 I</td>\n",
       "      <td>174.0</td>\n",
       "      <td>88.2</td>\n",
       "    </tr>\n",
       "    <tr>\n",
       "      <th>9</th>\n",
       "      <td>II</td>\n",
       "      <td>186.4</td>\n",
       "      <td>123.7</td>\n",
       "    </tr>\n",
       "    <tr>\n",
       "      <th>10</th>\n",
       "      <td>III</td>\n",
       "      <td>180.4</td>\n",
       "      <td>144.6</td>\n",
       "    </tr>\n",
       "    <tr>\n",
       "      <th>11</th>\n",
       "      <td>IV</td>\n",
       "      <td>261.1</td>\n",
       "      <td>203.1</td>\n",
       "    </tr>\n",
       "    <tr>\n",
       "      <th>12</th>\n",
       "      <td>2010 I</td>\n",
       "      <td>185.4</td>\n",
       "      <td>83.9</td>\n",
       "    </tr>\n",
       "    <tr>\n",
       "      <th>13</th>\n",
       "      <td>II</td>\n",
       "      <td>195.0</td>\n",
       "      <td>130.5</td>\n",
       "    </tr>\n",
       "    <tr>\n",
       "      <th>14</th>\n",
       "      <td>III</td>\n",
       "      <td>187.8</td>\n",
       "      <td>152.2</td>\n",
       "    </tr>\n",
       "    <tr>\n",
       "      <th>15</th>\n",
       "      <td>IV</td>\n",
       "      <td>274.8</td>\n",
       "      <td>225.7</td>\n",
       "    </tr>\n",
       "    <tr>\n",
       "      <th>16</th>\n",
       "      <td>2011 I</td>\n",
       "      <td>178.6</td>\n",
       "      <td>87.4</td>\n",
       "    </tr>\n",
       "    <tr>\n",
       "      <th>17</th>\n",
       "      <td>II</td>\n",
       "      <td>196.6</td>\n",
       "      <td>140.6</td>\n",
       "    </tr>\n",
       "    <tr>\n",
       "      <th>18</th>\n",
       "      <td>III</td>\n",
       "      <td>191.1</td>\n",
       "      <td>169.6</td>\n",
       "    </tr>\n",
       "    <tr>\n",
       "      <th>19</th>\n",
       "      <td>IV</td>\n",
       "      <td>284.4</td>\n",
       "      <td>259.5</td>\n",
       "    </tr>\n",
       "    <tr>\n",
       "      <th>20</th>\n",
       "      <td>2012 I</td>\n",
       "      <td>184.5</td>\n",
       "      <td>99.4</td>\n",
       "    </tr>\n",
       "    <tr>\n",
       "      <th>21</th>\n",
       "      <td>II</td>\n",
       "      <td>211.6</td>\n",
       "      <td>155.4</td>\n",
       "    </tr>\n",
       "    <tr>\n",
       "      <th>22</th>\n",
       "      <td>III</td>\n",
       "      <td>200.3</td>\n",
       "      <td>178.8</td>\n",
       "    </tr>\n",
       "    <tr>\n",
       "      <th>23</th>\n",
       "      <td>IV</td>\n",
       "      <td>300.0</td>\n",
       "      <td>267.7</td>\n",
       "    </tr>\n",
       "    <tr>\n",
       "      <th>24</th>\n",
       "      <td>2013 I</td>\n",
       "      <td>202.7</td>\n",
       "      <td>102.0</td>\n",
       "    </tr>\n",
       "    <tr>\n",
       "      <th>25</th>\n",
       "      <td>II</td>\n",
       "      <td>216.4</td>\n",
       "      <td>155.8</td>\n",
       "    </tr>\n",
       "    <tr>\n",
       "      <th>26</th>\n",
       "      <td>III</td>\n",
       "      <td>202.1</td>\n",
       "      <td>178.3</td>\n",
       "    </tr>\n",
       "    <tr>\n",
       "      <th>27</th>\n",
       "      <td>IV</td>\n",
       "      <td>310.2</td>\n",
       "      <td>270.8</td>\n",
       "    </tr>\n",
       "    <tr>\n",
       "      <th>28</th>\n",
       "      <td>2014 I</td>\n",
       "      <td>189.2</td>\n",
       "      <td>98.8</td>\n",
       "    </tr>\n",
       "    <tr>\n",
       "      <th>29</th>\n",
       "      <td>II</td>\n",
       "      <td>208.9</td>\n",
       "      <td>156.2</td>\n",
       "    </tr>\n",
       "    <tr>\n",
       "      <th>30</th>\n",
       "      <td>III</td>\n",
       "      <td>203.3</td>\n",
       "      <td>177.9</td>\n",
       "    </tr>\n",
       "    <tr>\n",
       "      <th>31</th>\n",
       "      <td>IV</td>\n",
       "      <td>286.8</td>\n",
       "      <td>263.4</td>\n",
       "    </tr>\n",
       "    <tr>\n",
       "      <th>32</th>\n",
       "      <td>2015 I</td>\n",
       "      <td>185.5</td>\n",
       "      <td>91.7</td>\n",
       "    </tr>\n",
       "    <tr>\n",
       "      <th>33</th>\n",
       "      <td>II</td>\n",
       "      <td>202.2</td>\n",
       "      <td>138.2</td>\n",
       "    </tr>\n",
       "    <tr>\n",
       "      <th>34</th>\n",
       "      <td>III</td>\n",
       "      <td>194.3</td>\n",
       "      <td>153.4</td>\n",
       "    </tr>\n",
       "    <tr>\n",
       "      <th>35</th>\n",
       "      <td>IV</td>\n",
       "      <td>301.5</td>\n",
       "      <td>238.9</td>\n",
       "    </tr>\n",
       "    <tr>\n",
       "      <th>36</th>\n",
       "      <td>2016 I</td>\n",
       "      <td>184.0</td>\n",
       "      <td>88.2</td>\n",
       "    </tr>\n",
       "    <tr>\n",
       "      <th>37</th>\n",
       "      <td>II</td>\n",
       "      <td>193.3</td>\n",
       "      <td>133.0</td>\n",
       "    </tr>\n",
       "    <tr>\n",
       "      <th>38</th>\n",
       "      <td>III</td>\n",
       "      <td>189.2</td>\n",
       "      <td>151.9</td>\n",
       "    </tr>\n",
       "    <tr>\n",
       "      <th>39</th>\n",
       "      <td>IV</td>\n",
       "      <td>281.4</td>\n",
       "      <td>235.9</td>\n",
       "    </tr>\n",
       "  </tbody>\n",
       "</table>\n",
       "</div>"
      ],
      "text/plain": [
       "         T  Реальные денежные доходы  \\\n",
       "0   2007 I                     157.1   \n",
       "1       II                     173.2   \n",
       "2      III                     175.8   \n",
       "3       IV                     258.7   \n",
       "4   2008 I                     164.5   \n",
       "5       II                     180.2   \n",
       "6      III                     175.5   \n",
       "7       IV                     230.9   \n",
       "8   2009 I                     174.0   \n",
       "9       II                     186.4   \n",
       "10     III                     180.4   \n",
       "11      IV                     261.1   \n",
       "12  2010 I                     185.4   \n",
       "13      II                     195.0   \n",
       "14     III                     187.8   \n",
       "15      IV                     274.8   \n",
       "16  2011 I                     178.6   \n",
       "17      II                     196.6   \n",
       "18     III                     191.1   \n",
       "19      IV                     284.4   \n",
       "20  2012 I                     184.5   \n",
       "21      II                     211.6   \n",
       "22     III                     200.3   \n",
       "23      IV                     300.0   \n",
       "24  2013 I                     202.7   \n",
       "25      II                     216.4   \n",
       "26     III                     202.1   \n",
       "27      IV                     310.2   \n",
       "28  2014 I                     189.2   \n",
       "29      II                     208.9   \n",
       "30     III                     203.3   \n",
       "31      IV                     286.8   \n",
       "32  2015 I                     185.5   \n",
       "33      II                     202.2   \n",
       "34     III                     194.3   \n",
       "35      IV                     301.5   \n",
       "36  2016 I                     184.0   \n",
       "37      II                     193.3   \n",
       "38     III                     189.2   \n",
       "39      IV                     281.4   \n",
       "\n",
       "    Индекс реальных инвестиций в основной капитал  \n",
       "0                                            87.1  \n",
       "1                                           132.9  \n",
       "2                                           156.5  \n",
       "3                                           226.7  \n",
       "4                                           107.5  \n",
       "5                                           156.2  \n",
       "6                                           175.6  \n",
       "7                                           223.7  \n",
       "8                                            88.2  \n",
       "9                                           123.7  \n",
       "10                                          144.6  \n",
       "11                                          203.1  \n",
       "12                                           83.9  \n",
       "13                                          130.5  \n",
       "14                                          152.2  \n",
       "15                                          225.7  \n",
       "16                                           87.4  \n",
       "17                                          140.6  \n",
       "18                                          169.6  \n",
       "19                                          259.5  \n",
       "20                                           99.4  \n",
       "21                                          155.4  \n",
       "22                                          178.8  \n",
       "23                                          267.7  \n",
       "24                                          102.0  \n",
       "25                                          155.8  \n",
       "26                                          178.3  \n",
       "27                                          270.8  \n",
       "28                                           98.8  \n",
       "29                                          156.2  \n",
       "30                                          177.9  \n",
       "31                                          263.4  \n",
       "32                                           91.7  \n",
       "33                                          138.2  \n",
       "34                                          153.4  \n",
       "35                                          238.9  \n",
       "36                                           88.2  \n",
       "37                                          133.0  \n",
       "38                                          151.9  \n",
       "39                                          235.9  "
      ]
     },
     "execution_count": 4,
     "metadata": {},
     "output_type": "execute_result"
    }
   ],
   "source": [
    "df = pd.read_excel('Т9 Домашняя работа №1.xlsx', sheet_name='Лист3', decimal=',', usecols=(0,1,2))\n",
    "df"
   ]
  },
  {
   "cell_type": "code",
   "execution_count": 5,
   "id": "2cd0fd04",
   "metadata": {},
   "outputs": [
    {
     "name": "stdout",
     "output_type": "stream",
     "text": [
      "<class 'pandas.core.frame.DataFrame'>\n",
      "RangeIndex: 40 entries, 0 to 39\n",
      "Data columns (total 3 columns):\n",
      " #   Column                                         Non-Null Count  Dtype  \n",
      "---  ------                                         --------------  -----  \n",
      " 0   T                                              40 non-null     object \n",
      " 1   Реальные денежные доходы                       40 non-null     float64\n",
      " 2   Индекс реальных инвестиций в основной капитал  40 non-null     float64\n",
      "dtypes: float64(2), object(1)\n",
      "memory usage: 1.1+ KB\n"
     ]
    }
   ],
   "source": [
    "df.info()"
   ]
  },
  {
   "cell_type": "code",
   "execution_count": 6,
   "id": "1adb02c3",
   "metadata": {},
   "outputs": [
    {
     "data": {
      "text/html": [
       "<div>\n",
       "<style scoped>\n",
       "    .dataframe tbody tr th:only-of-type {\n",
       "        vertical-align: middle;\n",
       "    }\n",
       "\n",
       "    .dataframe tbody tr th {\n",
       "        vertical-align: top;\n",
       "    }\n",
       "\n",
       "    .dataframe thead th {\n",
       "        text-align: right;\n",
       "    }\n",
       "</style>\n",
       "<table border=\"1\" class=\"dataframe\">\n",
       "  <thead>\n",
       "    <tr style=\"text-align: right;\">\n",
       "      <th></th>\n",
       "      <th>Реальные денежные доходы</th>\n",
       "      <th>Индекс реальных инвестиций в основной капитал</th>\n",
       "    </tr>\n",
       "  </thead>\n",
       "  <tbody>\n",
       "    <tr>\n",
       "      <th>count</th>\n",
       "      <td>40.000000</td>\n",
       "      <td>40.000000</td>\n",
       "    </tr>\n",
       "    <tr>\n",
       "      <th>mean</th>\n",
       "      <td>211.472500</td>\n",
       "      <td>160.272500</td>\n",
       "    </tr>\n",
       "    <tr>\n",
       "      <th>std</th>\n",
       "      <td>42.757204</td>\n",
       "      <td>56.011807</td>\n",
       "    </tr>\n",
       "    <tr>\n",
       "      <th>min</th>\n",
       "      <td>157.100000</td>\n",
       "      <td>83.900000</td>\n",
       "    </tr>\n",
       "    <tr>\n",
       "      <th>25%</th>\n",
       "      <td>184.375000</td>\n",
       "      <td>119.650000</td>\n",
       "    </tr>\n",
       "    <tr>\n",
       "      <th>50%</th>\n",
       "      <td>194.650000</td>\n",
       "      <td>154.400000</td>\n",
       "    </tr>\n",
       "    <tr>\n",
       "      <th>75%</th>\n",
       "      <td>220.025000</td>\n",
       "      <td>184.875000</td>\n",
       "    </tr>\n",
       "    <tr>\n",
       "      <th>max</th>\n",
       "      <td>310.200000</td>\n",
       "      <td>270.800000</td>\n",
       "    </tr>\n",
       "  </tbody>\n",
       "</table>\n",
       "</div>"
      ],
      "text/plain": [
       "       Реальные денежные доходы  Индекс реальных инвестиций в основной капитал\n",
       "count                 40.000000                                      40.000000\n",
       "mean                 211.472500                                     160.272500\n",
       "std                   42.757204                                      56.011807\n",
       "min                  157.100000                                      83.900000\n",
       "25%                  184.375000                                     119.650000\n",
       "50%                  194.650000                                     154.400000\n",
       "75%                  220.025000                                     184.875000\n",
       "max                  310.200000                                     270.800000"
      ]
     },
     "execution_count": 6,
     "metadata": {},
     "output_type": "execute_result"
    }
   ],
   "source": [
    "df.describe()"
   ]
  },
  {
   "cell_type": "code",
   "execution_count": 7,
   "id": "a3ec2ceb",
   "metadata": {},
   "outputs": [
    {
     "data": {
      "image/png": "[encoded data removed]",
      "text/plain": [
       "<Figure size 432x288 with 1 Axes>"
      ]
     },
     "metadata": {
      "needs_background": "light"
     },
     "output_type": "display_data"
    }
   ],
   "source": [
    "plt.plot(df[\"Индекс реальных инвестиций в основной капитал\"]) #X\n",
    "plt.title(\"Индекс реальных инвестиций в основной капитал\")\n",
    "plt.show()"
   ]
  },
  {
   "cell_type": "code",
   "execution_count": 8,
   "id": "7857d096",
   "metadata": {},
   "outputs": [
    {
     "data": {
      "image/png": "[encoded data removed]",
      "text/plain": [
       "<Figure size 432x288 with 1 Axes>"
      ]
     },
     "metadata": {
      "needs_background": "light"
     },
     "output_type": "display_data"
    }
   ],
   "source": [
    "plt.plot(df[\"Реальные денежные доходы\"]) #Y\n",
    "plt.title(\"Реальные денежные доходы\")\n",
    "plt.show()"
   ]
  },
  {
   "cell_type": "markdown",
   "id": "d91385f4",
   "metadata": {},
   "source": [
    "# Анализ линейной модели"
   ]
  },
  {
   "cell_type": "code",
   "execution_count": 9,
   "id": "d0c53f70",
   "metadata": {},
   "outputs": [],
   "source": [
    "y = df[\"Реальные денежные доходы\"]\n",
    "x = df[\"Индекс реальных инвестиций в основной капитал\"]"
   ]
  },
  {
   "cell_type": "code",
   "execution_count": 10,
   "id": "cd313c98",
   "metadata": {},
   "outputs": [
    {
     "data": {
      "image/png": "[encoded data removed]",
      "text/plain": [
       "<Figure size 432x288 with 1 Axes>"
      ]
     },
     "metadata": {
      "needs_background": "light"
     },
     "output_type": "display_data"
    }
   ],
   "source": [
    "plt.scatter(x, y)\n",
    "plt.title('Диаграмма рассеяния')\n",
    "plt.xlabel('Индекс реальных инвестиций в основной капитал, x')\n",
    "plt.ylabel('Реальные денежные доходы, y')\n",
    "\n",
    "z = np.polyfit(x, y, 1) #расчет линии тренда\n",
    "p = np.poly1d(z)\n",
    "\n",
    "plt.plot(x, p(x));"
   ]
  },
  {
   "cell_type": "markdown",
   "id": "67371a62",
   "metadata": {},
   "source": [
    "Вывод: тренд восходящий линейная зависимость между переменными есть"
   ]
  },
  {
   "cell_type": "code",
   "execution_count": 11,
   "id": "bf2fca36",
   "metadata": {},
   "outputs": [
    {
     "data": {
      "text/plain": [
       "0.8852042970970887"
      ]
     },
     "execution_count": 11,
     "metadata": {},
     "output_type": "execute_result"
    }
   ],
   "source": [
    "Corr_x_y = np.corrcoef(x,y)[0][1]\n",
    "Corr_x_y"
   ]
  },
  {
   "cell_type": "markdown",
   "id": "2d73015b",
   "metadata": {},
   "source": [
    "Вывод: зависимость прямая, степень тесноты высокая"
   ]
  },
  {
   "cell_type": "code",
   "execution_count": 12,
   "id": "e22af1ba",
   "metadata": {
    "scrolled": true
   },
   "outputs": [
    {
     "name": "stdout",
     "output_type": "stream",
     "text": [
      "                                        Линейная модель\n",
      "===============================================================================================\n",
      "Model:                      OLS                             Adj. R-squared:            0.778   \n",
      "Dependent Variable:         Реальные денежные доходы        AIC:                       355.7228\n",
      "Date:                       2024-02-12 22:14                BIC:                       359.1005\n",
      "No. Observations:           40                              Log-Likelihood:            -175.86 \n",
      "Df Model:                   1                               F-statistic:               137.6   \n",
      "Df Residuals:               38                              Prob (F-statistic):        3.39e-14\n",
      "R-squared:                  0.784                           Scale:                     406.05  \n",
      "-----------------------------------------------------------------------------------------------\n",
      "                                               Coef.   Std.Err.    t    P>|t|   [0.025  0.975] \n",
      "-----------------------------------------------------------------------------------------------\n",
      "const                                         103.1716   9.7672 10.5631 0.0000 83.3989 122.9442\n",
      "Индекс реальных инвестиций в основной капитал   0.6757   0.0576 11.7299 0.0000  0.5591   0.7924\n",
      "-----------------------------------------------------------------------------------------------\n",
      "Omnibus:                         2.078                  Durbin-Watson:                    1.547\n",
      "Prob(Omnibus):                   0.354                  Jarque-Bera (JB):                 1.516\n",
      "Skew:                            -0.270                 Prob(JB):                         0.469\n",
      "Kurtosis:                        2.214                  Condition No.:                    520  \n",
      "===============================================================================================\n",
      "\n"
     ]
    }
   ],
   "source": [
    "X = sm.add_constant(x)\n",
    "model = sm.OLS(y, X, hasconst = True).fit()\n",
    "\n",
    "print(model.summary2(title = 'Линейная модель'))"
   ]
  },
  {
   "cell_type": "code",
   "execution_count": 13,
   "id": "08841354",
   "metadata": {},
   "outputs": [
    {
     "data": {
      "text/plain": [
       "20.15077829383082"
      ]
     },
     "execution_count": 13,
     "metadata": {},
     "output_type": "execute_result"
    }
   ],
   "source": [
    "model.scale**0.5 #Стандартная ошибка"
   ]
  },
  {
   "cell_type": "markdown",
   "id": "1d25f5e1",
   "metadata": {},
   "source": [
    "Уравнение регрессии:\n",
    "\n",
    "$y_i = b_0 + b_1 * x_i + \\varepsilon_i$\n",
    "\n",
    "$y_i = 103.1716 + 0.6757 * x_1 + \\varepsilon_i \\\\\n",
    "\\sigma = 20.1508 \\\\\n",
    "\\sigma_{b_0} = 9.767 \\\\\n",
    "\\sigma_{b_1} = 0.058\n",
    "$"
   ]
  },
  {
   "cell_type": "markdown",
   "id": "1f9781e4",
   "metadata": {},
   "source": [
    "###### Оценка значимости пар-ов ур-я по критерию Стьюдента"
   ]
  },
  {
   "cell_type": "code",
   "execution_count": 14,
   "id": "8a6d9d27",
   "metadata": {},
   "outputs": [
    {
     "data": {
      "text/plain": [
       "2.0243941645751367"
      ]
     },
     "execution_count": 14,
     "metadata": {},
     "output_type": "execute_result"
    }
   ],
   "source": [
    "t_cr = sts.t(model.df_resid).isf(0.05/2)\n",
    "t_cr"
   ]
  },
  {
   "cell_type": "code",
   "execution_count": 15,
   "id": "0278e184",
   "metadata": {},
   "outputs": [
    {
     "name": "stdout",
     "output_type": "stream",
     "text": [
      "t расч: 10.5631\n",
      "Коэффициент: const по критерию Стьюдента статистически значим\n",
      "t расч: 11.7299\n",
      "Коэффициент: Индекс реальных инвестиций в основной капитал по критерию Стьюдента статистически значим\n"
     ]
    }
   ],
   "source": [
    "for x_name, t in model.tvalues.items():\n",
    "    print(f't расч: {round(abs(t),4)}')\n",
    "    if t_cr < abs(t):\n",
    "        print(f'Коэффициент: {x_name} по критерию Стьюдента статистически значим')\n",
    "    else:\n",
    "        print(f'Коэффициент: {x_name} по критерию Стьюдента статистически не значим')"
   ]
  },
  {
   "cell_type": "markdown",
   "id": "1727934a",
   "metadata": {},
   "source": [
    "###### Оценка значимости ур-я регрессии по критерию Фишера"
   ]
  },
  {
   "cell_type": "code",
   "execution_count": 16,
   "id": "49e05442",
   "metadata": {},
   "outputs": [
    {
     "data": {
      "text/plain": [
       "4.098171730880841"
      ]
     },
     "execution_count": 16,
     "metadata": {},
     "output_type": "execute_result"
    }
   ],
   "source": [
    "F_cr = sts.f(model.df_model, model.df_resid).isf(0.05)\n",
    "F_cr"
   ]
  },
  {
   "cell_type": "code",
   "execution_count": 17,
   "id": "4357b292",
   "metadata": {},
   "outputs": [
    {
     "name": "stdout",
     "output_type": "stream",
     "text": [
      "Fрасч 137.5899\n",
      "По критерию Фишера, уравнение регрессии статистически значимо\n"
     ]
    }
   ],
   "source": [
    "print(f'Fрасч {round(model.fvalue,4)}')\n",
    "\n",
    "if model.fvalue > F_cr:\n",
    "    print('По критерию Фишера, уравнение регрессии статистически значимо')"
   ]
  },
  {
   "cell_type": "markdown",
   "id": "5e5ec7bf",
   "metadata": {},
   "source": [
    "###### Оценка точности модели"
   ]
  },
  {
   "cell_type": "code",
   "execution_count": 18,
   "id": "d27a3225",
   "metadata": {},
   "outputs": [
    {
     "data": {
      "text/plain": [
       "array([ -4.92764428, -19.77607971, -33.12330846,   2.34044334,\n",
       "       -11.31253692, -28.52058945, -46.32975206, -23.43236657,\n",
       "        11.22905269,  -0.35936343, -20.48212108,  20.68767208,\n",
       "        25.53469183,   3.64567236, -18.21766932,  19.11617337,\n",
       "        16.36963672,  -1.57920096, -26.67537187,   5.87649831,\n",
       "        14.16087634,   3.41999458, -23.69208816,  15.93551205,\n",
       "        30.60397826,   7.94970257, -21.55422314,  24.04074895,\n",
       "        19.26631436,   0.17941055, -20.08393113,   5.64115118,\n",
       "        20.36399758,   5.64255112, -12.52854536,  36.89653695,\n",
       "        21.22905269,   0.25634728, -16.61495031,  18.82372705])"
      ]
     },
     "execution_count": 18,
     "metadata": {},
     "output_type": "execute_result"
    }
   ],
   "source": [
    "remains = model.resid.to_numpy()\n",
    "remains"
   ]
  },
  {
   "cell_type": "code",
   "execution_count": 19,
   "id": "f3f478cd",
   "metadata": {},
   "outputs": [
    {
     "data": {
      "text/plain": [
       "array([157.1, 173.2, 175.8, 258.7, 164.5, 180.2, 175.5, 230.9, 174. ,\n",
       "       186.4, 180.4, 261.1, 185.4, 195. , 187.8, 274.8, 178.6, 196.6,\n",
       "       191.1, 284.4, 184.5, 211.6, 200.3, 300. , 202.7, 216.4, 202.1,\n",
       "       310.2, 189.2, 208.9, 203.3, 286.8, 185.5, 202.2, 194.3, 301.5,\n",
       "       184. , 193.3, 189.2, 281.4])"
      ]
     },
     "execution_count": 19,
     "metadata": {},
     "output_type": "execute_result"
    }
   ],
   "source": [
    "yi_real = y.to_numpy().reshape(-1)\n",
    "yi_real"
   ]
  },
  {
   "cell_type": "code",
   "execution_count": 20,
   "id": "3d009100",
   "metadata": {},
   "outputs": [
    {
     "name": "stdout",
     "output_type": "stream",
     "text": [
      "8.0774%\n"
     ]
    }
   ],
   "source": [
    "mean_error_approx = (sum(abs(remains/yi_real))/len(remains))*100\n",
    "print(f'{round(mean_error_approx,4)}%')"
   ]
  },
  {
   "cell_type": "markdown",
   "id": "856617c1",
   "metadata": {},
   "source": [
    "меньше 10, значит точность модели высокая"
   ]
  },
  {
   "cell_type": "markdown",
   "id": "4ba58b93",
   "metadata": {},
   "source": [
    "###### Вывод: оценивание качества модели показало, что качество полученного уравнения регрессии высокое"
   ]
  },
  {
   "cell_type": "markdown",
   "id": "b6e1614e",
   "metadata": {},
   "source": [
    "# Анализ полулогарифмической модели"
   ]
  },
  {
   "cell_type": "code",
   "execution_count": 21,
   "id": "b929fda3",
   "metadata": {},
   "outputs": [
    {
     "data": {
      "text/plain": [
       "0    5.056883\n",
       "1    5.154447\n",
       "2    5.169347\n",
       "3    5.555669\n",
       "4    5.102911\n",
       "Name: Реальные денежные доходы, dtype: float64"
      ]
     },
     "execution_count": 21,
     "metadata": {},
     "output_type": "execute_result"
    }
   ],
   "source": [
    "ln_y = y.map(np.log)\n",
    "ln_y.head()"
   ]
  },
  {
   "cell_type": "code",
   "execution_count": 22,
   "id": "9db08419",
   "metadata": {},
   "outputs": [
    {
     "data": {
      "image/png": "[encoded data removed]",
      "text/plain": [
       "<Figure size 432x288 with 1 Axes>"
      ]
     },
     "metadata": {
      "needs_background": "light"
     },
     "output_type": "display_data"
    }
   ],
   "source": [
    "plt.scatter(x, ln_y)\n",
    "plt.title('Диаграмма рассеяния')\n",
    "plt.xlabel('Индекс реальных инвестиций в основной капитал, x')\n",
    "plt.ylabel('Реальные денежные доходы, ln(y)')\n",
    "\n",
    "z = np.polyfit(x, ln_y, 1) #расчет линии тренда\n",
    "p = np.poly1d(z)\n",
    "\n",
    "plt.plot(x, p(x));"
   ]
  },
  {
   "cell_type": "markdown",
   "id": "2ac5086b",
   "metadata": {},
   "source": [
    "Вывод: тренд восходящий линейная зависимость между переменными есть"
   ]
  },
  {
   "cell_type": "code",
   "execution_count": 23,
   "id": "bbdece29",
   "metadata": {},
   "outputs": [
    {
     "data": {
      "text/plain": [
       "0.8845838759585943"
      ]
     },
     "execution_count": 23,
     "metadata": {},
     "output_type": "execute_result"
    }
   ],
   "source": [
    "Corr_x_y = np.corrcoef(x,ln_y)[0][1]\n",
    "Corr_x_y"
   ]
  },
  {
   "cell_type": "markdown",
   "id": "9ab367ae",
   "metadata": {},
   "source": [
    "Вывод: зависимость прямая, степень тесноты высокая"
   ]
  },
  {
   "cell_type": "code",
   "execution_count": 24,
   "id": "395ae1ba",
   "metadata": {},
   "outputs": [
    {
     "name": "stdout",
     "output_type": "stream",
     "text": [
      "                                Полулогарифмическая модель\n",
      "===========================================================================================\n",
      "Model:                     OLS                           Adj. R-squared:          0.777    \n",
      "Dependent Variable:        Реальные денежные доходы      AIC:                     -78.7898 \n",
      "Date:                      2024-02-12 22:18              BIC:                     -75.4120 \n",
      "No. Observations:          40                            Log-Likelihood:          41.395   \n",
      "Df Model:                  1                             F-statistic:             136.7    \n",
      "Df Residuals:              38                            Prob (F-statistic):      3.73e-14 \n",
      "R-squared:                 0.782                         Scale:                   0.0077790\n",
      "-------------------------------------------------------------------------------------------\n",
      "                                              Coef.  Std.Err.    t     P>|t|  [0.025 0.975]\n",
      "-------------------------------------------------------------------------------------------\n",
      "const                                         4.8637   0.0428 113.7696 0.0000 4.7771 4.9502\n",
      "Индекс реальных инвестиций в основной капитал 0.0029   0.0003  11.6920 0.0000 0.0024 0.0035\n",
      "-------------------------------------------------------------------------------------------\n",
      "Omnibus:                       1.942                 Durbin-Watson:                   1.434\n",
      "Prob(Omnibus):                 0.379                 Jarque-Bera (JB):                1.699\n",
      "Skew:                          -0.380                Prob(JB):                        0.428\n",
      "Kurtosis:                      2.334                 Condition No.:                   520  \n",
      "===========================================================================================\n",
      "\n"
     ]
    }
   ],
   "source": [
    "X = sm.add_constant(x)\n",
    "ln_model = sm.OLS(ln_y, X, hasconst = True).fit()\n",
    "\n",
    "print(ln_model.summary2(title = 'Полулогарифмическая модель'))"
   ]
  },
  {
   "cell_type": "code",
   "execution_count": 26,
   "id": "92d5fd1f",
   "metadata": {},
   "outputs": [
    {
     "data": {
      "text/plain": [
       "0.08819861688469517"
      ]
     },
     "execution_count": 26,
     "metadata": {},
     "output_type": "execute_result"
    }
   ],
   "source": [
    "ln_model.scale**0.5"
   ]
  },
  {
   "cell_type": "markdown",
   "id": "eeb1b245",
   "metadata": {},
   "source": [
    "Уравнение регрессии:\n",
    "\n",
    "$ln{y_i} = b_0 + b_1 * x_i + ln{\\varepsilon_i}$\n",
    "\n",
    "$ln{y_i} = 4.8637 + 0.0029 * x_1 + ln{\\varepsilon_i} \\\\\n",
    "\\sigma = 0.0882 \\\\\n",
    "\\sigma_{b_0} = 0.043 \\\\\n",
    "\\sigma_{b_1} = 0.0003\n",
    "$"
   ]
  },
  {
   "cell_type": "markdown",
   "id": "15fef076",
   "metadata": {},
   "source": [
    "###### Оценка значимости пар-ов ур-я по критерию Стьюдента"
   ]
  },
  {
   "cell_type": "code",
   "execution_count": 27,
   "id": "5a8ef2ee",
   "metadata": {},
   "outputs": [
    {
     "data": {
      "text/plain": [
       "2.0243941645751367"
      ]
     },
     "execution_count": 27,
     "metadata": {},
     "output_type": "execute_result"
    }
   ],
   "source": [
    "t_cr = sts.t(ln_model.df_resid).isf(0.05/2)\n",
    "t_cr"
   ]
  },
  {
   "cell_type": "code",
   "execution_count": 28,
   "id": "6dcfde7a",
   "metadata": {},
   "outputs": [
    {
     "name": "stdout",
     "output_type": "stream",
     "text": [
      "t расч: 113.7696\n",
      "Коэффициент: const по критерию Стьюдента статистически значим\n",
      "t расч: 11.692\n",
      "Коэффициент: Индекс реальных инвестиций в основной капитал по критерию Стьюдента статистически значим\n"
     ]
    }
   ],
   "source": [
    "for x_name, t in ln_model.tvalues.items():\n",
    "    print(f't расч: {round(abs(t),4)}')\n",
    "    if t_cr < abs(t):\n",
    "        print(f'Коэффициент: {x_name} по критерию Стьюдента статистически значим')\n",
    "    else:\n",
    "        print(f'Коэффициент: {x_name} по критерию Стьюдента статистически не значим')"
   ]
  },
  {
   "cell_type": "markdown",
   "id": "22ce9365",
   "metadata": {},
   "source": [
    "###### Оценка значимости ур-я регрессии по критерию Фишера"
   ]
  },
  {
   "cell_type": "code",
   "execution_count": 29,
   "id": "b40a7bd0",
   "metadata": {},
   "outputs": [
    {
     "data": {
      "text/plain": [
       "4.098171730880841"
      ]
     },
     "execution_count": 29,
     "metadata": {},
     "output_type": "execute_result"
    }
   ],
   "source": [
    "F_cr = sts.f(ln_model.df_model, ln_model.df_resid).isf(0.05)\n",
    "F_cr"
   ]
  },
  {
   "cell_type": "code",
   "execution_count": 30,
   "id": "0a1309fa",
   "metadata": {},
   "outputs": [
    {
     "name": "stdout",
     "output_type": "stream",
     "text": [
      "Fрасч 136.7035\n",
      "По критерию Фишера, уравнение регрессии статистически значимо\n"
     ]
    }
   ],
   "source": [
    "print(f'Fрасч {round(ln_model.fvalue,4)}')\n",
    "\n",
    "if ln_model.fvalue > F_cr:\n",
    "    print('По критерию Фишера, уравнение регрессии статистически значимо')"
   ]
  },
  {
   "cell_type": "markdown",
   "id": "dcba831f",
   "metadata": {},
   "source": [
    "###### Оценка точности модели"
   ]
  },
  {
   "cell_type": "code",
   "execution_count": 31,
   "id": "14c50b0d",
   "metadata": {},
   "outputs": [
    {
     "name": "stdout",
     "output_type": "stream",
     "text": [
      "1.3803%\n"
     ]
    }
   ],
   "source": [
    "remains = ln_model.resid.to_numpy()\n",
    "ln_yi_real = ln_y.to_numpy().reshape(-1)\n",
    "mean_error_approx = (sum(abs(remains / ln_yi_real))/len(remains))*100\n",
    "print(f'{round(mean_error_approx,4)}%')"
   ]
  },
  {
   "cell_type": "markdown",
   "id": "fa3c37aa",
   "metadata": {},
   "source": [
    "меньше 10, значит точность модели высокая"
   ]
  },
  {
   "cell_type": "markdown",
   "id": "4e28bc45",
   "metadata": {},
   "source": [
    "###### Вывод: оценивание качества модели показало, что качество полученного уравнения регрессии высокое"
   ]
  },
  {
   "cell_type": "markdown",
   "id": "150530d6",
   "metadata": {},
   "source": [
    "# Сравнение линейной и полулогарифмической моделей"
   ]
  },
  {
   "cell_type": "markdown",
   "id": "24d7bde2",
   "metadata": {},
   "source": [
    "## Метод Зарембки"
   ]
  },
  {
   "cell_type": "markdown",
   "id": "464cafaf",
   "metadata": {},
   "source": [
    "H0 - Модели не имеют статистически значимых различий\n",
    "\n",
    "H1 - Модели имеют статистически значимые различия"
   ]
  },
  {
   "cell_type": "code",
   "execution_count": 32,
   "id": "ffe0cd2d",
   "metadata": {},
   "outputs": [
    {
     "data": {
      "text/plain": [
       "207.71962401469497"
      ]
     },
     "execution_count": 32,
     "metadata": {},
     "output_type": "execute_result"
    }
   ],
   "source": [
    "y_gm = sts.gmean(y)\n",
    "y_gm"
   ]
  },
  {
   "cell_type": "code",
   "execution_count": 33,
   "id": "614410a5",
   "metadata": {},
   "outputs": [
    {
     "data": {
      "text/plain": [
       "0    0.756308\n",
       "1    0.833816\n",
       "2    0.846333\n",
       "3    1.245429\n",
       "4    0.791933\n",
       "Name: Реальные денежные доходы, dtype: float64"
      ]
     },
     "execution_count": 33,
     "metadata": {},
     "output_type": "execute_result"
    }
   ],
   "source": [
    "y_star = y/y_gm\n",
    "y_star.head()"
   ]
  },
  {
   "cell_type": "code",
   "execution_count": 34,
   "id": "48c141bc",
   "metadata": {},
   "outputs": [
    {
     "name": "stdout",
     "output_type": "stream",
     "text": [
      "                             Results: Ordinary least squares\n",
      "==========================================================================================\n",
      "Model:                    OLS                           Adj. R-squared:          0.778    \n",
      "Dependent Variable:       Реальные денежные доходы      AIC:                     -71.1724 \n",
      "Date:                     2024-02-12 22:18              BIC:                     -67.7946 \n",
      "No. Observations:         40                            Log-Likelihood:          37.586   \n",
      "Df Model:                 1                             F-statistic:             137.6    \n",
      "Df Residuals:             38                            Prob (F-statistic):      3.39e-14 \n",
      "R-squared:                0.784                         Scale:                   0.0094108\n",
      "------------------------------------------------------------------------------------------\n",
      "                                              Coef.  Std.Err.    t    P>|t|  [0.025 0.975]\n",
      "------------------------------------------------------------------------------------------\n",
      "const                                         0.4967   0.0470 10.5631 0.0000 0.4015 0.5919\n",
      "Индекс реальных инвестиций в основной капитал 0.0033   0.0003 11.7299 0.0000 0.0027 0.0038\n",
      "------------------------------------------------------------------------------------------\n",
      "Omnibus:                      2.078                 Durbin-Watson:                   1.547\n",
      "Prob(Omnibus):                0.354                 Jarque-Bera (JB):                1.516\n",
      "Skew:                         -0.270                Prob(JB):                        0.469\n",
      "Kurtosis:                     2.214                 Condition No.:                   520  \n",
      "==========================================================================================\n",
      "\n"
     ]
    }
   ],
   "source": [
    "model_star = sm.OLS(y_star, X).fit()\n",
    "\n",
    "print(model_star.summary2())"
   ]
  },
  {
   "cell_type": "code",
   "execution_count": 35,
   "id": "099ea9a9",
   "metadata": {},
   "outputs": [
    {
     "data": {
      "text/plain": [
       "0.35761208811358874"
      ]
     },
     "execution_count": 35,
     "metadata": {},
     "output_type": "execute_result"
    }
   ],
   "source": [
    "ESS1 = model_star.ssr\n",
    "ESS1"
   ]
  },
  {
   "cell_type": "code",
   "execution_count": 36,
   "id": "2de11b8c",
   "metadata": {
    "scrolled": true
   },
   "outputs": [
    {
     "name": "stdout",
     "output_type": "stream",
     "text": [
      "                               Results: Ordinary least squares\n",
      "==============================================================================================\n",
      "Model:                      OLS                            Adj. R-squared:           0.777    \n",
      "Dependent Variable:         Реальные денежные доходы       AIC:                      -78.7898 \n",
      "Date:                       2024-02-12 22:18               BIC:                      -75.4120 \n",
      "No. Observations:           40                             Log-Likelihood:           41.395   \n",
      "Df Model:                   1                              F-statistic:              136.7    \n",
      "Df Residuals:               38                             Prob (F-statistic):       3.73e-14 \n",
      "R-squared:                  0.782                          Scale:                    0.0077790\n",
      "----------------------------------------------------------------------------------------------\n",
      "                                               Coef.  Std.Err.    t     P>|t|   [0.025  0.975]\n",
      "----------------------------------------------------------------------------------------------\n",
      "const                                         -0.4725   0.0428 -11.0525 0.0000 -0.5590 -0.3860\n",
      "Индекс реальных инвестиций в основной капитал  0.0029   0.0003  11.6920 0.0000  0.0024  0.0035\n",
      "----------------------------------------------------------------------------------------------\n",
      "Omnibus:                        1.942                  Durbin-Watson:                    1.434\n",
      "Prob(Omnibus):                  0.379                  Jarque-Bera (JB):                 1.699\n",
      "Skew:                           -0.380                 Prob(JB):                         0.428\n",
      "Kurtosis:                       2.334                  Condition No.:                    520  \n",
      "==============================================================================================\n",
      "\n"
     ]
    }
   ],
   "source": [
    "ln_y_star = y_star.map(np.log)\n",
    "ln_model_star = sm.OLS(ln_y_star, X).fit()\n",
    "\n",
    "print(ln_model_star.summary2())"
   ]
  },
  {
   "cell_type": "code",
   "execution_count": 37,
   "id": "219dfb4c",
   "metadata": {},
   "outputs": [
    {
     "data": {
      "text/plain": [
       "0.295601848774183"
      ]
     },
     "execution_count": 37,
     "metadata": {},
     "output_type": "execute_result"
    }
   ],
   "source": [
    "ESS2 = ln_model_star.ssr\n",
    "ESS2"
   ]
  },
  {
   "attachments": {
    "image.png": {
     "image/png": "[encoded data removed]"
    }
   },
   "cell_type": "markdown",
   "id": "8b49d8dc",
   "metadata": {},
   "source": [
    "![image.png](attachment:image.png)"
   ]
  },
  {
   "cell_type": "code",
   "execution_count": 38,
   "id": "aab37a81",
   "metadata": {},
   "outputs": [
    {
     "data": {
      "text/plain": [
       "3.8087080562536486"
      ]
     },
     "execution_count": 38,
     "metadata": {},
     "output_type": "execute_result"
    }
   ],
   "source": [
    "n = len(y)\n",
    "Z = abs(n/2 * np.log(ESS1/ESS2))\n",
    "Z"
   ]
  },
  {
   "cell_type": "code",
   "execution_count": 39,
   "id": "a7786b7c",
   "metadata": {},
   "outputs": [
    {
     "data": {
      "text/plain": [
       "3.8414588206941285"
      ]
     },
     "execution_count": 39,
     "metadata": {},
     "output_type": "execute_result"
    }
   ],
   "source": [
    "chi2_cr = sts.chi2(1).isf(0.05)\n",
    "chi2_cr"
   ]
  },
  {
   "cell_type": "code",
   "execution_count": 40,
   "id": "7a765f45",
   "metadata": {},
   "outputs": [
    {
     "name": "stdout",
     "output_type": "stream",
     "text": [
      "H0 не отклоняется\n"
     ]
    }
   ],
   "source": [
    "if Z < chi2_cr:\n",
    "    print(\"H0 не отклоняется\")\n",
    "else:\n",
    "    print(\"H0 отклоняется\")"
   ]
  },
  {
   "cell_type": "markdown",
   "id": "85451fa2",
   "metadata": {},
   "source": [
    "###### Вывод: исходя из метода Зарембки, выбираем линейную модель"
   ]
  },
  {
   "cell_type": "markdown",
   "id": "cbf3a863",
   "metadata": {},
   "source": [
    "## Тест Бокса - Кокса"
   ]
  },
  {
   "attachments": {
    "image.png": {
     "image/png": "[encoded data removed]"
    }
   },
   "cell_type": "markdown",
   "id": "1520ccf6",
   "metadata": {},
   "source": [
    "![image.png](attachment:image.png)\n",
    "H0: λ = 1. Модель является линейной\n",
    "\n",
    "H1: λ → 0. Модель является полулогарифмической"
   ]
  },
  {
   "cell_type": "code",
   "execution_count": 41,
   "id": "7121fe43",
   "metadata": {},
   "outputs": [
    {
     "data": {
      "text/plain": [
       "0    0.756308\n",
       "1    0.833816\n",
       "2    0.846333\n",
       "3    1.245429\n",
       "4    0.791933\n",
       "Name: Реальные денежные доходы, dtype: float64"
      ]
     },
     "execution_count": 41,
     "metadata": {},
     "output_type": "execute_result"
    }
   ],
   "source": [
    "y_star.head()"
   ]
  },
  {
   "cell_type": "code",
   "execution_count": 43,
   "id": "b5975221",
   "metadata": {},
   "outputs": [
    {
     "name": "stdout",
     "output_type": "stream",
     "text": [
      "0.9999\n"
     ]
    }
   ],
   "source": [
    "ESS_min = np.inf\n",
    "\n",
    "for lambd in np.arange(0.0001, 1, 0.0001):\n",
    "    y_B_C = y_star**lambd / lambd\n",
    "    X_B_C = X**lambd / lambd\n",
    "    model_B_C = sm.OLS(y_B_C, X_B_C).fit()\n",
    "    ESS = model_B_C.ssr\n",
    "    \n",
    "    if ESS_min > ESS:\n",
    "        ESS_min = ESS\n",
    "        lambd_min = lambd\n",
    "        min_model_B_C = model_B_C\n",
    "        \n",
    "print(lambd_min)"
   ]
  },
  {
   "cell_type": "markdown",
   "id": "face7588",
   "metadata": {},
   "source": [
    "Минимальный ESS при  λ = 0.9999, значит берем λ = 1. H0 не отклоняется"
   ]
  },
  {
   "cell_type": "code",
   "execution_count": 44,
   "id": "fb1ce3b9",
   "metadata": {},
   "outputs": [
    {
     "name": "stdout",
     "output_type": "stream",
     "text": [
      "                             Results: Ordinary least squares\n",
      "==========================================================================================\n",
      "Model:                    OLS                           Adj. R-squared:          0.778    \n",
      "Dependent Variable:       Реальные денежные доходы      AIC:                     -71.1716 \n",
      "Date:                     2024-02-12 22:22              BIC:                     -67.7938 \n",
      "No. Observations:         40                            Log-Likelihood:          37.586   \n",
      "Df Model:                 1                             F-statistic:             137.6    \n",
      "Df Residuals:             38                            Prob (F-statistic):      3.39e-14 \n",
      "R-squared:                0.784                         Scale:                   0.0094110\n",
      "------------------------------------------------------------------------------------------\n",
      "                                              Coef.  Std.Err.    t    P>|t|  [0.025 0.975]\n",
      "------------------------------------------------------------------------------------------\n",
      "const                                         0.4967   0.0470 10.5632 0.0000 0.4015 0.5919\n",
      "Индекс реальных инвестиций в основной капитал 0.0033   0.0003 11.7296 0.0000 0.0027 0.0038\n",
      "------------------------------------------------------------------------------------------\n",
      "Omnibus:                      2.078                 Durbin-Watson:                   1.547\n",
      "Prob(Omnibus):                0.354                 Jarque-Bera (JB):                1.516\n",
      "Skew:                         -0.270                Prob(JB):                        0.469\n",
      "Kurtosis:                     2.214                 Condition No.:                   520  \n",
      "==========================================================================================\n",
      "\n"
     ]
    }
   ],
   "source": [
    "print(min_model_B_C.summary2())"
   ]
  },
  {
   "cell_type": "markdown",
   "id": "9e37a2c5",
   "metadata": {},
   "source": [
    "###### Вывод: исходя из теста Бокса-Кокса, выбираем линейную модель"
   ]
  },
  {
   "cell_type": "markdown",
   "id": "81b58e6f",
   "metadata": {},
   "source": [
    "## Критерий Акаике и критерий Шварца"
   ]
  },
  {
   "attachments": {
    "image.png": {
     "image/png": "[encoded data removed]"
    }
   },
   "cell_type": "markdown",
   "id": "26041921",
   "metadata": {},
   "source": [
    "![image.png](attachment:image.png)"
   ]
  },
  {
   "cell_type": "code",
   "execution_count": 45,
   "id": "1b71dd2d",
   "metadata": {},
   "outputs": [
    {
     "data": {
      "text/plain": [
       "(8.843069597323348, -2.0197442233217426)"
      ]
     },
     "execution_count": 45,
     "metadata": {},
     "output_type": "execute_result"
    }
   ],
   "source": [
    "n = len(y)\n",
    "k = 1\n",
    "ESS1 = model.ssr\n",
    "ESS2 = ln_model.ssr\n",
    "\n",
    "AIC_lin = np.log(ESS1/n) + (2*k)/n + 1 + np.log(2*np.pi)\n",
    "AIC_log = np.log(ESS2/n) + (2*k)/n + 1 + np.log(2*np.pi)\n",
    "AIC_lin, AIC_log"
   ]
  },
  {
   "attachments": {
    "image.png": {
     "image/png": "[encoded data removed]"
    }
   },
   "cell_type": "markdown",
   "id": "6db759c1",
   "metadata": {},
   "source": [
    "![image.png](attachment:image.png)"
   ]
  },
  {
   "cell_type": "code",
   "execution_count": 46,
   "id": "384fe824",
   "metadata": {},
   "outputs": [
    {
     "data": {
      "text/plain": [
       "(8.885291583676196, -1.9775222369688938)"
      ]
     },
     "execution_count": 46,
     "metadata": {},
     "output_type": "execute_result"
    }
   ],
   "source": [
    "SC_lin = np.log(ESS1/n) + (np.log(n)*k)/n + 1 + np.log(2*np.pi)\n",
    "SC_log = np.log(ESS2/n) + (np.log(n)*k)/n + 1 + np.log(2*np.pi)\n",
    "\n",
    "SC_lin, SC_log"
   ]
  },
  {
   "cell_type": "markdown",
   "id": "1318e77d",
   "metadata": {},
   "source": [
    "###### Вывод: данные критерии не применимы к задаче выбора между линейной или полулогарифмической моделями."
   ]
  },
  {
   "cell_type": "markdown",
   "id": "05ca6e29",
   "metadata": {},
   "source": [
    "Данные критерии применимы к задаче выбора оптимального количества регрессоров в модели\n",
    "\n",
    "В данной модели только один регрессор, значит применять данные критерии нецелесообразно"
   ]
  },
  {
   "cell_type": "markdown",
   "id": "dba80d40",
   "metadata": {},
   "source": [
    "## Тест Бера и МакАлера"
   ]
  },
  {
   "cell_type": "markdown",
   "id": "a51d1f94",
   "metadata": {},
   "source": [
    "H0: Модель являетя полулогарифмической\n",
    "\n",
    "H1: Модель являетя линейной"
   ]
  },
  {
   "cell_type": "code",
   "execution_count": 47,
   "id": "af1f916b",
   "metadata": {},
   "outputs": [
    {
     "name": "stdout",
     "output_type": "stream",
     "text": [
      "                                Results: Ordinary least squares\n",
      "================================================================================================\n",
      "Model:                         OLS                        Adj. R-squared:               0.993   \n",
      "Dependent Variable:            y                          AIC:                          202.5339\n",
      "Date:                          2024-02-12 22:23           BIC:                          205.9116\n",
      "No. Observations:              40                         Log-Likelihood:               -99.267 \n",
      "Df Model:                      1                          F-statistic:                  5735.   \n",
      "Df Residuals:                  38                         Prob (F-statistic):           4.57e-43\n",
      "R-squared:                     0.993                      Scale:                        8.8177  \n",
      "------------------------------------------------------------------------------------------------\n",
      "                                               Coef.   Std.Err.    t    P>|t|   [0.025   0.975] \n",
      "------------------------------------------------------------------------------------------------\n",
      "const                                         107.5317   1.4393 74.7103 0.0000 104.6179 110.4454\n",
      "Индекс реальных инвестиций в основной капитал   0.6429   0.0085 75.7292 0.0000   0.6257   0.6601\n",
      "------------------------------------------------------------------------------------------------\n",
      "Omnibus:                         8.622                  Durbin-Watson:                     2.053\n",
      "Prob(Omnibus):                   0.013                  Jarque-Bera (JB):                  4.424\n",
      "Skew:                            0.598                  Prob(JB):                          0.109\n",
      "Kurtosis:                        1.894                  Condition No.:                     520  \n",
      "================================================================================================\n",
      "\n"
     ]
    }
   ],
   "source": [
    "ln_y_pred = np.log(model.predict())\n",
    "exp_ln_y_pred = np.exp(ln_model.predict())\n",
    "exp_help_model = sm.OLS(exp_ln_y_pred, X).fit()\n",
    "print(exp_help_model.summary2())"
   ]
  },
  {
   "cell_type": "code",
   "execution_count": 49,
   "id": "adfa66de",
   "metadata": {},
   "outputs": [
    {
     "name": "stdout",
     "output_type": "stream",
     "text": [
      "                              Results: Ordinary least squares\n",
      "===========================================================================================\n",
      "Model:                      OLS                      Adj. R-squared:             0.992     \n",
      "Dependent Variable:         y                        AIC:                        -217.5044 \n",
      "Date:                       2024-02-12 22:23         BIC:                        -214.1267 \n",
      "No. Observations:           40                       Log-Likelihood:             110.75    \n",
      "Df Model:                   1                        F-statistic:                4932.     \n",
      "Df Residuals:               38                       Prob (F-statistic):         7.87e-42  \n",
      "R-squared:                  0.992                    Scale:                      0.00024258\n",
      "-------------------------------------------------------------------------------------------\n",
      "                                              Coef.  Std.Err.    t     P>|t|  [0.025 0.975]\n",
      "-------------------------------------------------------------------------------------------\n",
      "const                                         4.8377   0.0075 640.8226 0.0000 4.8224 4.8530\n",
      "Индекс реальных инвестиций в основной капитал 0.0031   0.0000  70.2273 0.0000 0.0030 0.0032\n",
      "-------------------------------------------------------------------------------------------\n",
      "Omnibus:                       14.466                Durbin-Watson:                   2.045\n",
      "Prob(Omnibus):                 0.001                 Jarque-Bera (JB):                4.673\n",
      "Skew:                          -0.528                Prob(JB):                        0.097\n",
      "Kurtosis:                      1.700                 Condition No.:                   520  \n",
      "===========================================================================================\n",
      "\n"
     ]
    }
   ],
   "source": [
    "ln_help_model = sm.OLS(ln_y_pred, X).fit()\n",
    "print(ln_help_model.summary2())"
   ]
  },
  {
   "cell_type": "code",
   "execution_count": 50,
   "id": "754a40b7",
   "metadata": {},
   "outputs": [
    {
     "data": {
      "text/html": [
       "<div>\n",
       "<style scoped>\n",
       "    .dataframe tbody tr th:only-of-type {\n",
       "        vertical-align: middle;\n",
       "    }\n",
       "\n",
       "    .dataframe tbody tr th {\n",
       "        vertical-align: top;\n",
       "    }\n",
       "\n",
       "    .dataframe thead th {\n",
       "        text-align: right;\n",
       "    }\n",
       "</style>\n",
       "<table border=\"1\" class=\"dataframe\">\n",
       "  <thead>\n",
       "    <tr style=\"text-align: right;\">\n",
       "      <th></th>\n",
       "      <th>const</th>\n",
       "      <th>Индекс реальных инвестиций в основной капитал</th>\n",
       "      <th>upsilon_1</th>\n",
       "    </tr>\n",
       "  </thead>\n",
       "  <tbody>\n",
       "    <tr>\n",
       "      <th>0</th>\n",
       "      <td>1.0</td>\n",
       "      <td>87.1</td>\n",
       "      <td>3.887667</td>\n",
       "    </tr>\n",
       "    <tr>\n",
       "      <th>1</th>\n",
       "      <td>1.0</td>\n",
       "      <td>132.9</td>\n",
       "      <td>-1.354458</td>\n",
       "    </tr>\n",
       "    <tr>\n",
       "      <th>2</th>\n",
       "      <td>1.0</td>\n",
       "      <td>156.5</td>\n",
       "      <td>-2.720066</td>\n",
       "    </tr>\n",
       "    <tr>\n",
       "      <th>3</th>\n",
       "      <td>1.0</td>\n",
       "      <td>226.7</td>\n",
       "      <td>-0.617932</td>\n",
       "    </tr>\n",
       "    <tr>\n",
       "      <th>4</th>\n",
       "      <td>1.0</td>\n",
       "      <td>107.5</td>\n",
       "      <td>1.150286</td>\n",
       "    </tr>\n",
       "  </tbody>\n",
       "</table>\n",
       "</div>"
      ],
      "text/plain": [
       "   const  Индекс реальных инвестиций в основной капитал  upsilon_1\n",
       "0    1.0                                           87.1   3.887667\n",
       "1    1.0                                          132.9  -1.354458\n",
       "2    1.0                                          156.5  -2.720066\n",
       "3    1.0                                          226.7  -0.617932\n",
       "4    1.0                                          107.5   1.150286"
      ]
     },
     "execution_count": 50,
     "metadata": {},
     "output_type": "execute_result"
    }
   ],
   "source": [
    "exp_up = exp_help_model.resid\n",
    "ln_up = ln_help_model.resid\n",
    "\n",
    "X_exp_up = pd.concat([X, exp_up], axis=1).rename(columns={0:'upsilon_1'})\n",
    "X_ln_up = pd.concat([X, ln_up], axis=1).rename(columns={0:'upsilon_2'})\n",
    "X_exp_up.head()"
   ]
  },
  {
   "cell_type": "code",
   "execution_count": 51,
   "id": "326c71c5",
   "metadata": {},
   "outputs": [
    {
     "data": {
      "text/html": [
       "<div>\n",
       "<style scoped>\n",
       "    .dataframe tbody tr th:only-of-type {\n",
       "        vertical-align: middle;\n",
       "    }\n",
       "\n",
       "    .dataframe tbody tr th {\n",
       "        vertical-align: top;\n",
       "    }\n",
       "\n",
       "    .dataframe thead th {\n",
       "        text-align: right;\n",
       "    }\n",
       "</style>\n",
       "<table border=\"1\" class=\"dataframe\">\n",
       "  <thead>\n",
       "    <tr style=\"text-align: right;\">\n",
       "      <th></th>\n",
       "      <th>const</th>\n",
       "      <th>Индекс реальных инвестиций в основной капитал</th>\n",
       "      <th>upsilon_2</th>\n",
       "    </tr>\n",
       "  </thead>\n",
       "  <tbody>\n",
       "    <tr>\n",
       "      <th>0</th>\n",
       "      <td>1.0</td>\n",
       "      <td>87.1</td>\n",
       "      <td>-0.022299</td>\n",
       "    </tr>\n",
       "    <tr>\n",
       "      <th>1</th>\n",
       "      <td>1.0</td>\n",
       "      <td>132.9</td>\n",
       "      <td>0.009287</td>\n",
       "    </tr>\n",
       "    <tr>\n",
       "      <th>2</th>\n",
       "      <td>1.0</td>\n",
       "      <td>156.5</td>\n",
       "      <td>0.014892</td>\n",
       "    </tr>\n",
       "    <tr>\n",
       "      <th>3</th>\n",
       "      <td>1.0</td>\n",
       "      <td>226.7</td>\n",
       "      <td>-0.000005</td>\n",
       "    </tr>\n",
       "    <tr>\n",
       "      <th>4</th>\n",
       "      <td>1.0</td>\n",
       "      <td>107.5</td>\n",
       "      <td>-0.004437</td>\n",
       "    </tr>\n",
       "  </tbody>\n",
       "</table>\n",
       "</div>"
      ],
      "text/plain": [
       "   const  Индекс реальных инвестиций в основной капитал  upsilon_2\n",
       "0    1.0                                           87.1  -0.022299\n",
       "1    1.0                                          132.9   0.009287\n",
       "2    1.0                                          156.5   0.014892\n",
       "3    1.0                                          226.7  -0.000005\n",
       "4    1.0                                          107.5  -0.004437"
      ]
     },
     "execution_count": 51,
     "metadata": {},
     "output_type": "execute_result"
    }
   ],
   "source": [
    "X_ln_up.head()"
   ]
  },
  {
   "cell_type": "code",
   "execution_count": 52,
   "id": "6c7e8663",
   "metadata": {},
   "outputs": [
    {
     "name": "stdout",
     "output_type": "stream",
     "text": [
      "                              Results: Ordinary least squares\n",
      "===========================================================================================\n",
      "Model:                     OLS                           Adj. R-squared:          0.841    \n",
      "Dependent Variable:        Реальные денежные доходы      AIC:                     -91.5553 \n",
      "Date:                      2024-02-12 22:23              BIC:                     -86.4887 \n",
      "No. Observations:          40                            Log-Likelihood:          48.778   \n",
      "Df Model:                  2                             F-statistic:             104.5    \n",
      "Df Residuals:              37                            Prob (F-statistic):      5.99e-16 \n",
      "R-squared:                 0.850                         Scale:                   0.0055232\n",
      "-------------------------------------------------------------------------------------------\n",
      "                                              Coef.  Std.Err.    t     P>|t|  [0.025 0.975]\n",
      "-------------------------------------------------------------------------------------------\n",
      "const                                         4.8637   0.0360 135.0184 0.0000 4.7907 4.9367\n",
      "Индекс реальных инвестиций в основной капитал 0.0029   0.0002  13.8757 0.0000 0.0025 0.0034\n",
      "upsilon_1                                     0.0165   0.0041   4.0645 0.0002 0.0083 0.0247\n",
      "-------------------------------------------------------------------------------------------\n",
      "Omnibus:                       0.398                 Durbin-Watson:                   1.429\n",
      "Prob(Omnibus):                 0.820                 Jarque-Bera (JB):                0.549\n",
      "Skew:                          -0.043                Prob(JB):                        0.760\n",
      "Kurtosis:                      2.433                 Condition No.:                   520  \n",
      "===========================================================================================\n",
      "\n"
     ]
    }
   ],
   "source": [
    "ln_model_new = sm.OLS(ln_y, X_exp_up).fit()\n",
    "print(ln_model_new.summary2())"
   ]
  },
  {
   "cell_type": "code",
   "execution_count": 53,
   "id": "1d37a49c",
   "metadata": {},
   "outputs": [
    {
     "name": "stdout",
     "output_type": "stream",
     "text": [
      "                                  Results: Ordinary least squares\n",
      "====================================================================================================\n",
      "Model:                       OLS                               Adj. R-squared:              0.872   \n",
      "Dependent Variable:          Реальные денежные доходы          AIC:                         334.6616\n",
      "Date:                        2024-02-12 22:23                  BIC:                         339.7283\n",
      "No. Observations:            40                                Log-Likelihood:              -164.33 \n",
      "Df Model:                    2                                 F-statistic:                 133.6   \n",
      "Df Residuals:                37                                Prob (F-statistic):          1.18e-17\n",
      "R-squared:                   0.878                             Scale:                       234.31  \n",
      "----------------------------------------------------------------------------------------------------\n",
      "                                                Coef.   Std.Err.    t    P>|t|    [0.025     0.975] \n",
      "----------------------------------------------------------------------------------------------------\n",
      "const                                          103.1716   7.4194 13.9056 0.0000    88.1384  118.2047\n",
      "Индекс реальных инвестиций в основной капитал    0.6757   0.0438 15.4417 0.0000     0.5871    0.7644\n",
      "upsilon_2                                     -856.4099 159.4319 -5.3716 0.0000 -1179.4496 -533.3702\n",
      "----------------------------------------------------------------------------------------------------\n",
      "Omnibus:                           0.218                   Durbin-Watson:                      1.468\n",
      "Prob(Omnibus):                     0.897                   Jarque-Bera (JB):                   0.417\n",
      "Skew:                              0.082                   Prob(JB):                           0.812\n",
      "Kurtosis:                          2.527                   Condition No.:                      11169\n",
      "====================================================================================================\n",
      "* The condition number is large (1e+04). This might indicate             strong multicollinearity or\n",
      "other numerical problems.\n"
     ]
    }
   ],
   "source": [
    "model_new = sm.OLS(y, X_ln_up).fit()\n",
    "print(model_new.summary2())"
   ]
  },
  {
   "cell_type": "code",
   "execution_count": 54,
   "id": "731220f4",
   "metadata": {},
   "outputs": [
    {
     "data": {
      "text/plain": [
       "2.0261924630291097"
      ]
     },
     "execution_count": 54,
     "metadata": {},
     "output_type": "execute_result"
    }
   ],
   "source": [
    "t_cr = sts.t(n-3).isf(0.05/2)\n",
    "t_cr"
   ]
  },
  {
   "cell_type": "code",
   "execution_count": 55,
   "id": "16a9c5cf",
   "metadata": {},
   "outputs": [
    {
     "data": {
      "text/plain": [
       "(4.064489817667345, 5.371634922712817)"
      ]
     },
     "execution_count": 55,
     "metadata": {},
     "output_type": "execute_result"
    }
   ],
   "source": [
    "t_theta_1_lin = abs(ln_model_new.tvalues.iloc[2])\n",
    "t_theta_2_log = abs(model_new.tvalues.iloc[2])\n",
    "t_theta_1_lin, t_theta_2_log"
   ]
  },
  {
   "cell_type": "code",
   "execution_count": 56,
   "id": "ffc3d7d5",
   "metadata": {},
   "outputs": [
    {
     "name": "stdout",
     "output_type": "stream",
     "text": [
      "Нельзя определенно выбрать одну из моделей\n"
     ]
    }
   ],
   "source": [
    "if t_cr < t_theta_1_lin and t_cr > t_theta_2_log:\n",
    "    print('H0 отклоняется. Выбираем линейную модель')\n",
    "elif t_cr > t_theta_1_lin and t_cr < t_theta_2_log:\n",
    "    print('H0 не отклоняется. Выбираем полулогарифмическую модель')\n",
    "else:\n",
    "    print('Нельзя определенно выбрать одну из моделей')"
   ]
  },
  {
   "cell_type": "markdown",
   "id": "b721fea6",
   "metadata": {},
   "source": [
    "###### Вывод: оба коэффициента θ1 и θ2 одновременно значимы, значит по тесту Бера и МакАлера нельзя определенно выбрать одну из моделей."
   ]
  },
  {
   "cell_type": "markdown",
   "id": "81239c53",
   "metadata": {},
   "source": [
    "###### Вывод: т.к. нельзя определенно выбрать модель, то берем ту, которая проще, т.е линейную"
   ]
  },
  {
   "cell_type": "markdown",
   "id": "c962565b",
   "metadata": {},
   "source": [
    "## Тест МакКиннона, Уайта и Дэвидсона"
   ]
  },
  {
   "cell_type": "markdown",
   "id": "8ecc3514",
   "metadata": {},
   "source": [
    "H0: Модель являетя полулогарифмической\n",
    "\n",
    "H1: Модель являетя линейной"
   ]
  },
  {
   "cell_type": "code",
   "execution_count": 60,
   "id": "bc42cc0f",
   "metadata": {},
   "outputs": [
    {
     "name": "stdout",
     "output_type": "stream",
     "text": [
      "                               Results: Ordinary least squares\n",
      "==============================================================================================\n",
      "Model:                      OLS                            Adj. R-squared:           0.841    \n",
      "Dependent Variable:         Реальные денежные доходы       AIC:                      -91.5553 \n",
      "Date:                       2024-02-12 22:25               BIC:                      -86.4887 \n",
      "No. Observations:           40                             Log-Likelihood:           48.778   \n",
      "Df Model:                   2                              F-statistic:              104.5    \n",
      "Df Residuals:               37                             Prob (F-statistic):       5.99e-16 \n",
      "R-squared:                  0.850                          Scale:                    0.0055232\n",
      "----------------------------------------------------------------------------------------------\n",
      "                                               Coef.  Std.Err.    t     P>|t|   [0.025  0.975]\n",
      "----------------------------------------------------------------------------------------------\n",
      "const                                          4.7917   0.0401 119.3847 0.0000  4.7104  4.8731\n",
      "Индекс реальных инвестиций в основной капитал  0.0035   0.0003  13.9131 0.0000  0.0030  0.0040\n",
      "y^ - exp(ln(y)^)                              -0.0165   0.0041  -4.0645 0.0002 -0.0247 -0.0083\n",
      "----------------------------------------------------------------------------------------------\n",
      "Omnibus:                        0.398                  Durbin-Watson:                    1.429\n",
      "Prob(Omnibus):                  0.820                  Jarque-Bera (JB):                 0.549\n",
      "Skew:                           -0.043                 Prob(JB):                         0.760\n",
      "Kurtosis:                       2.433                  Condition No.:                    580  \n",
      "==============================================================================================\n",
      "\n"
     ]
    }
   ],
   "source": [
    "new_X_for_ln_y = pd.concat([X, pd.Series(model.predict() - exp_ln_y_pred)], axis = 1).rename(columns={0:'y^ - exp(ln(y)^)'})\n",
    "new_X_for_y = pd.concat((X, pd.Series(ln_y_pred - ln_model.predict())), axis = 1).rename(columns={0:'ln(y^) - ln(y)^'})\n",
    "\n",
    "new_ln_y_model = sm.OLS(ln_y, new_X_for_ln_y).fit()\n",
    "\n",
    "print(new_ln_y_model.summary2())"
   ]
  },
  {
   "cell_type": "code",
   "execution_count": 61,
   "id": "c87cb9ff",
   "metadata": {},
   "outputs": [
    {
     "name": "stdout",
     "output_type": "stream",
     "text": [
      "                                  Results: Ordinary least squares\n",
      "====================================================================================================\n",
      "Model:                       OLS                               Adj. R-squared:              0.872   \n",
      "Dependent Variable:          Реальные денежные доходы          AIC:                         334.6616\n",
      "Date:                        2024-02-12 22:26                  BIC:                         339.7283\n",
      "No. Observations:            40                                Log-Likelihood:              -164.33 \n",
      "Df Model:                    2                                 F-statistic:                 133.6   \n",
      "Df Residuals:                37                                Prob (F-statistic):          1.18e-17\n",
      "R-squared:                   0.878                             Scale:                       234.31  \n",
      "----------------------------------------------------------------------------------------------------\n",
      "                                                Coef.   Std.Err.    t    P>|t|    [0.025     0.975] \n",
      "----------------------------------------------------------------------------------------------------\n",
      "const                                           80.9202   8.4975  9.5229 0.0000    63.7027   98.1377\n",
      "Индекс реальных инвестиций в основной капитал    0.8289   0.0522 15.8700 0.0000     0.7231    0.9347\n",
      "ln(y^) - ln(y)^                               -856.4099 159.4319 -5.3716 0.0000 -1179.4496 -533.3702\n",
      "----------------------------------------------------------------------------------------------------\n",
      "Omnibus:                           0.218                   Durbin-Watson:                      1.468\n",
      "Prob(Omnibus):                     0.897                   Jarque-Bera (JB):                   0.417\n",
      "Skew:                              0.082                   Prob(JB):                           0.812\n",
      "Kurtosis:                          2.527                   Condition No.:                      11173\n",
      "====================================================================================================\n",
      "* The condition number is large (1e+04). This might indicate             strong multicollinearity or\n",
      "other numerical problems.\n"
     ]
    }
   ],
   "source": [
    "new_y_model = sm.OLS(y, new_X_for_y).fit()\n",
    "print(new_y_model.summary2())"
   ]
  },
  {
   "cell_type": "code",
   "execution_count": 62,
   "id": "4e07ae67",
   "metadata": {},
   "outputs": [
    {
     "data": {
      "text/plain": [
       "2.0261924630291097"
      ]
     },
     "execution_count": 62,
     "metadata": {},
     "output_type": "execute_result"
    }
   ],
   "source": [
    "t_cr = sts.t(n-3).isf(0.05/2)\n",
    "t_cr"
   ]
  },
  {
   "cell_type": "code",
   "execution_count": 63,
   "id": "046366f4",
   "metadata": {},
   "outputs": [
    {
     "data": {
      "text/plain": [
       "(4.064489817667359, 5.371634922712789)"
      ]
     },
     "execution_count": 63,
     "metadata": {},
     "output_type": "execute_result"
    }
   ],
   "source": [
    "t_gamma_1_lin = abs(new_ln_y_model.tvalues.iloc[2])\n",
    "t_gamma_2_log = abs(new_y_model.tvalues.iloc[2])\n",
    "t_gamma_1_lin, t_gamma_2_log"
   ]
  },
  {
   "cell_type": "code",
   "execution_count": 64,
   "id": "36d36e39",
   "metadata": {},
   "outputs": [
    {
     "name": "stdout",
     "output_type": "stream",
     "text": [
      "Нельзя определенно выбрать одну из моделей\n"
     ]
    }
   ],
   "source": [
    "if t_cr < t_gamma_1_lin and t_cr > t_gamma_2_log:\n",
    "    print('H0 отклоняется. Выбираем линейную модель')\n",
    "elif t_cr > t_gamma_1_lin and t_cr < t_gamma_2_log:\n",
    "    print('H0 не отклоняется. Выбираем полулогарифмическую модель')\n",
    "else:\n",
    "    print('Нельзя определенно выбрать одну из моделей')"
   ]
  },
  {
   "cell_type": "markdown",
   "id": "7263fbb5",
   "metadata": {},
   "source": [
    "###### Вывод: оба коэффициента γ1 и γ2 одновременно значимы, значит, исходя из теста МакКиннона, Уайта и Дэвидсона, нельзя определенно выбрать одну из моделей."
   ]
  },
  {
   "cell_type": "markdown",
   "id": "11dbcde9",
   "metadata": {},
   "source": [
    "###### Т.к. нельзя определенно выбрать модель, то берем ту, которая проще, т.е линейную"
   ]
  },
  {
   "cell_type": "markdown",
   "id": "87d5b991",
   "metadata": {},
   "source": [
    "# Выводы"
   ]
  },
  {
   "attachments": {
    "image.png": {
     "image/png": "[encoded data removed]"
    }
   },
   "cell_type": "markdown",
   "id": "594f9d59",
   "metadata": {},
   "source": [
    "![image.png](attachment:image.png)"
   ]
  },
  {
   "cell_type": "markdown",
   "id": "81f35548",
   "metadata": {},
   "source": [
    "###### Вывод: применив все тесты, делаем вывод, что для нашего набора данных линейная модель подходит лучше, чем полулогарифмическая"
   ]
  },
  {
   "cell_type": "markdown",
   "id": "a1da4dd5",
   "metadata": {},
   "source": [
    "# Условия применения"
   ]
  },
  {
   "attachments": {
    "image-3.png": {
     "image/png": "[encoded data removed]"
    }
   },
   "cell_type": "markdown",
   "id": "ac56029e",
   "metadata": {},
   "source": [
    "![image-3.png](attachment:image-3.png)"
   ]
  }
 ],
 "metadata": {
  "kernelspec": {
   "display_name": "Python 3 (ipykernel)",
   "language": "python",
   "name": "python3"
  },
  "language_info": {
   "codemirror_mode": {
    "name": "ipython",
    "version": 3
   },
   "file_extension": ".py",
   "mimetype": "text/x-python",
   "name": "python",
   "nbconvert_exporter": "python",
   "pygments_lexer": "ipython3",
   "version": "3.11.5"
  }
 },
 "nbformat": 4,
 "nbformat_minor": 5
}
