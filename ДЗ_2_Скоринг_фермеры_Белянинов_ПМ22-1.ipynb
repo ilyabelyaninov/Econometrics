{
 "cells": [
  {
   "attachments": {
    "image.png": {
     "image/png": "[encoded data removed]"
    }
   },
   "cell_type": "markdown",
   "id": "346c2d54",
   "metadata": {},
   "source": [
    "![image.png](attachment:image.png)"
   ]
  },
  {
   "cell_type": "markdown",
   "id": "09bc91da",
   "metadata": {},
   "source": [
    "**Цель:** выяснить, от каких параметров зависит наличие кредитного риска у компании"
   ]
  },
  {
   "cell_type": "code",
   "execution_count": 147,
   "id": "0c53bcf4",
   "metadata": {},
   "outputs": [],
   "source": [
    "import statsmodels.api as sm\n",
    "import scipy.stats as sts\n",
    "import numpy as np\n",
    "import pandas as pd\n",
    "import sympy as sp\n",
    "import matplotlib.pyplot as plt\n",
    "import seaborn as sb\n",
    "import warnings\n",
    "\n",
    "warnings.filterwarnings(\"ignore\")"
   ]
  },
  {
   "cell_type": "markdown",
   "id": "e2d42976",
   "metadata": {},
   "source": [
    "# Импорт данных"
   ]
  },
  {
   "cell_type": "code",
   "execution_count": 148,
   "id": "9ef641e3",
   "metadata": {},
   "outputs": [
    {
     "data": {
      "text/html": [
       "<div>\n",
       "<style scoped>\n",
       "    .dataframe tbody tr th:only-of-type {\n",
       "        vertical-align: middle;\n",
       "    }\n",
       "\n",
       "    .dataframe tbody tr th {\n",
       "        vertical-align: top;\n",
       "    }\n",
       "\n",
       "    .dataframe thead th {\n",
       "        text-align: right;\n",
       "    }\n",
       "</style>\n",
       "<table border=\"1\" class=\"dataframe\">\n",
       "  <thead>\n",
       "    <tr style=\"text-align: right;\">\n",
       "      <th></th>\n",
       "      <th>Регистрационный номер</th>\n",
       "      <th>Статус</th>\n",
       "      <th>Регион регистрации</th>\n",
       "      <th>Код ОКАТО</th>\n",
       "      <th>Вид деятельности/отрасль</th>\n",
       "      <th>ИДО</th>\n",
       "      <th>ИФР</th>\n",
       "      <th>Сводный индикатор</th>\n",
       "      <th>Уставный капитал, RUB</th>\n",
       "      <th>2017, Основные средства , RUB</th>\n",
       "      <th>...</th>\n",
       "      <th>2017, Коэффициент быстрой ликвидности, %</th>\n",
       "      <th>2018, Коэффициент быстрой ликвидности, %</th>\n",
       "      <th>2019, Коэффициент быстрой ликвидности, %</th>\n",
       "      <th>2020, Коэффициент быстрой ликвидности, %</th>\n",
       "      <th>2017, Коэффициент абсолютной ликвидности, %</th>\n",
       "      <th>2018, Коэффициент абсолютной ликвидности, %</th>\n",
       "      <th>2019, Коэффициент абсолютной ликвидности, %</th>\n",
       "      <th>2020, Коэффициент абсолютной ликвидности, %</th>\n",
       "      <th>Округ</th>\n",
       "      <th>Отрасль</th>\n",
       "    </tr>\n",
       "  </thead>\n",
       "  <tbody>\n",
       "    <tr>\n",
       "      <th>0</th>\n",
       "      <td>1020200883010</td>\n",
       "      <td>1</td>\n",
       "      <td>Башкортостан (Республика)</td>\n",
       "      <td>80245835001</td>\n",
       "      <td>Смешанное сельское хозяйство</td>\n",
       "      <td>62.0</td>\n",
       "      <td>9.0</td>\n",
       "      <td>Высокий риск</td>\n",
       "      <td>2193918.0</td>\n",
       "      <td>40395000.0</td>\n",
       "      <td>...</td>\n",
       "      <td>2.5802</td>\n",
       "      <td>0.9077</td>\n",
       "      <td>2.8087</td>\n",
       "      <td>3.0846</td>\n",
       "      <td>0.0116</td>\n",
       "      <td>0.0041</td>\n",
       "      <td>1.0650</td>\n",
       "      <td>1.3824</td>\n",
       "      <td>Южный ФО</td>\n",
       "      <td>Растениеводство</td>\n",
       "    </tr>\n",
       "    <tr>\n",
       "      <th>1</th>\n",
       "      <td>1020201300448</td>\n",
       "      <td>1</td>\n",
       "      <td>Башкортостан (Республика)</td>\n",
       "      <td>80252810001</td>\n",
       "      <td>Смешанное сельское хозяйство</td>\n",
       "      <td>41.0</td>\n",
       "      <td>94.0</td>\n",
       "      <td>Высокий риск</td>\n",
       "      <td>15790.0</td>\n",
       "      <td>101578000.0</td>\n",
       "      <td>...</td>\n",
       "      <td>0.0581</td>\n",
       "      <td>0.0818</td>\n",
       "      <td>0.0155</td>\n",
       "      <td>0.0734</td>\n",
       "      <td>NaN</td>\n",
       "      <td>0.0026</td>\n",
       "      <td>NaN</td>\n",
       "      <td>NaN</td>\n",
       "      <td>Южный ФО</td>\n",
       "      <td>Растениеводство</td>\n",
       "    </tr>\n",
       "    <tr>\n",
       "      <th>2</th>\n",
       "      <td>1020201844596</td>\n",
       "      <td>1</td>\n",
       "      <td>Башкортостан (Республика)</td>\n",
       "      <td>80241830001</td>\n",
       "      <td>Выращивание зерновых культур</td>\n",
       "      <td>2.0</td>\n",
       "      <td>97.0</td>\n",
       "      <td>Высокий риск</td>\n",
       "      <td>74860000.0</td>\n",
       "      <td>744302000.0</td>\n",
       "      <td>...</td>\n",
       "      <td>0.0399</td>\n",
       "      <td>0.0551</td>\n",
       "      <td>0.0407</td>\n",
       "      <td>0.0236</td>\n",
       "      <td>0.0036</td>\n",
       "      <td>0.0085</td>\n",
       "      <td>0.0131</td>\n",
       "      <td>0.0038</td>\n",
       "      <td>Южный ФО</td>\n",
       "      <td>Растениеводство</td>\n",
       "    </tr>\n",
       "    <tr>\n",
       "      <th>3</th>\n",
       "      <td>1020800566819</td>\n",
       "      <td>1</td>\n",
       "      <td>Калмыкия (Республика)</td>\n",
       "      <td>85215811001</td>\n",
       "      <td>Разведение молочного крупного рогатого скота, производство сырого молока</td>\n",
       "      <td>30.0</td>\n",
       "      <td>22.0</td>\n",
       "      <td>Высокий риск</td>\n",
       "      <td>14866.0</td>\n",
       "      <td>26524000.0</td>\n",
       "      <td>...</td>\n",
       "      <td>1.5895</td>\n",
       "      <td>1.8070</td>\n",
       "      <td>1.4888</td>\n",
       "      <td>1.8220</td>\n",
       "      <td>0.0001</td>\n",
       "      <td>0.0020</td>\n",
       "      <td>0.0131</td>\n",
       "      <td>0.0002</td>\n",
       "      <td>Южный ФО</td>\n",
       "      <td>Растениеводство</td>\n",
       "    </tr>\n",
       "    <tr>\n",
       "      <th>4</th>\n",
       "      <td>1020800597740</td>\n",
       "      <td>1</td>\n",
       "      <td>Калмыкия (Республика)</td>\n",
       "      <td>85220855001</td>\n",
       "      <td>Выращивание зерновых культур</td>\n",
       "      <td>15.0</td>\n",
       "      <td>99.0</td>\n",
       "      <td>Высокий риск</td>\n",
       "      <td>12864000.0</td>\n",
       "      <td>25758000.0</td>\n",
       "      <td>...</td>\n",
       "      <td>0.0145</td>\n",
       "      <td>0.0359</td>\n",
       "      <td>0.0319</td>\n",
       "      <td>0.0237</td>\n",
       "      <td>NaN</td>\n",
       "      <td>NaN</td>\n",
       "      <td>NaN</td>\n",
       "      <td>NaN</td>\n",
       "      <td>Южный ФО</td>\n",
       "      <td>Растениеводство</td>\n",
       "    </tr>\n",
       "  </tbody>\n",
       "</table>\n",
       "<p>5 rows × 207 columns</p>\n",
       "</div>"
      ],
      "text/plain": [
       "   Регистрационный номер  Статус         Регион регистрации    Код ОКАТО  \\\n",
       "0          1020200883010       1  Башкортостан (Республика)  80245835001   \n",
       "1          1020201300448       1  Башкортостан (Республика)  80252810001   \n",
       "2          1020201844596       1  Башкортостан (Республика)  80241830001   \n",
       "3          1020800566819       1      Калмыкия (Республика)  85215811001   \n",
       "4          1020800597740       1      Калмыкия (Республика)  85220855001   \n",
       "\n",
       "                                                   Вид деятельности/отрасль  \\\n",
       "0                                              Смешанное сельское хозяйство   \n",
       "1                                              Смешанное сельское хозяйство   \n",
       "2                                              Выращивание зерновых культур   \n",
       "3  Разведение молочного крупного рогатого скота, производство сырого молока   \n",
       "4                                              Выращивание зерновых культур   \n",
       "\n",
       "    ИДО   ИФР Сводный индикатор  Уставный капитал, RUB  \\\n",
       "0  62.0   9.0      Высокий риск              2193918.0   \n",
       "1  41.0  94.0      Высокий риск                15790.0   \n",
       "2   2.0  97.0      Высокий риск             74860000.0   \n",
       "3  30.0  22.0      Высокий риск                14866.0   \n",
       "4  15.0  99.0      Высокий риск             12864000.0   \n",
       "\n",
       "   2017, Основные средства , RUB  ...  \\\n",
       "0                     40395000.0  ...   \n",
       "1                    101578000.0  ...   \n",
       "2                    744302000.0  ...   \n",
       "3                     26524000.0  ...   \n",
       "4                     25758000.0  ...   \n",
       "\n",
       "   2017, Коэффициент быстрой ликвидности, %  \\\n",
       "0                                    2.5802   \n",
       "1                                    0.0581   \n",
       "2                                    0.0399   \n",
       "3                                    1.5895   \n",
       "4                                    0.0145   \n",
       "\n",
       "   2018, Коэффициент быстрой ликвидности, %  \\\n",
       "0                                    0.9077   \n",
       "1                                    0.0818   \n",
       "2                                    0.0551   \n",
       "3                                    1.8070   \n",
       "4                                    0.0359   \n",
       "\n",
       "   2019, Коэффициент быстрой ликвидности, %  \\\n",
       "0                                    2.8087   \n",
       "1                                    0.0155   \n",
       "2                                    0.0407   \n",
       "3                                    1.4888   \n",
       "4                                    0.0319   \n",
       "\n",
       "   2020, Коэффициент быстрой ликвидности, %  \\\n",
       "0                                    3.0846   \n",
       "1                                    0.0734   \n",
       "2                                    0.0236   \n",
       "3                                    1.8220   \n",
       "4                                    0.0237   \n",
       "\n",
       "   2017, Коэффициент абсолютной ликвидности, %  \\\n",
       "0                                       0.0116   \n",
       "1                                          NaN   \n",
       "2                                       0.0036   \n",
       "3                                       0.0001   \n",
       "4                                          NaN   \n",
       "\n",
       "   2018, Коэффициент абсолютной ликвидности, %  \\\n",
       "0                                       0.0041   \n",
       "1                                       0.0026   \n",
       "2                                       0.0085   \n",
       "3                                       0.0020   \n",
       "4                                          NaN   \n",
       "\n",
       "   2019, Коэффициент абсолютной ликвидности, %  \\\n",
       "0                                       1.0650   \n",
       "1                                          NaN   \n",
       "2                                       0.0131   \n",
       "3                                       0.0131   \n",
       "4                                          NaN   \n",
       "\n",
       "   2020, Коэффициент абсолютной ликвидности, %     Округ          Отрасль  \n",
       "0                                       1.3824  Южный ФО  Растениеводство  \n",
       "1                                          NaN  Южный ФО  Растениеводство  \n",
       "2                                       0.0038  Южный ФО  Растениеводство  \n",
       "3                                       0.0002  Южный ФО  Растениеводство  \n",
       "4                                          NaN  Южный ФО  Растениеводство  \n",
       "\n",
       "[5 rows x 207 columns]"
      ]
     },
     "execution_count": 148,
     "metadata": {},
     "output_type": "execute_result"
    }
   ],
   "source": [
    "df = pd.read_excel('Т9 Данные_Логит_модель_Скоринг_фермеры.xlsx', sheet_name='Sheet1', decimal=',').iloc[:,1:]\n",
    "df.head()"
   ]
  },
  {
   "cell_type": "code",
   "execution_count": 149,
   "id": "ab07caca",
   "metadata": {},
   "outputs": [
    {
     "name": "stdout",
     "output_type": "stream",
     "text": [
      "<class 'pandas.core.frame.DataFrame'>\n",
      "RangeIndex: 8673 entries, 0 to 8672\n",
      "Columns: 207 entries, Регистрационный номер to Отрасль\n",
      "dtypes: float64(199), int64(3), object(5)\n",
      "memory usage: 13.7+ MB\n"
     ]
    }
   ],
   "source": [
    "df.info()"
   ]
  },
  {
   "cell_type": "markdown",
   "id": "8385239f",
   "metadata": {},
   "source": [
    "# Отбор регрессоров"
   ]
  },
  {
   "cell_type": "markdown",
   "id": "11407fe1",
   "metadata": {},
   "source": [
    "### 1. Отобрать 11 самых важных регрессоров"
   ]
  },
  {
   "cell_type": "markdown",
   "id": "4052325a",
   "metadata": {},
   "source": [
    "Для начала удалю данные за 2017-2019гг"
   ]
  },
  {
   "cell_type": "code",
   "execution_count": 150,
   "id": "d4af8db9",
   "metadata": {},
   "outputs": [],
   "source": [
    "for col in df.columns:\n",
    "    if '201' in col:\n",
    "        del df[col]"
   ]
  },
  {
   "cell_type": "code",
   "execution_count": 151,
   "id": "776f2e72",
   "metadata": {},
   "outputs": [
    {
     "data": {
      "text/html": [
       "<div>\n",
       "<style scoped>\n",
       "    .dataframe tbody tr th:only-of-type {\n",
       "        vertical-align: middle;\n",
       "    }\n",
       "\n",
       "    .dataframe tbody tr th {\n",
       "        vertical-align: top;\n",
       "    }\n",
       "\n",
       "    .dataframe thead th {\n",
       "        text-align: right;\n",
       "    }\n",
       "</style>\n",
       "<table border=\"1\" class=\"dataframe\">\n",
       "  <thead>\n",
       "    <tr style=\"text-align: right;\">\n",
       "      <th></th>\n",
       "      <th>Регистрационный номер</th>\n",
       "      <th>Статус</th>\n",
       "      <th>Регион регистрации</th>\n",
       "      <th>Код ОКАТО</th>\n",
       "      <th>Вид деятельности/отрасль</th>\n",
       "      <th>ИДО</th>\n",
       "      <th>ИФР</th>\n",
       "      <th>Сводный индикатор</th>\n",
       "      <th>Уставный капитал, RUB</th>\n",
       "      <th>2020, Основные средства , RUB</th>\n",
       "      <th>...</th>\n",
       "      <th>2020, Доля себестоимости как процент от выручки, %</th>\n",
       "      <th>2020, Рентабельность прибыли до налогообложения и процентов - (EBITM), %</th>\n",
       "      <th>2020, Рентабельность активов (ROA), %</th>\n",
       "      <th>2020, Рентабельность капитала (ROE), %</th>\n",
       "      <th>2020, Рентабельность активов (п. 1.6 ст.105.8 НК РФ), %</th>\n",
       "      <th>2020, Коэффициент текущей ликвидности, %</th>\n",
       "      <th>2020, Коэффициент быстрой ликвидности, %</th>\n",
       "      <th>2020, Коэффициент абсолютной ликвидности, %</th>\n",
       "      <th>Округ</th>\n",
       "      <th>Отрасль</th>\n",
       "    </tr>\n",
       "  </thead>\n",
       "  <tbody>\n",
       "    <tr>\n",
       "      <th>0</th>\n",
       "      <td>1020200883010</td>\n",
       "      <td>1</td>\n",
       "      <td>Башкортостан (Республика)</td>\n",
       "      <td>80245835001</td>\n",
       "      <td>Смешанное сельское хозяйство</td>\n",
       "      <td>62.0</td>\n",
       "      <td>9.0</td>\n",
       "      <td>Высокий риск</td>\n",
       "      <td>2193918.0</td>\n",
       "      <td>33176000.0</td>\n",
       "      <td>...</td>\n",
       "      <td>0.8499</td>\n",
       "      <td>0.0055</td>\n",
       "      <td>0.0022</td>\n",
       "      <td>0.0025</td>\n",
       "      <td>0.0084</td>\n",
       "      <td>8.3821</td>\n",
       "      <td>3.0846</td>\n",
       "      <td>1.3824</td>\n",
       "      <td>Южный ФО</td>\n",
       "      <td>Растениеводство</td>\n",
       "    </tr>\n",
       "    <tr>\n",
       "      <th>1</th>\n",
       "      <td>1020201300448</td>\n",
       "      <td>1</td>\n",
       "      <td>Башкортостан (Республика)</td>\n",
       "      <td>80252810001</td>\n",
       "      <td>Смешанное сельское хозяйство</td>\n",
       "      <td>41.0</td>\n",
       "      <td>94.0</td>\n",
       "      <td>Высокий риск</td>\n",
       "      <td>15790.0</td>\n",
       "      <td>52664000.0</td>\n",
       "      <td>...</td>\n",
       "      <td>1.1418</td>\n",
       "      <td>-0.1418</td>\n",
       "      <td>-0.0194</td>\n",
       "      <td>-0.1858</td>\n",
       "      <td>-0.0203</td>\n",
       "      <td>0.0734</td>\n",
       "      <td>0.0734</td>\n",
       "      <td>NaN</td>\n",
       "      <td>Южный ФО</td>\n",
       "      <td>Растениеводство</td>\n",
       "    </tr>\n",
       "    <tr>\n",
       "      <th>2</th>\n",
       "      <td>1020201844596</td>\n",
       "      <td>1</td>\n",
       "      <td>Башкортостан (Республика)</td>\n",
       "      <td>80241830001</td>\n",
       "      <td>Выращивание зерновых культур</td>\n",
       "      <td>2.0</td>\n",
       "      <td>97.0</td>\n",
       "      <td>Высокий риск</td>\n",
       "      <td>74860000.0</td>\n",
       "      <td>NaN</td>\n",
       "      <td>...</td>\n",
       "      <td>2.1103</td>\n",
       "      <td>-1.1015</td>\n",
       "      <td>-0.4308</td>\n",
       "      <td>0.0274</td>\n",
       "      <td>-0.6748</td>\n",
       "      <td>0.0342</td>\n",
       "      <td>0.0236</td>\n",
       "      <td>0.0038</td>\n",
       "      <td>Южный ФО</td>\n",
       "      <td>Растениеводство</td>\n",
       "    </tr>\n",
       "    <tr>\n",
       "      <th>3</th>\n",
       "      <td>1020800566819</td>\n",
       "      <td>1</td>\n",
       "      <td>Калмыкия (Республика)</td>\n",
       "      <td>85215811001</td>\n",
       "      <td>Разведение молочного крупного рогатого скота, производство сырого молока</td>\n",
       "      <td>30.0</td>\n",
       "      <td>22.0</td>\n",
       "      <td>Высокий риск</td>\n",
       "      <td>14866.0</td>\n",
       "      <td>24435000.0</td>\n",
       "      <td>...</td>\n",
       "      <td>0.9747</td>\n",
       "      <td>0.3949</td>\n",
       "      <td>0.0681</td>\n",
       "      <td>0.1362</td>\n",
       "      <td>0.0050</td>\n",
       "      <td>3.1668</td>\n",
       "      <td>1.8220</td>\n",
       "      <td>0.0002</td>\n",
       "      <td>Южный ФО</td>\n",
       "      <td>Растениеводство</td>\n",
       "    </tr>\n",
       "    <tr>\n",
       "      <th>4</th>\n",
       "      <td>1020800597740</td>\n",
       "      <td>1</td>\n",
       "      <td>Калмыкия (Республика)</td>\n",
       "      <td>85220855001</td>\n",
       "      <td>Выращивание зерновых культур</td>\n",
       "      <td>15.0</td>\n",
       "      <td>99.0</td>\n",
       "      <td>Высокий риск</td>\n",
       "      <td>12864000.0</td>\n",
       "      <td>2927000.0</td>\n",
       "      <td>...</td>\n",
       "      <td>1.5579</td>\n",
       "      <td>-27.4664</td>\n",
       "      <td>-3.3598</td>\n",
       "      <td>0.5444</td>\n",
       "      <td>-0.1342</td>\n",
       "      <td>0.0362</td>\n",
       "      <td>0.0237</td>\n",
       "      <td>NaN</td>\n",
       "      <td>Южный ФО</td>\n",
       "      <td>Растениеводство</td>\n",
       "    </tr>\n",
       "  </tbody>\n",
       "</table>\n",
       "<p>5 rows × 60 columns</p>\n",
       "</div>"
      ],
      "text/plain": [
       "   Регистрационный номер  Статус         Регион регистрации    Код ОКАТО  \\\n",
       "0          1020200883010       1  Башкортостан (Республика)  80245835001   \n",
       "1          1020201300448       1  Башкортостан (Республика)  80252810001   \n",
       "2          1020201844596       1  Башкортостан (Республика)  80241830001   \n",
       "3          1020800566819       1      Калмыкия (Республика)  85215811001   \n",
       "4          1020800597740       1      Калмыкия (Республика)  85220855001   \n",
       "\n",
       "                                                   Вид деятельности/отрасль  \\\n",
       "0                                              Смешанное сельское хозяйство   \n",
       "1                                              Смешанное сельское хозяйство   \n",
       "2                                              Выращивание зерновых культур   \n",
       "3  Разведение молочного крупного рогатого скота, производство сырого молока   \n",
       "4                                              Выращивание зерновых культур   \n",
       "\n",
       "    ИДО   ИФР Сводный индикатор  Уставный капитал, RUB  \\\n",
       "0  62.0   9.0      Высокий риск              2193918.0   \n",
       "1  41.0  94.0      Высокий риск                15790.0   \n",
       "2   2.0  97.0      Высокий риск             74860000.0   \n",
       "3  30.0  22.0      Высокий риск                14866.0   \n",
       "4  15.0  99.0      Высокий риск             12864000.0   \n",
       "\n",
       "   2020, Основные средства , RUB  ...  \\\n",
       "0                     33176000.0  ...   \n",
       "1                     52664000.0  ...   \n",
       "2                            NaN  ...   \n",
       "3                     24435000.0  ...   \n",
       "4                      2927000.0  ...   \n",
       "\n",
       "   2020, Доля себестоимости как процент от выручки, %  \\\n",
       "0                                              0.8499   \n",
       "1                                              1.1418   \n",
       "2                                              2.1103   \n",
       "3                                              0.9747   \n",
       "4                                              1.5579   \n",
       "\n",
       "   2020, Рентабельность прибыли до налогообложения и процентов - (EBITM), %  \\\n",
       "0                                                                    0.0055   \n",
       "1                                                                   -0.1418   \n",
       "2                                                                   -1.1015   \n",
       "3                                                                    0.3949   \n",
       "4                                                                  -27.4664   \n",
       "\n",
       "   2020, Рентабельность активов (ROA), %  \\\n",
       "0                                 0.0022   \n",
       "1                                -0.0194   \n",
       "2                                -0.4308   \n",
       "3                                 0.0681   \n",
       "4                                -3.3598   \n",
       "\n",
       "   2020, Рентабельность капитала (ROE), %  \\\n",
       "0                                  0.0025   \n",
       "1                                 -0.1858   \n",
       "2                                  0.0274   \n",
       "3                                  0.1362   \n",
       "4                                  0.5444   \n",
       "\n",
       "   2020, Рентабельность активов (п. 1.6 ст.105.8 НК РФ), %  \\\n",
       "0                                                   0.0084   \n",
       "1                                                  -0.0203   \n",
       "2                                                  -0.6748   \n",
       "3                                                   0.0050   \n",
       "4                                                  -0.1342   \n",
       "\n",
       "   2020, Коэффициент текущей ликвидности, %  \\\n",
       "0                                    8.3821   \n",
       "1                                    0.0734   \n",
       "2                                    0.0342   \n",
       "3                                    3.1668   \n",
       "4                                    0.0362   \n",
       "\n",
       "   2020, Коэффициент быстрой ликвидности, %  \\\n",
       "0                                    3.0846   \n",
       "1                                    0.0734   \n",
       "2                                    0.0236   \n",
       "3                                    1.8220   \n",
       "4                                    0.0237   \n",
       "\n",
       "   2020, Коэффициент абсолютной ликвидности, %     Округ          Отрасль  \n",
       "0                                       1.3824  Южный ФО  Растениеводство  \n",
       "1                                          NaN  Южный ФО  Растениеводство  \n",
       "2                                       0.0038  Южный ФО  Растениеводство  \n",
       "3                                       0.0002  Южный ФО  Растениеводство  \n",
       "4                                          NaN  Южный ФО  Растениеводство  \n",
       "\n",
       "[5 rows x 60 columns]"
      ]
     },
     "execution_count": 151,
     "metadata": {},
     "output_type": "execute_result"
    }
   ],
   "source": [
    "df.head()"
   ]
  },
  {
   "cell_type": "markdown",
   "id": "ddefb4f4",
   "metadata": {},
   "source": [
    "Сделаю пояснения для регрессоров для дальнейшего отбора"
   ]
  },
  {
   "cell_type": "code",
   "execution_count": 152,
   "id": "ae9a27e8",
   "metadata": {},
   "outputs": [],
   "source": [
    "pd.set_option('display.max_colwidth', None)"
   ]
  },
  {
   "cell_type": "code",
   "execution_count": 153,
   "id": "0d1c511b",
   "metadata": {},
   "outputs": [
    {
     "data": {
      "text/html": [
       "<div>\n",
       "<style scoped>\n",
       "    .dataframe tbody tr th:only-of-type {\n",
       "        vertical-align: middle;\n",
       "    }\n",
       "\n",
       "    .dataframe tbody tr th {\n",
       "        vertical-align: top;\n",
       "    }\n",
       "\n",
       "    .dataframe thead th {\n",
       "        text-align: right;\n",
       "    }\n",
       "</style>\n",
       "<table border=\"1\" class=\"dataframe\">\n",
       "  <thead>\n",
       "    <tr style=\"text-align: right;\">\n",
       "      <th></th>\n",
       "      <th>Регистрационный номер</th>\n",
       "      <th>Unnamed: 1</th>\n",
       "    </tr>\n",
       "  </thead>\n",
       "  <tbody>\n",
       "    <tr>\n",
       "      <th>0</th>\n",
       "      <td>Статус</td>\n",
       "      <td>0 - нет кредитного риска, 1 - есть кредитный риск</td>\n",
       "    </tr>\n",
       "    <tr>\n",
       "      <th>1</th>\n",
       "      <td>Регион регистрации</td>\n",
       "      <td>NaN</td>\n",
       "    </tr>\n",
       "    <tr>\n",
       "      <th>2</th>\n",
       "      <td>Код ОКАТО</td>\n",
       "      <td>Это идентификатор, который указывает на то, в какой республике, крае, области, округе и районе находится объект. Код ОКАТО присваивали организациям и индивидуальным предпринимателям при регистрации, чтобы понимать, где бизнес платит налоги.</td>\n",
       "    </tr>\n",
       "    <tr>\n",
       "      <th>3</th>\n",
       "      <td>Вид деятельности/отрасль</td>\n",
       "      <td>NaN</td>\n",
       "    </tr>\n",
       "    <tr>\n",
       "      <th>4</th>\n",
       "      <td>ИДО</td>\n",
       "      <td>Индекс Должной Осмотрительности представляет собой значение от 1 до 99, где более высокое значение отражает большую вероятность того, что компания создана не для уставных целей, а в качестве \"транзакционной единицы\", не имеющей существенных собственных активов и операций, или является \"брошенным\" активом.</td>\n",
       "    </tr>\n",
       "    <tr>\n",
       "      <th>5</th>\n",
       "      <td>ИФР</td>\n",
       "      <td>Индекс Финансового Риска (ИФР) представляет собой значение от 1 до 99, где более высокое значение указывает на наличие признаков неудовлетворительного финансового состояния, которые могут привести к тому, что компания утратит платежеспособность.</td>\n",
       "    </tr>\n",
       "    <tr>\n",
       "      <th>6</th>\n",
       "      <td>Сводный индикатор</td>\n",
       "      <td>Сводный индикатор риска является совокупной оценкой аналитических показателей, включая Индекс Должной Осмотрительности, Индекс Финансового Риска и Индекс Платежной Дисциплины (см. ниже), а также Статуса компании (состояние ликвидации, банкротства и т.д.). Представляет собой 3 значения риска: низкий, средний и высокий.</td>\n",
       "    </tr>\n",
       "    <tr>\n",
       "      <th>7</th>\n",
       "      <td>2020, Основные средства , RUB</td>\n",
       "      <td>Материальные активы, которые предприятие содержит с целью использования их в процессе производства или поставки товаров, предоставления услуг, сдачи в аренду другим лицам или для осуществления административных и социально-культурных функций, ожидаемый срок полезного использования (эксплуатации) которых более одного года (или операционного цикла, если он длится дольше года).</td>\n",
       "    </tr>\n",
       "    <tr>\n",
       "      <th>8</th>\n",
       "      <td>2020, Внеоборотные активы, RUB</td>\n",
       "      <td>Это имущественные ресурсы предприятия с длительным сроком обращаемости, используемые в процессе производства или коммерческой деятельности.</td>\n",
       "    </tr>\n",
       "    <tr>\n",
       "      <th>9</th>\n",
       "      <td>2020, Чистые активы, RUB</td>\n",
       "      <td>Это реальная стоимость имущества, имеющегося у общества, ежегодно определяемая за вычетом его долгов, то есть разница между активами и обязательствами компании</td>\n",
       "    </tr>\n",
       "    <tr>\n",
       "      <th>10</th>\n",
       "      <td>2020, Запасы, RUB</td>\n",
       "      <td>Это активы краткосрочного использования, то есть предметы, используемые в деятельности предприятия в течение периода, не превышающего 12 месяцев, независимо от их стоимости.</td>\n",
       "    </tr>\n",
       "    <tr>\n",
       "      <th>11</th>\n",
       "      <td>2020, Дебиторская задолженность, RUB</td>\n",
       "      <td>Это задолженность перед организацией, т.е. долги к получению. Дебиторская задолженность возникает, когда товары (работы, услуги) реализованы, а денежные средства за них еще не получены, или когда поставщику выплачен аванс, а товары (работы, услуги) в счет него еще не поступили.</td>\n",
       "    </tr>\n",
       "    <tr>\n",
       "      <th>12</th>\n",
       "      <td>2020, Денежные средства и денежные эквиваленты, RUB</td>\n",
       "      <td>Денежные средства – те, что находятся на расчётных счетах и в кассе организации. Денежные эквиваленты – финансовые вложения, которые можно быстро обменять на деньги (например, банковские депозиты, высоколиквидные облигации).</td>\n",
       "    </tr>\n",
       "    <tr>\n",
       "      <th>13</th>\n",
       "      <td>2020, Оборотные активы, RUB</td>\n",
       "      <td>Активы, которые потребляются в течение одного производственного цикла или списываются в течение года.</td>\n",
       "    </tr>\n",
       "    <tr>\n",
       "      <th>14</th>\n",
       "      <td>2020, Активы  всего, RUB</td>\n",
       "      <td>NaN</td>\n",
       "    </tr>\n",
       "    <tr>\n",
       "      <th>15</th>\n",
       "      <td>2020, Уставный капитал , RUB</td>\n",
       "      <td>Это деньги или имущество, которые вносятся учредителями организации на её нужды после государственной регистрации.</td>\n",
       "    </tr>\n",
       "    <tr>\n",
       "      <th>16</th>\n",
       "      <td>2020, Нераспределенная прибыль (непокрытый убыток), RUB</td>\n",
       "      <td>Остаток прибыли на конец года, которая не была выплачена в качестве дивидендов</td>\n",
       "    </tr>\n",
       "    <tr>\n",
       "      <th>17</th>\n",
       "      <td>2020, Капитал и резервы, RUB</td>\n",
       "      <td>Это пассивная сторона документа, которая отражает собственные средства организации и взятые в займы.</td>\n",
       "    </tr>\n",
       "    <tr>\n",
       "      <th>18</th>\n",
       "      <td>2020, Кредиторская задолженность, RUB</td>\n",
       "      <td>Задолженность субъекта перед другими лицами, которую этот субъект обязан погасить.</td>\n",
       "    </tr>\n",
       "    <tr>\n",
       "      <th>19</th>\n",
       "      <td>2020, Краткосрочные обязательства, RUB</td>\n",
       "      <td>Обязательства, которые компания должна погасить в течение года.</td>\n",
       "    </tr>\n",
       "    <tr>\n",
       "      <th>20</th>\n",
       "      <td>2020, Пассивы всего, RUB</td>\n",
       "      <td>Это совокупность источников формирования средств организации.</td>\n",
       "    </tr>\n",
       "    <tr>\n",
       "      <th>21</th>\n",
       "      <td>2020, Совокупный долг, RUB</td>\n",
       "      <td>Это сумма краткосрочных и долгосрочных долговых обязательств, по которым начисляются проценты, за исключением непроцентных обязательств, таких как начисленные расходы, кредиторская задолженность и отложенные налоги на прибыль.</td>\n",
       "    </tr>\n",
       "    <tr>\n",
       "      <th>22</th>\n",
       "      <td>2020, Выручка, RUB</td>\n",
       "      <td>Это поступление (в виде денежных средств или будущих выгод) от продажи товаров, работу или услуг. Выручка – самый общий показатель финансовых результатов организации.</td>\n",
       "    </tr>\n",
       "    <tr>\n",
       "      <th>23</th>\n",
       "      <td>2020, Себестоимость продаж, RUB</td>\n",
       "      <td>Расходы на изготовление и продажу продукции.</td>\n",
       "    </tr>\n",
       "    <tr>\n",
       "      <th>24</th>\n",
       "      <td>2020, Валовая прибыль (убыток), RUB</td>\n",
       "      <td>Это прибыль от обычных видов деятельности без учёта коммерческих и управленческих расходов.</td>\n",
       "    </tr>\n",
       "    <tr>\n",
       "      <th>25</th>\n",
       "      <td>2020, Прибыль (убыток) от продажи, RUB</td>\n",
       "      <td>Разность между валовой прибылью и коммерческими или управленческими расходами компании</td>\n",
       "    </tr>\n",
       "    <tr>\n",
       "      <th>26</th>\n",
       "      <td>2020, Прочие доходы, RUB</td>\n",
       "      <td>Это любые доходы компании, кроме выручки: арендная плата (для арендодателя); дивиденды; доходы от продажи основных средств; проценты по депозитам; подарки.</td>\n",
       "    </tr>\n",
       "    <tr>\n",
       "      <th>27</th>\n",
       "      <td>2020, Прочие расходы, RUB</td>\n",
       "      <td>Это любые расходы компании, которые не относятся к её основной деятельности.</td>\n",
       "    </tr>\n",
       "    <tr>\n",
       "      <th>28</th>\n",
       "      <td>2020, Прибыль (убыток) до налогообложения , RUB</td>\n",
       "      <td>Финансовый результат деятельности компании до уплаты подоходного налога с учетом вычета операционных и внеоперационных расходов.</td>\n",
       "    </tr>\n",
       "    <tr>\n",
       "      <th>29</th>\n",
       "      <td>2020, Чистая прибыль (убыток), RUB</td>\n",
       "      <td>Это доход бизнеса. Сумма, которая остаётся после вычета всех расходов, налогов и выплат по кредитам.</td>\n",
       "    </tr>\n",
       "    <tr>\n",
       "      <th>30</th>\n",
       "      <td>2020, EBIT, RUB</td>\n",
       "      <td>Прибыль до вычета процентов и налогов. Данный показатель финансового результата организации является промежуточным, между валовой и чистой прибылью</td>\n",
       "    </tr>\n",
       "    <tr>\n",
       "      <th>31</th>\n",
       "      <td>2020, Оборачиваемость кредиторской задолженности, разы</td>\n",
       "      <td>Это показатель скорости погашения организацией своей задолженности перед поставщиками и подрядчиками.\\nДанный коэффициент показывает, сколько раз (обычно, за год) фирма погасила среднюю величину своей кредиторской задолженности.</td>\n",
       "    </tr>\n",
       "    <tr>\n",
       "      <th>32</th>\n",
       "      <td>2020, Оборачиваемость запасов, разы</td>\n",
       "      <td>Процесс обновления и замены запасов посредством перемещения материальных ценностей (вложенных в них денежных средств) из категории запасов в производственный и/или реализационный процесс.</td>\n",
       "    </tr>\n",
       "    <tr>\n",
       "      <th>33</th>\n",
       "      <td>2020, Оборачиваемость основных средств, разы</td>\n",
       "      <td>Это коэффициент эффективности, который показывает, насколько хорошо или эффективно бизнес использует основные средства для получения продаж. Этот коэффициент делит чистые продажи на чистые основные средства, рассчитанные за годовой период.</td>\n",
       "    </tr>\n",
       "    <tr>\n",
       "      <th>34</th>\n",
       "      <td>2020, Соотношение валовой прибыли к активам компании, %</td>\n",
       "      <td>NaN</td>\n",
       "    </tr>\n",
       "    <tr>\n",
       "      <th>35</th>\n",
       "      <td>2020, Доля рабочего капитала в активах компании, %</td>\n",
       "      <td>Это капитал компании для финансирования её операционной деятельности.</td>\n",
       "    </tr>\n",
       "    <tr>\n",
       "      <th>36</th>\n",
       "      <td>2020, Коэффициент оборачиваемости совокупных активов, %</td>\n",
       "      <td>Оценивает общую способность компании генерировать выручку при данном общем уровне активов. Значение коэффициента 1.20 будет означать, что компания генерирует €1.20 выручки на каждый €1 средних общих активов.</td>\n",
       "    </tr>\n",
       "    <tr>\n",
       "      <th>37</th>\n",
       "      <td>2020, Коэффициент соотношения заемных и собственных средств, %</td>\n",
       "      <td>NaN</td>\n",
       "    </tr>\n",
       "    <tr>\n",
       "      <th>38</th>\n",
       "      <td>2020, Соотношение совокупного долга к капиталу, %</td>\n",
       "      <td>D/E (Debt/Equity — долг/капитал) — отношение общего долга компании к ее собственному капиталу.</td>\n",
       "    </tr>\n",
       "    <tr>\n",
       "      <th>39</th>\n",
       "      <td>2020, Соотношение чистого долга к капиталу, %</td>\n",
       "      <td>Чистый долг/Собственный капитал (Net debt/Equity) – его считают очень важным показателем для оценки корпоративной деятельности, так как он подчеркивает зависимость компании от заемных средств, и ее способность выполнять эти финансовые обязательства.</td>\n",
       "    </tr>\n",
       "    <tr>\n",
       "      <th>40</th>\n",
       "      <td>2020, Соотношение совокупного долга к EBIT, %</td>\n",
       "      <td>Коэффициент, используемый в финансовом анализе для определения уровня долговой нагрузки компании. Показатель представляет собой отношение совокупного долга и прибыли до уплаты процентов по кредитам, налога на прибыль, учета износа и начисленной амортизации (EBITDA).</td>\n",
       "    </tr>\n",
       "    <tr>\n",
       "      <th>41</th>\n",
       "      <td>2020, Коэффициент концентрации собственного капитала (автономии), %</td>\n",
       "      <td>Коэффициент концентрации собственного капитала (автономии, независимости) ККС: ККС= СК / ВБ, (10) где. СК - собственный капитал; ВБ - валюта баланса. Этот показатель характеризует долю владельцев предприятия в общей сумме средств, авансированных в его деятельность</td>\n",
       "    </tr>\n",
       "    <tr>\n",
       "      <th>42</th>\n",
       "      <td>2020, Коэффициент маневренности собственных средств, %</td>\n",
       "      <td>Показывает, какая часть чистого оборотного капитала приходится на 1 руб. собственных средств.</td>\n",
       "    </tr>\n",
       "    <tr>\n",
       "      <th>43</th>\n",
       "      <td>2020, Коэффициент обеспеченности собственными оборотными средствами, %</td>\n",
       "      <td>Определяется как отношение собственных средств в обороте ко всей величине оборотных средств и показывает степень обеспеченности хозяйственной деятельности собственными оборотными средствами, необходимую для гарантирования финансовой устойчивости.</td>\n",
       "    </tr>\n",
       "    <tr>\n",
       "      <th>44</th>\n",
       "      <td>2020, Коэффициент концентрации заемного капитала,%</td>\n",
       "      <td>Коэффициент, отражающий отношение сформированных за счет внешних займов активов к общему капиталу компании</td>\n",
       "    </tr>\n",
       "    <tr>\n",
       "      <th>45</th>\n",
       "      <td>2020, Валовая рентабельность, %</td>\n",
       "      <td>Показатель, который выражается в процентах и показывает, какая часть от выручки становится валовой прибылью.</td>\n",
       "    </tr>\n",
       "    <tr>\n",
       "      <th>46</th>\n",
       "      <td>2020, Рентабельность продаж, %</td>\n",
       "      <td>Это отношение прибыли к выручке. Она показывает, сколько прибыли получает компания с каждого рубля выручки. Если рентабельность за месяц равна 30%, то в одном рубле выручки 30 копеек прибыли.</td>\n",
       "    </tr>\n",
       "    <tr>\n",
       "      <th>47</th>\n",
       "      <td>2020, Рентабельность затрат, %</td>\n",
       "      <td>Это коэффициент который показывает количество получаемого дохода с одного потраченного рубля и рассчитывается как соотношение чистой прибыли к совокупной сумме затрат на создание и последующую реализацию продукции.</td>\n",
       "    </tr>\n",
       "    <tr>\n",
       "      <th>48</th>\n",
       "      <td>2020, Доля себестоимости как процент от выручки, %</td>\n",
       "      <td>Себестоимость продаж/Выручка*100%.</td>\n",
       "    </tr>\n",
       "    <tr>\n",
       "      <th>49</th>\n",
       "      <td>2020, Рентабельность прибыли до налогообложения и процентов - (EBITM), %</td>\n",
       "      <td>Величина прибыли от продаж до уплаты процентов и налогов в каждом рубле выручки.</td>\n",
       "    </tr>\n",
       "    <tr>\n",
       "      <th>50</th>\n",
       "      <td>2020, Рентабельность активов (ROA), %</td>\n",
       "      <td>Отношение прибыли бизнеса к стоимости его активов. Она показывает, сколько копеек приносит каждый рубль, вложенный в активы.</td>\n",
       "    </tr>\n",
       "    <tr>\n",
       "      <th>51</th>\n",
       "      <td>2020, Рентабельность капитала (ROE), %</td>\n",
       "      <td>Это показатель, который показывает, с какой отдачей работают деньги, вложенные в компанию. Причём вложения — это только уставный или акционерный капитал.</td>\n",
       "    </tr>\n",
       "    <tr>\n",
       "      <th>52</th>\n",
       "      <td>2020, Рентабельность активов (п. 1.6 ст.105.8 НК РФ), %</td>\n",
       "      <td>Опеделяемая как отношение прибыли от продаж к текущей рыночной стоимости активов (внеоборотных и оборотных), прямо или косвенно используемых в анализируемой сделке.</td>\n",
       "    </tr>\n",
       "    <tr>\n",
       "      <th>53</th>\n",
       "      <td>2020, Коэффициент текущей ликвидности, %</td>\n",
       "      <td>Равен отношению оборотных активов к краткосрочным обязательствам (текущим пассивам)</td>\n",
       "    </tr>\n",
       "    <tr>\n",
       "      <th>54</th>\n",
       "      <td>2020, Коэффициент быстрой ликвидности, %</td>\n",
       "      <td>Характеризует способность организации погасить свои краткосрочные обязательства за счет продажи ликвидных активов. Коэффициент быстрой ликвидности = (Денежные средства + Краткосрочные финансовые вложения + Краткосрочная дебиторская задолженность) / Краткосрочные обязательства</td>\n",
       "    </tr>\n",
       "    <tr>\n",
       "      <th>55</th>\n",
       "      <td>2020, Коэффициент абсолютной ликвидности, %</td>\n",
       "      <td>Деньги / Краткосрочные обязательства компании. Этот коэффициент показывает, какая доля долгов компании обеспечена ее деньгами. То есть какую часть долгов и кредитов компания может погасить сразу же, без продажи своего имущества.</td>\n",
       "    </tr>\n",
       "    <tr>\n",
       "      <th>56</th>\n",
       "      <td>Отрасль</td>\n",
       "      <td>NaN</td>\n",
       "    </tr>\n",
       "    <tr>\n",
       "      <th>57</th>\n",
       "      <td>Округ</td>\n",
       "      <td>NaN</td>\n",
       "    </tr>\n",
       "  </tbody>\n",
       "</table>\n",
       "</div>"
      ],
      "text/plain": [
       "                                                       Регистрационный номер  \\\n",
       "0                                                                     Статус   \n",
       "1                                                         Регион регистрации   \n",
       "2                                                                  Код ОКАТО   \n",
       "3                                                   Вид деятельности/отрасль   \n",
       "4                                                                        ИДО   \n",
       "5                                                                        ИФР   \n",
       "6                                                          Сводный индикатор   \n",
       "7                                              2020, Основные средства , RUB   \n",
       "8                                             2020, Внеоборотные активы, RUB   \n",
       "9                                                   2020, Чистые активы, RUB   \n",
       "10                                                         2020, Запасы, RUB   \n",
       "11                                      2020, Дебиторская задолженность, RUB   \n",
       "12                       2020, Денежные средства и денежные эквиваленты, RUB   \n",
       "13                                               2020, Оборотные активы, RUB   \n",
       "14                                                  2020, Активы  всего, RUB   \n",
       "15                                              2020, Уставный капитал , RUB   \n",
       "16                   2020, Нераспределенная прибыль (непокрытый убыток), RUB   \n",
       "17                                              2020, Капитал и резервы, RUB   \n",
       "18                                     2020, Кредиторская задолженность, RUB   \n",
       "19                                    2020, Краткосрочные обязательства, RUB   \n",
       "20                                                  2020, Пассивы всего, RUB   \n",
       "21                                                2020, Совокупный долг, RUB   \n",
       "22                                                        2020, Выручка, RUB   \n",
       "23                                           2020, Себестоимость продаж, RUB   \n",
       "24                                       2020, Валовая прибыль (убыток), RUB   \n",
       "25                                    2020, Прибыль (убыток) от продажи, RUB   \n",
       "26                                                  2020, Прочие доходы, RUB   \n",
       "27                                                 2020, Прочие расходы, RUB   \n",
       "28                           2020, Прибыль (убыток) до налогообложения , RUB   \n",
       "29                                        2020, Чистая прибыль (убыток), RUB   \n",
       "30                                                           2020, EBIT, RUB   \n",
       "31                    2020, Оборачиваемость кредиторской задолженности, разы   \n",
       "32                                       2020, Оборачиваемость запасов, разы   \n",
       "33                              2020, Оборачиваемость основных средств, разы   \n",
       "34                   2020, Соотношение валовой прибыли к активам компании, %   \n",
       "35                        2020, Доля рабочего капитала в активах компании, %   \n",
       "36                   2020, Коэффициент оборачиваемости совокупных активов, %   \n",
       "37            2020, Коэффициент соотношения заемных и собственных средств, %   \n",
       "38                         2020, Соотношение совокупного долга к капиталу, %   \n",
       "39                             2020, Соотношение чистого долга к капиталу, %   \n",
       "40                             2020, Соотношение совокупного долга к EBIT, %   \n",
       "41       2020, Коэффициент концентрации собственного капитала (автономии), %   \n",
       "42                    2020, Коэффициент маневренности собственных средств, %   \n",
       "43    2020, Коэффициент обеспеченности собственными оборотными средствами, %   \n",
       "44                        2020, Коэффициент концентрации заемного капитала,%   \n",
       "45                                           2020, Валовая рентабельность, %   \n",
       "46                                            2020, Рентабельность продаж, %   \n",
       "47                                            2020, Рентабельность затрат, %   \n",
       "48                        2020, Доля себестоимости как процент от выручки, %   \n",
       "49  2020, Рентабельность прибыли до налогообложения и процентов - (EBITM), %   \n",
       "50                                     2020, Рентабельность активов (ROA), %   \n",
       "51                                    2020, Рентабельность капитала (ROE), %   \n",
       "52                   2020, Рентабельность активов (п. 1.6 ст.105.8 НК РФ), %   \n",
       "53                                  2020, Коэффициент текущей ликвидности, %   \n",
       "54                                  2020, Коэффициент быстрой ликвидности, %   \n",
       "55                               2020, Коэффициент абсолютной ликвидности, %   \n",
       "56                                                                   Отрасль   \n",
       "57                                                                     Округ   \n",
       "\n",
       "                                                                                                                                                                                                                                                                                                                                                                                  Unnamed: 1  \n",
       "0                                                                                                                                                                                                                                                                                                                                          0 - нет кредитного риска, 1 - есть кредитный риск  \n",
       "1                                                                                                                                                                                                                                                                                                                                                                                        NaN  \n",
       "2                                                                                                                                           Это идентификатор, который указывает на то, в какой республике, крае, области, округе и районе находится объект. Код ОКАТО присваивали организациям и индивидуальным предпринимателям при регистрации, чтобы понимать, где бизнес платит налоги.  \n",
       "3                                                                                                                                                                                                                                                                                                                                                                                        NaN  \n",
       "4                                                                         Индекс Должной Осмотрительности представляет собой значение от 1 до 99, где более высокое значение отражает большую вероятность того, что компания создана не для уставных целей, а в качестве \"транзакционной единицы\", не имеющей существенных собственных активов и операций, или является \"брошенным\" активом.  \n",
       "5                                                                                                                                      Индекс Финансового Риска (ИФР) представляет собой значение от 1 до 99, где более высокое значение указывает на наличие признаков неудовлетворительного финансового состояния, которые могут привести к тому, что компания утратит платежеспособность.  \n",
       "6                                                            Сводный индикатор риска является совокупной оценкой аналитических показателей, включая Индекс Должной Осмотрительности, Индекс Финансового Риска и Индекс Платежной Дисциплины (см. ниже), а также Статуса компании (состояние ликвидации, банкротства и т.д.). Представляет собой 3 значения риска: низкий, средний и высокий.  \n",
       "7   Материальные активы, которые предприятие содержит с целью использования их в процессе производства или поставки товаров, предоставления услуг, сдачи в аренду другим лицам или для осуществления административных и социально-культурных функций, ожидаемый срок полезного использования (эксплуатации) которых более одного года (или операционного цикла, если он длится дольше года).  \n",
       "8                                                                                                                                                                                                                                                Это имущественные ресурсы предприятия с длительным сроком обращаемости, используемые в процессе производства или коммерческой деятельности.  \n",
       "9                                                                                                                                                                                                                            Это реальная стоимость имущества, имеющегося у общества, ежегодно определяемая за вычетом его долгов, то есть разница между активами и обязательствами компании  \n",
       "10                                                                                                                                                                                                             Это активы краткосрочного использования, то есть предметы, используемые в деятельности предприятия в течение периода, не превышающего 12 месяцев, независимо от их стоимости.  \n",
       "11                                                                                                    Это задолженность перед организацией, т.е. долги к получению. Дебиторская задолженность возникает, когда товары (работы, услуги) реализованы, а денежные средства за них еще не получены, или когда поставщику выплачен аванс, а товары (работы, услуги) в счет него еще не поступили.  \n",
       "12                                                                                                                                                         Денежные средства – те, что находятся на расчётных счетах и в кассе организации. Денежные эквиваленты – финансовые вложения, которые можно быстро обменять на деньги (например, банковские депозиты, высоколиквидные облигации).   \n",
       "13                                                                                                                                                                                                                                                                                     Активы, которые потребляются в течение одного производственного цикла или списываются в течение года.  \n",
       "14                                                                                                                                                                                                                                                                                                                                                                                       NaN  \n",
       "15                                                                                                                                                                                                                                                                        Это деньги или имущество, которые вносятся учредителями организации на её нужды после государственной регистрации.  \n",
       "16                                                                                                                                                                                                                                                                                                            Остаток прибыли на конец года, которая не была выплачена в качестве дивидендов  \n",
       "17                                                                                                                                                                                                                                                                                      Это пассивная сторона документа, которая отражает собственные средства организации и взятые в займы.  \n",
       "18                                                                                                                                                                                                                                                                                                        Задолженность субъекта перед другими лицами, которую этот субъект обязан погасить.  \n",
       "19                                                                                                                                                                                                                                                                                                                           Обязательства, которые компания должна погасить в течение года.  \n",
       "20                                                                                                                                                                                                                                                                                                                             Это совокупность источников формирования средств организации.  \n",
       "21                                                                                                                                                        Это сумма краткосрочных и долгосрочных долговых обязательств, по которым начисляются проценты, за исключением непроцентных обязательств, таких как начисленные расходы, кредиторская задолженность и отложенные налоги на прибыль.  \n",
       "22                                                                                                                                                                                                                    Это поступление (в виде денежных средств или будущих выгод) от продажи товаров, работу или услуг. Выручка – самый общий показатель финансовых результатов организации.  \n",
       "23                                                                                                                                                                                                                                                                                                                                              Расходы на изготовление и продажу продукции.  \n",
       "24                                                                                                                                                                                                                                                                                               Это прибыль от обычных видов деятельности без учёта коммерческих и управленческих расходов.  \n",
       "25                                                                                                                                                                                                                                                                                                    Разность между валовой прибылью и коммерческими или управленческими расходами компании  \n",
       "26                                                                                                                                                                                                                               Это любые доходы компании, кроме выручки: арендная плата (для арендодателя); дивиденды; доходы от продажи основных средств; проценты по депозитам; подарки.  \n",
       "27                                                                                                                                                                                                                                                                                                              Это любые расходы компании, которые не относятся к её основной деятельности.  \n",
       "28                                                                                                                                                                                                                                                          Финансовый результат деятельности компании до уплаты подоходного налога с учетом вычета операционных и внеоперационных расходов.  \n",
       "29                                                                                                                                                                                                                                                                                      Это доход бизнеса. Сумма, которая остаётся после вычета всех расходов, налогов и выплат по кредитам.  \n",
       "30                                                                                                                                                                                                                                       Прибыль до вычета процентов и налогов. Данный показатель финансового результата организации является промежуточным, между валовой и чистой прибылью  \n",
       "31                                                                                                                                                      Это показатель скорости погашения организацией своей задолженности перед поставщиками и подрядчиками.\\nДанный коэффициент показывает, сколько раз (обычно, за год) фирма погасила среднюю величину своей кредиторской задолженности.  \n",
       "32                                                                                                                                                                                               Процесс обновления и замены запасов посредством перемещения материальных ценностей (вложенных в них денежных средств) из категории запасов в производственный и/или реализационный процесс.  \n",
       "33                                                                                                                                           Это коэффициент эффективности, который показывает, насколько хорошо или эффективно бизнес использует основные средства для получения продаж. Этот коэффициент делит чистые продажи на чистые основные средства, рассчитанные за годовой период.  \n",
       "34                                                                                                                                                                                                                                                                                                                                                                                       NaN  \n",
       "35                                                                                                                                                                                                                                                                                                                     Это капитал компании для финансирования её операционной деятельности.  \n",
       "36                                                                                                                                                                           Оценивает общую способность компании генерировать выручку при данном общем уровне активов. Значение коэффициента 1.20 будет означать, что компания генерирует €1.20 выручки на каждый €1 средних общих активов.  \n",
       "37                                                                                                                                                                                                                                                                                                                                                                                       NaN  \n",
       "38                                                                                                                                                                                                                                                                                           D/E (Debt/Equity — долг/капитал) — отношение общего долга компании к ее собственному капиталу.   \n",
       "39                                                                                                                                 Чистый долг/Собственный капитал (Net debt/Equity) – его считают очень важным показателем для оценки корпоративной деятельности, так как он подчеркивает зависимость компании от заемных средств, и ее способность выполнять эти финансовые обязательства.  \n",
       "40                                                                                                                Коэффициент, используемый в финансовом анализе для определения уровня долговой нагрузки компании. Показатель представляет собой отношение совокупного долга и прибыли до уплаты процентов по кредитам, налога на прибыль, учета износа и начисленной амортизации (EBITDA).  \n",
       "41                                                                                                                  Коэффициент концентрации собственного капитала (автономии, независимости) ККС: ККС= СК / ВБ, (10) где. СК - собственный капитал; ВБ - валюта баланса. Этот показатель характеризует долю владельцев предприятия в общей сумме средств, авансированных в его деятельность  \n",
       "42                                                                                                                                                                                                                                                                                             Показывает, какая часть чистого оборотного капитала приходится на 1 руб. собственных средств.  \n",
       "43                                                                                                                                    Определяется как отношение собственных средств в обороте ко всей величине оборотных средств и показывает степень обеспеченности хозяйственной деятельности собственными оборотными средствами, необходимую для гарантирования финансовой устойчивости.  \n",
       "44                                                                                                                                                                                                                                                                                Коэффициент, отражающий отношение сформированных за счет внешних займов активов к общему капиталу компании  \n",
       "45                                                                                                                                                                                                                                                                              Показатель, который выражается в процентах и показывает, какая часть от выручки становится валовой прибылью.  \n",
       "46                                                                                                                                                                                           Это отношение прибыли к выручке. Она показывает, сколько прибыли получает компания с каждого рубля выручки. Если рентабельность за месяц равна 30%, то в одном рубле выручки 30 копеек прибыли.  \n",
       "47                                                                                                                                                                    Это коэффициент который показывает количество получаемого дохода с одного потраченного рубля и рассчитывается как соотношение чистой прибыли к совокупной сумме затрат на создание и последующую реализацию продукции.  \n",
       "48                                                                                                                                                                                                                                                                                                                                                        Себестоимость продаж/Выручка*100%.  \n",
       "49                                                                                                                                                                                                                                                                                                          Величина прибыли от продаж до уплаты процентов и налогов в каждом рубле выручки.  \n",
       "50                                                                                                                                                                                                                                                              Отношение прибыли бизнеса к стоимости его активов. Она показывает, сколько копеек приносит каждый рубль, вложенный в активы.  \n",
       "51                                                                                                                                                                                                                                 Это показатель, который показывает, с какой отдачей работают деньги, вложенные в компанию. Причём вложения — это только уставный или акционерный капитал.  \n",
       "52                                                                                                                                                                                                                      Опеделяемая как отношение прибыли от продаж к текущей рыночной стоимости активов (внеоборотных и оборотных), прямо или косвенно используемых в анализируемой сделке.  \n",
       "53                                                                                                                                                                                                                                                                                                       Равен отношению оборотных активов к краткосрочным обязательствам (текущим пассивам)  \n",
       "54                                                                                                      Характеризует способность организации погасить свои краткосрочные обязательства за счет продажи ликвидных активов. Коэффициент быстрой ликвидности = (Денежные средства + Краткосрочные финансовые вложения + Краткосрочная дебиторская задолженность) / Краткосрочные обязательства  \n",
       "55                                                                                                                                                      Деньги / Краткосрочные обязательства компании. Этот коэффициент показывает, какая доля долгов компании обеспечена ее деньгами. То есть какую часть долгов и кредитов компания может погасить сразу же, без продажи своего имущества.  \n",
       "56                                                                                                                                                                                                                                                                                                                                                                                       NaN  \n",
       "57                                                                                                                                                                                                                                                                                                                                                                                       NaN  "
      ]
     },
     "execution_count": 153,
     "metadata": {},
     "output_type": "execute_result"
    }
   ],
   "source": [
    "regr_explain = pd.read_excel('Т9 Данные_Логит_модель_Скоринг_фермеры.xlsx', sheet_name='Пояснение столбцов', decimal=',')\n",
    "regr_explain"
   ]
  },
  {
   "cell_type": "markdown",
   "id": "94b3117e",
   "metadata": {},
   "source": [
    "Критерии отбора:\n",
    "1) Показатели, по которым можно опредить уровень платежеспособности компании.\n",
    "2) Регрессор нельзя вычислить из других отобранных регрессоров."
   ]
  },
  {
   "cell_type": "code",
   "execution_count": 154,
   "id": "7289c4f6",
   "metadata": {},
   "outputs": [],
   "source": [
    "#Отобранные регрессоры\n",
    "regressors = ['Округ','Отрасль','ИДО', 'ИФР', '2020, Оборотные активы, RUB', '2020, Капитал и резервы, RUB',\n",
    "          '2020, Совокупный долг, RUB', '2020, Выручка, RUB', '2020, Чистая прибыль (убыток), RUB',\n",
    "          '2020, Оборачиваемость кредиторской задолженности, разы', '2020, Соотношение совокупного долга к EBIT, %']"
   ]
  },
  {
   "cell_type": "code",
   "execution_count": 155,
   "id": "d94a6dc8",
   "metadata": {},
   "outputs": [
    {
     "data": {
      "text/html": [
       "<div>\n",
       "<style scoped>\n",
       "    .dataframe tbody tr th:only-of-type {\n",
       "        vertical-align: middle;\n",
       "    }\n",
       "\n",
       "    .dataframe tbody tr th {\n",
       "        vertical-align: top;\n",
       "    }\n",
       "\n",
       "    .dataframe thead th {\n",
       "        text-align: right;\n",
       "    }\n",
       "</style>\n",
       "<table border=\"1\" class=\"dataframe\">\n",
       "  <thead>\n",
       "    <tr style=\"text-align: right;\">\n",
       "      <th></th>\n",
       "      <th>Регрессор</th>\n",
       "      <th>Пояснение</th>\n",
       "    </tr>\n",
       "  </thead>\n",
       "  <tbody>\n",
       "    <tr>\n",
       "      <th>0</th>\n",
       "      <td>ИДО</td>\n",
       "      <td>Индекс Должной Осмотрительности представляет собой значение от 1 до 99, где более высокое значение отражает большую вероятность того, что компания создана не для уставных целей, а в качестве \"транзакционной единицы\", не имеющей существенных собственных активов и операций, или является \"брошенным\" активом.</td>\n",
       "    </tr>\n",
       "    <tr>\n",
       "      <th>1</th>\n",
       "      <td>ИФР</td>\n",
       "      <td>Индекс Финансового Риска (ИФР) представляет собой значение от 1 до 99, где более высокое значение указывает на наличие признаков неудовлетворительного финансового состояния, которые могут привести к тому, что компания утратит платежеспособность.</td>\n",
       "    </tr>\n",
       "    <tr>\n",
       "      <th>2</th>\n",
       "      <td>2020, Оборотные активы, RUB</td>\n",
       "      <td>Активы, которые потребляются в течение одного производственного цикла или списываются в течение года.</td>\n",
       "    </tr>\n",
       "    <tr>\n",
       "      <th>3</th>\n",
       "      <td>2020, Капитал и резервы, RUB</td>\n",
       "      <td>Это пассивная сторона документа, которая отражает собственные средства организации и взятые в займы.</td>\n",
       "    </tr>\n",
       "    <tr>\n",
       "      <th>4</th>\n",
       "      <td>2020, Совокупный долг, RUB</td>\n",
       "      <td>Это сумма краткосрочных и долгосрочных долговых обязательств, по которым начисляются проценты, за исключением непроцентных обязательств, таких как начисленные расходы, кредиторская задолженность и отложенные налоги на прибыль.</td>\n",
       "    </tr>\n",
       "    <tr>\n",
       "      <th>5</th>\n",
       "      <td>2020, Выручка, RUB</td>\n",
       "      <td>Это поступление (в виде денежных средств или будущих выгод) от продажи товаров, работу или услуг. Выручка – самый общий показатель финансовых результатов организации.</td>\n",
       "    </tr>\n",
       "    <tr>\n",
       "      <th>6</th>\n",
       "      <td>2020, Чистая прибыль (убыток), RUB</td>\n",
       "      <td>Это доход бизнеса. Сумма, которая остаётся после вычета всех расходов, налогов и выплат по кредитам.</td>\n",
       "    </tr>\n",
       "    <tr>\n",
       "      <th>7</th>\n",
       "      <td>2020, Оборачиваемость кредиторской задолженности, разы</td>\n",
       "      <td>Это показатель скорости погашения организацией своей задолженности перед поставщиками и подрядчиками.\\nДанный коэффициент показывает, сколько раз (обычно, за год) фирма погасила среднюю величину своей кредиторской задолженности.</td>\n",
       "    </tr>\n",
       "    <tr>\n",
       "      <th>8</th>\n",
       "      <td>2020, Соотношение совокупного долга к EBIT, %</td>\n",
       "      <td>Коэффициент, используемый в финансовом анализе для определения уровня долговой нагрузки компании. Показатель представляет собой отношение совокупного долга и прибыли до уплаты процентов по кредитам, налога на прибыль, учета износа и начисленной амортизации (EBITDA).</td>\n",
       "    </tr>\n",
       "    <tr>\n",
       "      <th>9</th>\n",
       "      <td>Отрасль</td>\n",
       "      <td>NaN</td>\n",
       "    </tr>\n",
       "    <tr>\n",
       "      <th>10</th>\n",
       "      <td>Округ</td>\n",
       "      <td>NaN</td>\n",
       "    </tr>\n",
       "  </tbody>\n",
       "</table>\n",
       "</div>"
      ],
      "text/plain": [
       "                                                 Регрессор  \\\n",
       "0                                                      ИДО   \n",
       "1                                                      ИФР   \n",
       "2                              2020, Оборотные активы, RUB   \n",
       "3                             2020, Капитал и резервы, RUB   \n",
       "4                               2020, Совокупный долг, RUB   \n",
       "5                                       2020, Выручка, RUB   \n",
       "6                       2020, Чистая прибыль (убыток), RUB   \n",
       "7   2020, Оборачиваемость кредиторской задолженности, разы   \n",
       "8            2020, Соотношение совокупного долга к EBIT, %   \n",
       "9                                                  Отрасль   \n",
       "10                                                   Округ   \n",
       "\n",
       "                                                                                                                                                                                                                                                                                                             Пояснение  \n",
       "0   Индекс Должной Осмотрительности представляет собой значение от 1 до 99, где более высокое значение отражает большую вероятность того, что компания создана не для уставных целей, а в качестве \"транзакционной единицы\", не имеющей существенных собственных активов и операций, или является \"брошенным\" активом.  \n",
       "1                                                                Индекс Финансового Риска (ИФР) представляет собой значение от 1 до 99, где более высокое значение указывает на наличие признаков неудовлетворительного финансового состояния, которые могут привести к тому, что компания утратит платежеспособность.  \n",
       "2                                                                                                                                                                                                                Активы, которые потребляются в течение одного производственного цикла или списываются в течение года.  \n",
       "3                                                                                                                                                                                                                 Это пассивная сторона документа, которая отражает собственные средства организации и взятые в займы.  \n",
       "4                                                                                   Это сумма краткосрочных и долгосрочных долговых обязательств, по которым начисляются проценты, за исключением непроцентных обязательств, таких как начисленные расходы, кредиторская задолженность и отложенные налоги на прибыль.  \n",
       "5                                                                                                                                               Это поступление (в виде денежных средств или будущих выгод) от продажи товаров, работу или услуг. Выручка – самый общий показатель финансовых результатов организации.  \n",
       "6                                                                                                                                                                                                                 Это доход бизнеса. Сумма, которая остаётся после вычета всех расходов, налогов и выплат по кредитам.  \n",
       "7                                                                                 Это показатель скорости погашения организацией своей задолженности перед поставщиками и подрядчиками.\\nДанный коэффициент показывает, сколько раз (обычно, за год) фирма погасила среднюю величину своей кредиторской задолженности.  \n",
       "8                                           Коэффициент, используемый в финансовом анализе для определения уровня долговой нагрузки компании. Показатель представляет собой отношение совокупного долга и прибыли до уплаты процентов по кредитам, налога на прибыль, учета износа и начисленной амортизации (EBITDA).  \n",
       "9                                                                                                                                                                                                                                                                                                                  NaN  \n",
       "10                                                                                                                                                                                                                                                                                                                 NaN  "
      ]
     },
     "execution_count": 155,
     "metadata": {},
     "output_type": "execute_result"
    }
   ],
   "source": [
    "data_regressors = pd.DataFrame(columns=['Регрессор', 'Пояснение'])\n",
    "for row in range(regr_explain.shape[0]):\n",
    "    regr = regr_explain.iloc[row, 0]\n",
    "    if regr in regressors:\n",
    "        data_regressors.loc[len(data_regressors)] = [regr,regr_explain.iloc[row,1]]\n",
    "\n",
    "data_regressors"
   ]
  },
  {
   "cell_type": "code",
   "execution_count": 156,
   "id": "9414f1a0",
   "metadata": {},
   "outputs": [
    {
     "data": {
      "text/html": [
       "<div>\n",
       "<style scoped>\n",
       "    .dataframe tbody tr th:only-of-type {\n",
       "        vertical-align: middle;\n",
       "    }\n",
       "\n",
       "    .dataframe tbody tr th {\n",
       "        vertical-align: top;\n",
       "    }\n",
       "\n",
       "    .dataframe thead th {\n",
       "        text-align: right;\n",
       "    }\n",
       "</style>\n",
       "<table border=\"1\" class=\"dataframe\">\n",
       "  <thead>\n",
       "    <tr style=\"text-align: right;\">\n",
       "      <th></th>\n",
       "      <th>Округ</th>\n",
       "      <th>Отрасль</th>\n",
       "      <th>ИДО</th>\n",
       "      <th>ИФР</th>\n",
       "      <th>2020, Оборотные активы, RUB</th>\n",
       "      <th>2020, Капитал и резервы, RUB</th>\n",
       "      <th>2020, Совокупный долг, RUB</th>\n",
       "      <th>2020, Выручка, RUB</th>\n",
       "      <th>2020, Чистая прибыль (убыток), RUB</th>\n",
       "      <th>2020, Оборачиваемость кредиторской задолженности, разы</th>\n",
       "      <th>2020, Соотношение совокупного долга к EBIT, %</th>\n",
       "    </tr>\n",
       "  </thead>\n",
       "  <tbody>\n",
       "    <tr>\n",
       "      <th>0</th>\n",
       "      <td>Южный ФО</td>\n",
       "      <td>Растениеводство</td>\n",
       "      <td>62.0</td>\n",
       "      <td>9.0</td>\n",
       "      <td>100015000.0</td>\n",
       "      <td>1.183340e+08</td>\n",
       "      <td>1.485700e+07</td>\n",
       "      <td>57500000.0</td>\n",
       "      <td>297000.0</td>\n",
       "      <td>4.6</td>\n",
       "      <td>9.2563</td>\n",
       "    </tr>\n",
       "    <tr>\n",
       "      <th>1</th>\n",
       "      <td>Южный ФО</td>\n",
       "      <td>Растениеводство</td>\n",
       "      <td>41.0</td>\n",
       "      <td>94.0</td>\n",
       "      <td>3727000.0</td>\n",
       "      <td>5.589000e+06</td>\n",
       "      <td>5.080200e+07</td>\n",
       "      <td>8076000.0</td>\n",
       "      <td>-1145000.0</td>\n",
       "      <td>0.2</td>\n",
       "      <td>NaN</td>\n",
       "    </tr>\n",
       "    <tr>\n",
       "      <th>2</th>\n",
       "      <td>Южный ФО</td>\n",
       "      <td>Растениеводство</td>\n",
       "      <td>2.0</td>\n",
       "      <td>97.0</td>\n",
       "      <td>39874000.0</td>\n",
       "      <td>-1.127406e+09</td>\n",
       "      <td>1.167280e+09</td>\n",
       "      <td>21490000.0</td>\n",
       "      <td>-30440000.0</td>\n",
       "      <td>NaN</td>\n",
       "      <td>NaN</td>\n",
       "    </tr>\n",
       "    <tr>\n",
       "      <th>3</th>\n",
       "      <td>Южный ФО</td>\n",
       "      <td>Растениеводство</td>\n",
       "      <td>30.0</td>\n",
       "      <td>22.0</td>\n",
       "      <td>16382000.0</td>\n",
       "      <td>2.172400e+07</td>\n",
       "      <td>1.909300e+07</td>\n",
       "      <td>8053000.0</td>\n",
       "      <td>2790000.0</td>\n",
       "      <td>1.3</td>\n",
       "      <td>4.3774</td>\n",
       "    </tr>\n",
       "    <tr>\n",
       "      <th>4</th>\n",
       "      <td>Южный ФО</td>\n",
       "      <td>Растениеводство</td>\n",
       "      <td>15.0</td>\n",
       "      <td>99.0</td>\n",
       "      <td>1342000.0</td>\n",
       "      <td>-3.429500e+07</td>\n",
       "      <td>3.856400e+07</td>\n",
       "      <td>1027000.0</td>\n",
       "      <td>-14815000.0</td>\n",
       "      <td>0.1</td>\n",
       "      <td>-18.7363</td>\n",
       "    </tr>\n",
       "  </tbody>\n",
       "</table>\n",
       "</div>"
      ],
      "text/plain": [
       "      Округ          Отрасль   ИДО   ИФР  2020, Оборотные активы, RUB  \\\n",
       "0  Южный ФО  Растениеводство  62.0   9.0                  100015000.0   \n",
       "1  Южный ФО  Растениеводство  41.0  94.0                    3727000.0   \n",
       "2  Южный ФО  Растениеводство   2.0  97.0                   39874000.0   \n",
       "3  Южный ФО  Растениеводство  30.0  22.0                   16382000.0   \n",
       "4  Южный ФО  Растениеводство  15.0  99.0                    1342000.0   \n",
       "\n",
       "   2020, Капитал и резервы, RUB  2020, Совокупный долг, RUB  \\\n",
       "0                  1.183340e+08                1.485700e+07   \n",
       "1                  5.589000e+06                5.080200e+07   \n",
       "2                 -1.127406e+09                1.167280e+09   \n",
       "3                  2.172400e+07                1.909300e+07   \n",
       "4                 -3.429500e+07                3.856400e+07   \n",
       "\n",
       "   2020, Выручка, RUB  2020, Чистая прибыль (убыток), RUB  \\\n",
       "0          57500000.0                            297000.0   \n",
       "1           8076000.0                          -1145000.0   \n",
       "2          21490000.0                         -30440000.0   \n",
       "3           8053000.0                           2790000.0   \n",
       "4           1027000.0                         -14815000.0   \n",
       "\n",
       "   2020, Оборачиваемость кредиторской задолженности, разы  \\\n",
       "0                                                     4.6   \n",
       "1                                                     0.2   \n",
       "2                                                     NaN   \n",
       "3                                                     1.3   \n",
       "4                                                     0.1   \n",
       "\n",
       "   2020, Соотношение совокупного долга к EBIT, %  \n",
       "0                                         9.2563  \n",
       "1                                            NaN  \n",
       "2                                            NaN  \n",
       "3                                         4.3774  \n",
       "4                                       -18.7363  "
      ]
     },
     "execution_count": 156,
     "metadata": {},
     "output_type": "execute_result"
    }
   ],
   "source": [
    "new_df = df[regressors]\n",
    "new_df.head()"
   ]
  },
  {
   "cell_type": "code",
   "execution_count": 157,
   "id": "98adc99e",
   "metadata": {},
   "outputs": [
    {
     "data": {
      "text/html": [
       "<div>\n",
       "<style scoped>\n",
       "    .dataframe tbody tr th:only-of-type {\n",
       "        vertical-align: middle;\n",
       "    }\n",
       "\n",
       "    .dataframe tbody tr th {\n",
       "        vertical-align: top;\n",
       "    }\n",
       "\n",
       "    .dataframe thead th {\n",
       "        text-align: right;\n",
       "    }\n",
       "</style>\n",
       "<table border=\"1\" class=\"dataframe\">\n",
       "  <thead>\n",
       "    <tr style=\"text-align: right;\">\n",
       "      <th></th>\n",
       "      <th>Округ</th>\n",
       "      <th>Отрасль</th>\n",
       "      <th>ИДО</th>\n",
       "      <th>ИФР</th>\n",
       "      <th>2020, Оборотные активы, RUB</th>\n",
       "      <th>2020, Капитал и резервы, RUB</th>\n",
       "      <th>2020, Совокупный долг, RUB</th>\n",
       "      <th>2020, Выручка, RUB</th>\n",
       "      <th>2020, Чистая прибыль (убыток), RUB</th>\n",
       "      <th>2020, Оборачиваемость кредиторской задолженности, разы</th>\n",
       "      <th>2020, Соотношение совокупного долга к EBIT, %</th>\n",
       "      <th>Статус</th>\n",
       "    </tr>\n",
       "  </thead>\n",
       "  <tbody>\n",
       "    <tr>\n",
       "      <th>0</th>\n",
       "      <td>Южный ФО</td>\n",
       "      <td>Растениеводство</td>\n",
       "      <td>62.0</td>\n",
       "      <td>9.0</td>\n",
       "      <td>100015000.0</td>\n",
       "      <td>1.183340e+08</td>\n",
       "      <td>1.485700e+07</td>\n",
       "      <td>57500000.0</td>\n",
       "      <td>297000.0</td>\n",
       "      <td>4.6</td>\n",
       "      <td>9.2563</td>\n",
       "      <td>1</td>\n",
       "    </tr>\n",
       "    <tr>\n",
       "      <th>1</th>\n",
       "      <td>Южный ФО</td>\n",
       "      <td>Растениеводство</td>\n",
       "      <td>41.0</td>\n",
       "      <td>94.0</td>\n",
       "      <td>3727000.0</td>\n",
       "      <td>5.589000e+06</td>\n",
       "      <td>5.080200e+07</td>\n",
       "      <td>8076000.0</td>\n",
       "      <td>-1145000.0</td>\n",
       "      <td>0.2</td>\n",
       "      <td>NaN</td>\n",
       "      <td>1</td>\n",
       "    </tr>\n",
       "    <tr>\n",
       "      <th>2</th>\n",
       "      <td>Южный ФО</td>\n",
       "      <td>Растениеводство</td>\n",
       "      <td>2.0</td>\n",
       "      <td>97.0</td>\n",
       "      <td>39874000.0</td>\n",
       "      <td>-1.127406e+09</td>\n",
       "      <td>1.167280e+09</td>\n",
       "      <td>21490000.0</td>\n",
       "      <td>-30440000.0</td>\n",
       "      <td>NaN</td>\n",
       "      <td>NaN</td>\n",
       "      <td>1</td>\n",
       "    </tr>\n",
       "    <tr>\n",
       "      <th>3</th>\n",
       "      <td>Южный ФО</td>\n",
       "      <td>Растениеводство</td>\n",
       "      <td>30.0</td>\n",
       "      <td>22.0</td>\n",
       "      <td>16382000.0</td>\n",
       "      <td>2.172400e+07</td>\n",
       "      <td>1.909300e+07</td>\n",
       "      <td>8053000.0</td>\n",
       "      <td>2790000.0</td>\n",
       "      <td>1.3</td>\n",
       "      <td>4.3774</td>\n",
       "      <td>1</td>\n",
       "    </tr>\n",
       "    <tr>\n",
       "      <th>4</th>\n",
       "      <td>Южный ФО</td>\n",
       "      <td>Растениеводство</td>\n",
       "      <td>15.0</td>\n",
       "      <td>99.0</td>\n",
       "      <td>1342000.0</td>\n",
       "      <td>-3.429500e+07</td>\n",
       "      <td>3.856400e+07</td>\n",
       "      <td>1027000.0</td>\n",
       "      <td>-14815000.0</td>\n",
       "      <td>0.1</td>\n",
       "      <td>-18.7363</td>\n",
       "      <td>1</td>\n",
       "    </tr>\n",
       "  </tbody>\n",
       "</table>\n",
       "</div>"
      ],
      "text/plain": [
       "      Округ          Отрасль   ИДО   ИФР  2020, Оборотные активы, RUB  \\\n",
       "0  Южный ФО  Растениеводство  62.0   9.0                  100015000.0   \n",
       "1  Южный ФО  Растениеводство  41.0  94.0                    3727000.0   \n",
       "2  Южный ФО  Растениеводство   2.0  97.0                   39874000.0   \n",
       "3  Южный ФО  Растениеводство  30.0  22.0                   16382000.0   \n",
       "4  Южный ФО  Растениеводство  15.0  99.0                    1342000.0   \n",
       "\n",
       "   2020, Капитал и резервы, RUB  2020, Совокупный долг, RUB  \\\n",
       "0                  1.183340e+08                1.485700e+07   \n",
       "1                  5.589000e+06                5.080200e+07   \n",
       "2                 -1.127406e+09                1.167280e+09   \n",
       "3                  2.172400e+07                1.909300e+07   \n",
       "4                 -3.429500e+07                3.856400e+07   \n",
       "\n",
       "   2020, Выручка, RUB  2020, Чистая прибыль (убыток), RUB  \\\n",
       "0          57500000.0                            297000.0   \n",
       "1           8076000.0                          -1145000.0   \n",
       "2          21490000.0                         -30440000.0   \n",
       "3           8053000.0                           2790000.0   \n",
       "4           1027000.0                         -14815000.0   \n",
       "\n",
       "   2020, Оборачиваемость кредиторской задолженности, разы  \\\n",
       "0                                                     4.6   \n",
       "1                                                     0.2   \n",
       "2                                                     NaN   \n",
       "3                                                     1.3   \n",
       "4                                                     0.1   \n",
       "\n",
       "   2020, Соотношение совокупного долга к EBIT, %  Статус  \n",
       "0                                         9.2563       1  \n",
       "1                                            NaN       1  \n",
       "2                                            NaN       1  \n",
       "3                                         4.3774       1  \n",
       "4                                       -18.7363       1  "
      ]
     },
     "execution_count": 157,
     "metadata": {},
     "output_type": "execute_result"
    }
   ],
   "source": [
    "new_df['Статус'] = df['Статус']\n",
    "new_df.head()"
   ]
  },
  {
   "cell_type": "markdown",
   "id": "4415010a",
   "metadata": {},
   "source": [
    "Удалю строки с пропущенными значениями, т.к. данных в датасете предостаточно, а также замена пустых ячеек на какие либо значения, отличающиеся от действительных, может привести к потери точности проноза для конкретной компании."
   ]
  },
  {
   "cell_type": "code",
   "execution_count": 158,
   "id": "fb65ba68",
   "metadata": {},
   "outputs": [
    {
     "data": {
      "text/html": [
       "<div>\n",
       "<style scoped>\n",
       "    .dataframe tbody tr th:only-of-type {\n",
       "        vertical-align: middle;\n",
       "    }\n",
       "\n",
       "    .dataframe tbody tr th {\n",
       "        vertical-align: top;\n",
       "    }\n",
       "\n",
       "    .dataframe thead th {\n",
       "        text-align: right;\n",
       "    }\n",
       "</style>\n",
       "<table border=\"1\" class=\"dataframe\">\n",
       "  <thead>\n",
       "    <tr style=\"text-align: right;\">\n",
       "      <th></th>\n",
       "      <th>Округ</th>\n",
       "      <th>Отрасль</th>\n",
       "      <th>ИДО</th>\n",
       "      <th>ИФР</th>\n",
       "      <th>2020, Оборотные активы, RUB</th>\n",
       "      <th>2020, Капитал и резервы, RUB</th>\n",
       "      <th>2020, Совокупный долг, RUB</th>\n",
       "      <th>2020, Выручка, RUB</th>\n",
       "      <th>2020, Чистая прибыль (убыток), RUB</th>\n",
       "      <th>2020, Оборачиваемость кредиторской задолженности, разы</th>\n",
       "      <th>2020, Соотношение совокупного долга к EBIT, %</th>\n",
       "      <th>Статус</th>\n",
       "    </tr>\n",
       "  </thead>\n",
       "  <tbody>\n",
       "    <tr>\n",
       "      <th>0</th>\n",
       "      <td>Южный ФО</td>\n",
       "      <td>Растениеводство</td>\n",
       "      <td>62.0</td>\n",
       "      <td>9.0</td>\n",
       "      <td>100015000.0</td>\n",
       "      <td>118334000.0</td>\n",
       "      <td>14857000.0</td>\n",
       "      <td>57500000.0</td>\n",
       "      <td>297000.0</td>\n",
       "      <td>4.6</td>\n",
       "      <td>9.2563</td>\n",
       "      <td>1</td>\n",
       "    </tr>\n",
       "    <tr>\n",
       "      <th>3</th>\n",
       "      <td>Южный ФО</td>\n",
       "      <td>Растениеводство</td>\n",
       "      <td>30.0</td>\n",
       "      <td>22.0</td>\n",
       "      <td>16382000.0</td>\n",
       "      <td>21724000.0</td>\n",
       "      <td>19093000.0</td>\n",
       "      <td>8053000.0</td>\n",
       "      <td>2790000.0</td>\n",
       "      <td>1.3</td>\n",
       "      <td>4.3774</td>\n",
       "      <td>1</td>\n",
       "    </tr>\n",
       "    <tr>\n",
       "      <th>4</th>\n",
       "      <td>Южный ФО</td>\n",
       "      <td>Растениеводство</td>\n",
       "      <td>15.0</td>\n",
       "      <td>99.0</td>\n",
       "      <td>1342000.0</td>\n",
       "      <td>-34295000.0</td>\n",
       "      <td>38564000.0</td>\n",
       "      <td>1027000.0</td>\n",
       "      <td>-14815000.0</td>\n",
       "      <td>0.1</td>\n",
       "      <td>-18.7363</td>\n",
       "      <td>1</td>\n",
       "    </tr>\n",
       "    <tr>\n",
       "      <th>5</th>\n",
       "      <td>Южный ФО</td>\n",
       "      <td>Растениеводство</td>\n",
       "      <td>8.0</td>\n",
       "      <td>95.0</td>\n",
       "      <td>8471000.0</td>\n",
       "      <td>-2042000.0</td>\n",
       "      <td>18373000.0</td>\n",
       "      <td>2646000.0</td>\n",
       "      <td>-3599000.0</td>\n",
       "      <td>0.9</td>\n",
       "      <td>-1.7180</td>\n",
       "      <td>1</td>\n",
       "    </tr>\n",
       "    <tr>\n",
       "      <th>10</th>\n",
       "      <td>Приволжский ФО</td>\n",
       "      <td>Растениеводство</td>\n",
       "      <td>66.0</td>\n",
       "      <td>86.0</td>\n",
       "      <td>32000.0</td>\n",
       "      <td>6072000.0</td>\n",
       "      <td>5593000.0</td>\n",
       "      <td>5470000.0</td>\n",
       "      <td>-19000.0</td>\n",
       "      <td>1.1</td>\n",
       "      <td>0.5300</td>\n",
       "      <td>1</td>\n",
       "    </tr>\n",
       "    <tr>\n",
       "      <th>...</th>\n",
       "      <td>...</td>\n",
       "      <td>...</td>\n",
       "      <td>...</td>\n",
       "      <td>...</td>\n",
       "      <td>...</td>\n",
       "      <td>...</td>\n",
       "      <td>...</td>\n",
       "      <td>...</td>\n",
       "      <td>...</td>\n",
       "      <td>...</td>\n",
       "      <td>...</td>\n",
       "      <td>...</td>\n",
       "    </tr>\n",
       "    <tr>\n",
       "      <th>8667</th>\n",
       "      <td>Центральный ФО</td>\n",
       "      <td>Растениеводство</td>\n",
       "      <td>4.0</td>\n",
       "      <td>8.0</td>\n",
       "      <td>28599000.0</td>\n",
       "      <td>30551000.0</td>\n",
       "      <td>6310000.0</td>\n",
       "      <td>28888000.0</td>\n",
       "      <td>9567000.0</td>\n",
       "      <td>3.5</td>\n",
       "      <td>0.0101</td>\n",
       "      <td>0</td>\n",
       "    </tr>\n",
       "    <tr>\n",
       "      <th>8669</th>\n",
       "      <td>Центральный ФО</td>\n",
       "      <td>Растениеводство</td>\n",
       "      <td>6.0</td>\n",
       "      <td>13.0</td>\n",
       "      <td>35354000.0</td>\n",
       "      <td>39925000.0</td>\n",
       "      <td>12305000.0</td>\n",
       "      <td>31231000.0</td>\n",
       "      <td>9675000.0</td>\n",
       "      <td>5.4</td>\n",
       "      <td>17.1053</td>\n",
       "      <td>0</td>\n",
       "    </tr>\n",
       "    <tr>\n",
       "      <th>8670</th>\n",
       "      <td>Центральный ФО</td>\n",
       "      <td>Растениеводство</td>\n",
       "      <td>14.0</td>\n",
       "      <td>5.0</td>\n",
       "      <td>56092000.0</td>\n",
       "      <td>60012000.0</td>\n",
       "      <td>5338000.0</td>\n",
       "      <td>87220000.0</td>\n",
       "      <td>9437000.0</td>\n",
       "      <td>22.2</td>\n",
       "      <td>0.1174</td>\n",
       "      <td>0</td>\n",
       "    </tr>\n",
       "    <tr>\n",
       "      <th>8671</th>\n",
       "      <td>Приволжский ФО</td>\n",
       "      <td>Растениеводство</td>\n",
       "      <td>2.0</td>\n",
       "      <td>5.0</td>\n",
       "      <td>639810000.0</td>\n",
       "      <td>303327000.0</td>\n",
       "      <td>534631000.0</td>\n",
       "      <td>238395000.0</td>\n",
       "      <td>107869000.0</td>\n",
       "      <td>15.8</td>\n",
       "      <td>4.5884</td>\n",
       "      <td>0</td>\n",
       "    </tr>\n",
       "    <tr>\n",
       "      <th>8672</th>\n",
       "      <td>Центральный ФО</td>\n",
       "      <td>Растениеводство</td>\n",
       "      <td>19.0</td>\n",
       "      <td>36.0</td>\n",
       "      <td>18289000.0</td>\n",
       "      <td>294000.0</td>\n",
       "      <td>22620000.0</td>\n",
       "      <td>31483000.0</td>\n",
       "      <td>56000.0</td>\n",
       "      <td>2.3</td>\n",
       "      <td>22.0804</td>\n",
       "      <td>0</td>\n",
       "    </tr>\n",
       "  </tbody>\n",
       "</table>\n",
       "<p>6165 rows × 12 columns</p>\n",
       "</div>"
      ],
      "text/plain": [
       "               Округ          Отрасль   ИДО   ИФР  \\\n",
       "0           Южный ФО  Растениеводство  62.0   9.0   \n",
       "3           Южный ФО  Растениеводство  30.0  22.0   \n",
       "4           Южный ФО  Растениеводство  15.0  99.0   \n",
       "5           Южный ФО  Растениеводство   8.0  95.0   \n",
       "10    Приволжский ФО  Растениеводство  66.0  86.0   \n",
       "...              ...              ...   ...   ...   \n",
       "8667  Центральный ФО  Растениеводство   4.0   8.0   \n",
       "8669  Центральный ФО  Растениеводство   6.0  13.0   \n",
       "8670  Центральный ФО  Растениеводство  14.0   5.0   \n",
       "8671  Приволжский ФО  Растениеводство   2.0   5.0   \n",
       "8672  Центральный ФО  Растениеводство  19.0  36.0   \n",
       "\n",
       "      2020, Оборотные активы, RUB  2020, Капитал и резервы, RUB  \\\n",
       "0                     100015000.0                   118334000.0   \n",
       "3                      16382000.0                    21724000.0   \n",
       "4                       1342000.0                   -34295000.0   \n",
       "5                       8471000.0                    -2042000.0   \n",
       "10                        32000.0                     6072000.0   \n",
       "...                           ...                           ...   \n",
       "8667                   28599000.0                    30551000.0   \n",
       "8669                   35354000.0                    39925000.0   \n",
       "8670                   56092000.0                    60012000.0   \n",
       "8671                  639810000.0                   303327000.0   \n",
       "8672                   18289000.0                      294000.0   \n",
       "\n",
       "      2020, Совокупный долг, RUB  2020, Выручка, RUB  \\\n",
       "0                     14857000.0          57500000.0   \n",
       "3                     19093000.0           8053000.0   \n",
       "4                     38564000.0           1027000.0   \n",
       "5                     18373000.0           2646000.0   \n",
       "10                     5593000.0           5470000.0   \n",
       "...                          ...                 ...   \n",
       "8667                   6310000.0          28888000.0   \n",
       "8669                  12305000.0          31231000.0   \n",
       "8670                   5338000.0          87220000.0   \n",
       "8671                 534631000.0         238395000.0   \n",
       "8672                  22620000.0          31483000.0   \n",
       "\n",
       "      2020, Чистая прибыль (убыток), RUB  \\\n",
       "0                               297000.0   \n",
       "3                              2790000.0   \n",
       "4                            -14815000.0   \n",
       "5                             -3599000.0   \n",
       "10                              -19000.0   \n",
       "...                                  ...   \n",
       "8667                           9567000.0   \n",
       "8669                           9675000.0   \n",
       "8670                           9437000.0   \n",
       "8671                         107869000.0   \n",
       "8672                             56000.0   \n",
       "\n",
       "      2020, Оборачиваемость кредиторской задолженности, разы  \\\n",
       "0                                                        4.6   \n",
       "3                                                        1.3   \n",
       "4                                                        0.1   \n",
       "5                                                        0.9   \n",
       "10                                                       1.1   \n",
       "...                                                      ...   \n",
       "8667                                                     3.5   \n",
       "8669                                                     5.4   \n",
       "8670                                                    22.2   \n",
       "8671                                                    15.8   \n",
       "8672                                                     2.3   \n",
       "\n",
       "      2020, Соотношение совокупного долга к EBIT, %  Статус  \n",
       "0                                            9.2563       1  \n",
       "3                                            4.3774       1  \n",
       "4                                          -18.7363       1  \n",
       "5                                           -1.7180       1  \n",
       "10                                           0.5300       1  \n",
       "...                                             ...     ...  \n",
       "8667                                         0.0101       0  \n",
       "8669                                        17.1053       0  \n",
       "8670                                         0.1174       0  \n",
       "8671                                         4.5884       0  \n",
       "8672                                        22.0804       0  \n",
       "\n",
       "[6165 rows x 12 columns]"
      ]
     },
     "execution_count": 158,
     "metadata": {},
     "output_type": "execute_result"
    }
   ],
   "source": [
    "new_df = new_df.dropna()\n",
    "new_df"
   ]
  },
  {
   "cell_type": "markdown",
   "id": "d35248bf",
   "metadata": {},
   "source": [
    "Переведу строковые данные в числовые"
   ]
  },
  {
   "cell_type": "code",
   "execution_count": 159,
   "id": "4914bda8",
   "metadata": {},
   "outputs": [],
   "source": [
    "from sklearn.preprocessing import LabelEncoder\n",
    "labelencoder = LabelEncoder()\n",
    "labels_otrasl = labelencoder.fit_transform(new_df['Отрасль'])\n",
    "labels_okrug = labelencoder.fit_transform(new_df['Округ'])"
   ]
  },
  {
   "cell_type": "code",
   "execution_count": 160,
   "id": "8de2c8ce",
   "metadata": {},
   "outputs": [
    {
     "data": {
      "text/html": [
       "<div>\n",
       "<style scoped>\n",
       "    .dataframe tbody tr th:only-of-type {\n",
       "        vertical-align: middle;\n",
       "    }\n",
       "\n",
       "    .dataframe tbody tr th {\n",
       "        vertical-align: top;\n",
       "    }\n",
       "\n",
       "    .dataframe thead th {\n",
       "        text-align: right;\n",
       "    }\n",
       "</style>\n",
       "<table border=\"1\" class=\"dataframe\">\n",
       "  <thead>\n",
       "    <tr style=\"text-align: right;\">\n",
       "      <th></th>\n",
       "      <th>Округ</th>\n",
       "      <th>Отрасль</th>\n",
       "      <th>ИДО</th>\n",
       "      <th>ИФР</th>\n",
       "      <th>2020, Оборотные активы, RUB</th>\n",
       "      <th>2020, Капитал и резервы, RUB</th>\n",
       "      <th>2020, Совокупный долг, RUB</th>\n",
       "      <th>2020, Выручка, RUB</th>\n",
       "      <th>2020, Чистая прибыль (убыток), RUB</th>\n",
       "      <th>2020, Оборачиваемость кредиторской задолженности, разы</th>\n",
       "      <th>2020, Соотношение совокупного долга к EBIT, %</th>\n",
       "      <th>Статус</th>\n",
       "    </tr>\n",
       "  </thead>\n",
       "  <tbody>\n",
       "    <tr>\n",
       "      <th>0</th>\n",
       "      <td>5</td>\n",
       "      <td>1</td>\n",
       "      <td>62.0</td>\n",
       "      <td>9.0</td>\n",
       "      <td>100015000.0</td>\n",
       "      <td>118334000.0</td>\n",
       "      <td>14857000.0</td>\n",
       "      <td>57500000.0</td>\n",
       "      <td>297000.0</td>\n",
       "      <td>4.6</td>\n",
       "      <td>9.2563</td>\n",
       "      <td>1</td>\n",
       "    </tr>\n",
       "    <tr>\n",
       "      <th>3</th>\n",
       "      <td>5</td>\n",
       "      <td>1</td>\n",
       "      <td>30.0</td>\n",
       "      <td>22.0</td>\n",
       "      <td>16382000.0</td>\n",
       "      <td>21724000.0</td>\n",
       "      <td>19093000.0</td>\n",
       "      <td>8053000.0</td>\n",
       "      <td>2790000.0</td>\n",
       "      <td>1.3</td>\n",
       "      <td>4.3774</td>\n",
       "      <td>1</td>\n",
       "    </tr>\n",
       "    <tr>\n",
       "      <th>4</th>\n",
       "      <td>5</td>\n",
       "      <td>1</td>\n",
       "      <td>15.0</td>\n",
       "      <td>99.0</td>\n",
       "      <td>1342000.0</td>\n",
       "      <td>-34295000.0</td>\n",
       "      <td>38564000.0</td>\n",
       "      <td>1027000.0</td>\n",
       "      <td>-14815000.0</td>\n",
       "      <td>0.1</td>\n",
       "      <td>-18.7363</td>\n",
       "      <td>1</td>\n",
       "    </tr>\n",
       "    <tr>\n",
       "      <th>5</th>\n",
       "      <td>5</td>\n",
       "      <td>1</td>\n",
       "      <td>8.0</td>\n",
       "      <td>95.0</td>\n",
       "      <td>8471000.0</td>\n",
       "      <td>-2042000.0</td>\n",
       "      <td>18373000.0</td>\n",
       "      <td>2646000.0</td>\n",
       "      <td>-3599000.0</td>\n",
       "      <td>0.9</td>\n",
       "      <td>-1.7180</td>\n",
       "      <td>1</td>\n",
       "    </tr>\n",
       "    <tr>\n",
       "      <th>10</th>\n",
       "      <td>0</td>\n",
       "      <td>1</td>\n",
       "      <td>66.0</td>\n",
       "      <td>86.0</td>\n",
       "      <td>32000.0</td>\n",
       "      <td>6072000.0</td>\n",
       "      <td>5593000.0</td>\n",
       "      <td>5470000.0</td>\n",
       "      <td>-19000.0</td>\n",
       "      <td>1.1</td>\n",
       "      <td>0.5300</td>\n",
       "      <td>1</td>\n",
       "    </tr>\n",
       "    <tr>\n",
       "      <th>...</th>\n",
       "      <td>...</td>\n",
       "      <td>...</td>\n",
       "      <td>...</td>\n",
       "      <td>...</td>\n",
       "      <td>...</td>\n",
       "      <td>...</td>\n",
       "      <td>...</td>\n",
       "      <td>...</td>\n",
       "      <td>...</td>\n",
       "      <td>...</td>\n",
       "      <td>...</td>\n",
       "      <td>...</td>\n",
       "    </tr>\n",
       "    <tr>\n",
       "      <th>8667</th>\n",
       "      <td>4</td>\n",
       "      <td>1</td>\n",
       "      <td>4.0</td>\n",
       "      <td>8.0</td>\n",
       "      <td>28599000.0</td>\n",
       "      <td>30551000.0</td>\n",
       "      <td>6310000.0</td>\n",
       "      <td>28888000.0</td>\n",
       "      <td>9567000.0</td>\n",
       "      <td>3.5</td>\n",
       "      <td>0.0101</td>\n",
       "      <td>0</td>\n",
       "    </tr>\n",
       "    <tr>\n",
       "      <th>8669</th>\n",
       "      <td>4</td>\n",
       "      <td>1</td>\n",
       "      <td>6.0</td>\n",
       "      <td>13.0</td>\n",
       "      <td>35354000.0</td>\n",
       "      <td>39925000.0</td>\n",
       "      <td>12305000.0</td>\n",
       "      <td>31231000.0</td>\n",
       "      <td>9675000.0</td>\n",
       "      <td>5.4</td>\n",
       "      <td>17.1053</td>\n",
       "      <td>0</td>\n",
       "    </tr>\n",
       "    <tr>\n",
       "      <th>8670</th>\n",
       "      <td>4</td>\n",
       "      <td>1</td>\n",
       "      <td>14.0</td>\n",
       "      <td>5.0</td>\n",
       "      <td>56092000.0</td>\n",
       "      <td>60012000.0</td>\n",
       "      <td>5338000.0</td>\n",
       "      <td>87220000.0</td>\n",
       "      <td>9437000.0</td>\n",
       "      <td>22.2</td>\n",
       "      <td>0.1174</td>\n",
       "      <td>0</td>\n",
       "    </tr>\n",
       "    <tr>\n",
       "      <th>8671</th>\n",
       "      <td>0</td>\n",
       "      <td>1</td>\n",
       "      <td>2.0</td>\n",
       "      <td>5.0</td>\n",
       "      <td>639810000.0</td>\n",
       "      <td>303327000.0</td>\n",
       "      <td>534631000.0</td>\n",
       "      <td>238395000.0</td>\n",
       "      <td>107869000.0</td>\n",
       "      <td>15.8</td>\n",
       "      <td>4.5884</td>\n",
       "      <td>0</td>\n",
       "    </tr>\n",
       "    <tr>\n",
       "      <th>8672</th>\n",
       "      <td>4</td>\n",
       "      <td>1</td>\n",
       "      <td>19.0</td>\n",
       "      <td>36.0</td>\n",
       "      <td>18289000.0</td>\n",
       "      <td>294000.0</td>\n",
       "      <td>22620000.0</td>\n",
       "      <td>31483000.0</td>\n",
       "      <td>56000.0</td>\n",
       "      <td>2.3</td>\n",
       "      <td>22.0804</td>\n",
       "      <td>0</td>\n",
       "    </tr>\n",
       "  </tbody>\n",
       "</table>\n",
       "<p>6165 rows × 12 columns</p>\n",
       "</div>"
      ],
      "text/plain": [
       "      Округ  Отрасль   ИДО   ИФР  2020, Оборотные активы, RUB  \\\n",
       "0         5        1  62.0   9.0                  100015000.0   \n",
       "3         5        1  30.0  22.0                   16382000.0   \n",
       "4         5        1  15.0  99.0                    1342000.0   \n",
       "5         5        1   8.0  95.0                    8471000.0   \n",
       "10        0        1  66.0  86.0                      32000.0   \n",
       "...     ...      ...   ...   ...                          ...   \n",
       "8667      4        1   4.0   8.0                   28599000.0   \n",
       "8669      4        1   6.0  13.0                   35354000.0   \n",
       "8670      4        1  14.0   5.0                   56092000.0   \n",
       "8671      0        1   2.0   5.0                  639810000.0   \n",
       "8672      4        1  19.0  36.0                   18289000.0   \n",
       "\n",
       "      2020, Капитал и резервы, RUB  2020, Совокупный долг, RUB  \\\n",
       "0                      118334000.0                  14857000.0   \n",
       "3                       21724000.0                  19093000.0   \n",
       "4                      -34295000.0                  38564000.0   \n",
       "5                       -2042000.0                  18373000.0   \n",
       "10                       6072000.0                   5593000.0   \n",
       "...                            ...                         ...   \n",
       "8667                    30551000.0                   6310000.0   \n",
       "8669                    39925000.0                  12305000.0   \n",
       "8670                    60012000.0                   5338000.0   \n",
       "8671                   303327000.0                 534631000.0   \n",
       "8672                      294000.0                  22620000.0   \n",
       "\n",
       "      2020, Выручка, RUB  2020, Чистая прибыль (убыток), RUB  \\\n",
       "0             57500000.0                            297000.0   \n",
       "3              8053000.0                           2790000.0   \n",
       "4              1027000.0                         -14815000.0   \n",
       "5              2646000.0                          -3599000.0   \n",
       "10             5470000.0                            -19000.0   \n",
       "...                  ...                                 ...   \n",
       "8667          28888000.0                           9567000.0   \n",
       "8669          31231000.0                           9675000.0   \n",
       "8670          87220000.0                           9437000.0   \n",
       "8671         238395000.0                         107869000.0   \n",
       "8672          31483000.0                             56000.0   \n",
       "\n",
       "      2020, Оборачиваемость кредиторской задолженности, разы  \\\n",
       "0                                                        4.6   \n",
       "3                                                        1.3   \n",
       "4                                                        0.1   \n",
       "5                                                        0.9   \n",
       "10                                                       1.1   \n",
       "...                                                      ...   \n",
       "8667                                                     3.5   \n",
       "8669                                                     5.4   \n",
       "8670                                                    22.2   \n",
       "8671                                                    15.8   \n",
       "8672                                                     2.3   \n",
       "\n",
       "      2020, Соотношение совокупного долга к EBIT, %  Статус  \n",
       "0                                            9.2563       1  \n",
       "3                                            4.3774       1  \n",
       "4                                          -18.7363       1  \n",
       "5                                           -1.7180       1  \n",
       "10                                           0.5300       1  \n",
       "...                                             ...     ...  \n",
       "8667                                         0.0101       0  \n",
       "8669                                        17.1053       0  \n",
       "8670                                         0.1174       0  \n",
       "8671                                         4.5884       0  \n",
       "8672                                        22.0804       0  \n",
       "\n",
       "[6165 rows x 12 columns]"
      ]
     },
     "execution_count": 160,
     "metadata": {},
     "output_type": "execute_result"
    }
   ],
   "source": [
    "new_df['Отрасль'] = labels_otrasl\n",
    "new_df['Округ'] = labels_okrug\n",
    "new_df"
   ]
  },
  {
   "cell_type": "markdown",
   "id": "47c107d7",
   "metadata": {},
   "source": [
    "### 2. Проверка на наличие мультиколлинеарности\n",
    "Тест Фаррара-Глоубера"
   ]
  },
  {
   "cell_type": "code",
   "execution_count": 161,
   "id": "dd42645d",
   "metadata": {},
   "outputs": [
    {
     "data": {
      "text/html": [
       "<div>\n",
       "<style scoped>\n",
       "    .dataframe tbody tr th:only-of-type {\n",
       "        vertical-align: middle;\n",
       "    }\n",
       "\n",
       "    .dataframe tbody tr th {\n",
       "        vertical-align: top;\n",
       "    }\n",
       "\n",
       "    .dataframe thead th {\n",
       "        text-align: right;\n",
       "    }\n",
       "</style>\n",
       "<table border=\"1\" class=\"dataframe\">\n",
       "  <thead>\n",
       "    <tr style=\"text-align: right;\">\n",
       "      <th></th>\n",
       "      <th>Статус</th>\n",
       "      <th>Округ</th>\n",
       "      <th>Отрасль</th>\n",
       "      <th>ИДО</th>\n",
       "      <th>ИФР</th>\n",
       "      <th>2020, Оборотные активы, RUB</th>\n",
       "      <th>2020, Капитал и резервы, RUB</th>\n",
       "      <th>2020, Совокупный долг, RUB</th>\n",
       "      <th>2020, Выручка, RUB</th>\n",
       "      <th>2020, Чистая прибыль (убыток), RUB</th>\n",
       "      <th>2020, Оборачиваемость кредиторской задолженности, разы</th>\n",
       "      <th>2020, Соотношение совокупного долга к EBIT, %</th>\n",
       "    </tr>\n",
       "  </thead>\n",
       "  <tbody>\n",
       "    <tr>\n",
       "      <th>0</th>\n",
       "      <td>1</td>\n",
       "      <td>5</td>\n",
       "      <td>1</td>\n",
       "      <td>62.0</td>\n",
       "      <td>9.0</td>\n",
       "      <td>100015000.0</td>\n",
       "      <td>118334000.0</td>\n",
       "      <td>14857000.0</td>\n",
       "      <td>57500000.0</td>\n",
       "      <td>297000.0</td>\n",
       "      <td>4.6</td>\n",
       "      <td>9.2563</td>\n",
       "    </tr>\n",
       "    <tr>\n",
       "      <th>3</th>\n",
       "      <td>1</td>\n",
       "      <td>5</td>\n",
       "      <td>1</td>\n",
       "      <td>30.0</td>\n",
       "      <td>22.0</td>\n",
       "      <td>16382000.0</td>\n",
       "      <td>21724000.0</td>\n",
       "      <td>19093000.0</td>\n",
       "      <td>8053000.0</td>\n",
       "      <td>2790000.0</td>\n",
       "      <td>1.3</td>\n",
       "      <td>4.3774</td>\n",
       "    </tr>\n",
       "    <tr>\n",
       "      <th>4</th>\n",
       "      <td>1</td>\n",
       "      <td>5</td>\n",
       "      <td>1</td>\n",
       "      <td>15.0</td>\n",
       "      <td>99.0</td>\n",
       "      <td>1342000.0</td>\n",
       "      <td>-34295000.0</td>\n",
       "      <td>38564000.0</td>\n",
       "      <td>1027000.0</td>\n",
       "      <td>-14815000.0</td>\n",
       "      <td>0.1</td>\n",
       "      <td>-18.7363</td>\n",
       "    </tr>\n",
       "    <tr>\n",
       "      <th>5</th>\n",
       "      <td>1</td>\n",
       "      <td>5</td>\n",
       "      <td>1</td>\n",
       "      <td>8.0</td>\n",
       "      <td>95.0</td>\n",
       "      <td>8471000.0</td>\n",
       "      <td>-2042000.0</td>\n",
       "      <td>18373000.0</td>\n",
       "      <td>2646000.0</td>\n",
       "      <td>-3599000.0</td>\n",
       "      <td>0.9</td>\n",
       "      <td>-1.7180</td>\n",
       "    </tr>\n",
       "    <tr>\n",
       "      <th>10</th>\n",
       "      <td>1</td>\n",
       "      <td>0</td>\n",
       "      <td>1</td>\n",
       "      <td>66.0</td>\n",
       "      <td>86.0</td>\n",
       "      <td>32000.0</td>\n",
       "      <td>6072000.0</td>\n",
       "      <td>5593000.0</td>\n",
       "      <td>5470000.0</td>\n",
       "      <td>-19000.0</td>\n",
       "      <td>1.1</td>\n",
       "      <td>0.5300</td>\n",
       "    </tr>\n",
       "  </tbody>\n",
       "</table>\n",
       "</div>"
      ],
      "text/plain": [
       "    Статус  Округ  Отрасль   ИДО   ИФР  2020, Оборотные активы, RUB  \\\n",
       "0        1      5        1  62.0   9.0                  100015000.0   \n",
       "3        1      5        1  30.0  22.0                   16382000.0   \n",
       "4        1      5        1  15.0  99.0                    1342000.0   \n",
       "5        1      5        1   8.0  95.0                    8471000.0   \n",
       "10       1      0        1  66.0  86.0                      32000.0   \n",
       "\n",
       "    2020, Капитал и резервы, RUB  2020, Совокупный долг, RUB  \\\n",
       "0                    118334000.0                  14857000.0   \n",
       "3                     21724000.0                  19093000.0   \n",
       "4                    -34295000.0                  38564000.0   \n",
       "5                     -2042000.0                  18373000.0   \n",
       "10                     6072000.0                   5593000.0   \n",
       "\n",
       "    2020, Выручка, RUB  2020, Чистая прибыль (убыток), RUB  \\\n",
       "0           57500000.0                            297000.0   \n",
       "3            8053000.0                           2790000.0   \n",
       "4            1027000.0                         -14815000.0   \n",
       "5            2646000.0                          -3599000.0   \n",
       "10           5470000.0                            -19000.0   \n",
       "\n",
       "    2020, Оборачиваемость кредиторской задолженности, разы  \\\n",
       "0                                                      4.6   \n",
       "3                                                      1.3   \n",
       "4                                                      0.1   \n",
       "5                                                      0.9   \n",
       "10                                                     1.1   \n",
       "\n",
       "    2020, Соотношение совокупного долга к EBIT, %  \n",
       "0                                          9.2563  \n",
       "3                                          4.3774  \n",
       "4                                        -18.7363  \n",
       "5                                         -1.7180  \n",
       "10                                         0.5300  "
      ]
     },
     "execution_count": 161,
     "metadata": {},
     "output_type": "execute_result"
    }
   ],
   "source": [
    "cols = new_df.columns.tolist()\n",
    "cols = [cols[-1]] + cols[0:-1]\n",
    "new_df = new_df[cols]\n",
    "new_df.head()"
   ]
  },
  {
   "cell_type": "markdown",
   "id": "403e8c30",
   "metadata": {},
   "source": [
    "###### Проверка наличия мультиколлинеарности всего массива переменных"
   ]
  },
  {
   "cell_type": "code",
   "execution_count": 162,
   "id": "7021dc8d",
   "metadata": {},
   "outputs": [
    {
     "data": {
      "image/png": "[encoded data removed]",
      "text/plain": [
       "<Figure size 1000x500 with 2 Axes>"
      ]
     },
     "metadata": {},
     "output_type": "display_data"
    }
   ],
   "source": [
    "import seaborn as sns\n",
    "import matplotlib.pyplot as plt\n",
    "fig, ax = plt.subplots(figsize=(10, 5))\n",
    "plt.title('Корреляционная матрица - R')\n",
    "sns.heatmap(new_df.corr(), annot = True, fmt='.2g');"
   ]
  },
  {
   "cell_type": "markdown",
   "id": "d3fb7fb4",
   "metadata": {},
   "source": [
    "H0 - в данных присутствует мультиколлинеарность \\\n",
    "H1 - в данных отсутствует мультиколлинеарность"
   ]
  },
  {
   "cell_type": "code",
   "execution_count": 163,
   "id": "ead0aa39",
   "metadata": {},
   "outputs": [
    {
     "data": {
      "text/latex": [
       "$\\displaystyle 0.0286101670845952$"
      ],
      "text/plain": [
       "0.0286101670845952"
      ]
     },
     "execution_count": 163,
     "metadata": {},
     "output_type": "execute_result"
    }
   ],
   "source": [
    "R = sp.Matrix(new_df.corr())[1:,1:]\n",
    "det_R = sp.det(R)\n",
    "det_R"
   ]
  },
  {
   "cell_type": "code",
   "execution_count": 164,
   "id": "e39f6589",
   "metadata": {},
   "outputs": [
    {
     "data": {
      "text/plain": [
       "(21890.8206956944, 73.31149302908324)"
      ]
     },
     "execution_count": 164,
     "metadata": {},
     "output_type": "execute_result"
    }
   ],
   "source": [
    "k = len(regressors)\n",
    "n = new_df.shape[0]\n",
    "FG_obs = -(n - 1 - 1/6 * (2*k + 5)) * sp.log(det_R)\n",
    "chi_2 = sts.chi2.isf(0.05, 1/2*k*(k-1))\n",
    "FG_obs, chi_2"
   ]
  },
  {
   "cell_type": "code",
   "execution_count": 165,
   "id": "51c75a46",
   "metadata": {},
   "outputs": [
    {
     "name": "stdout",
     "output_type": "stream",
     "text": [
      "H0 не отвергаем\n"
     ]
    }
   ],
   "source": [
    "print('H0 отвергаем') if (chi_2 > FG_obs) else print('H0 не отвергаем')"
   ]
  },
  {
   "cell_type": "markdown",
   "id": "338bc427",
   "metadata": {},
   "source": [
    "Вывод: мультиколлинеарность существует"
   ]
  },
  {
   "cell_type": "markdown",
   "id": "d76ada50",
   "metadata": {},
   "source": [
    "По матрице корреляции видно, что больше всего со всеми коррелируют \"2020 Оборотные активы, RUB\" и \"2020, Выручка, RUB\""
   ]
  },
  {
   "cell_type": "markdown",
   "id": "4931c8b6",
   "metadata": {},
   "source": [
    "###### Проверка наличия мультиколлинеарности каждой переменной с другими"
   ]
  },
  {
   "cell_type": "code",
   "execution_count": 166,
   "id": "26cc052f",
   "metadata": {},
   "outputs": [
    {
     "data": {
      "text/latex": [
       "$\\displaystyle \\left[\\begin{array}{ccccccccccc}1.00848447875051 & 0.0714437847620826 & 0.0288433637733201 & 0.00179585672245366 & -0.0275679138151637 & -0.0438348712051949 & 0.0318046072032986 & 0.00187928692921228 & 0.0355485201301466 & -0.000431932493798091 & -0.0104503056184312\\\\0.0714437847620826 & 1.00657044589528 & -0.00779040976251879 & 0.00895012526286592 & 0.019241081174328 & -0.00632983362395021 & -0.0457252209555186 & 0.00961256553012231 & 0.0015469728759613 & 0.00891327230724461 & 0.0142275226274922\\\\0.0288433637733201 & -0.00779040976251878 & 1.10801988416408 & -0.197961760149317 & -0.0956692387330293 & 0.109611852672713 & 0.0728517238129056 & 0.251653514177231 & -0.0738842461470187 & -0.0276596863508294 & -0.0623625012135673\\\\0.00179585672245366 & 0.00895012526286592 & -0.197961760149317 & 1.2097594054094 & -0.0880881636775218 & 0.0552402733674128 & -0.229179353308531 & 0.0541229429163978 & 0.353315589020717 & 0.049142134315987 & 0.0284099520470493\\\\-0.0275679138151637 & 0.019241081174328 & -0.0956692387330294 & -0.0880881636775218 & 4.52749290681024 & -1.85851615100764 & -2.00730212435264 & -0.973600718327163 & -0.438135801382418 & 0.00595942347957319 & 0.013662127877582\\\\-0.0438348712051949 & -0.0063298336239502 & 0.109611852672713 & 0.0552402733674128 & -1.85851615100764 & 3.05562561580158 & 1.16384279995726 & -0.933682928248478 & -0.494499754090251 & 0.00148603982274744 & -0.0108142618847751\\\\0.0318046072032986 & -0.0457252209555186 & 0.0728517238129058 & -0.229179353308531 & -2.00730212435264 & 1.16384279995726 & 2.71654799525331 & -1.13876616435716 & 0.737642664185463 & -0.00827771956385714 & -0.0166618539303037\\\\0.00187928692921228 & 0.00961256553012231 & 0.251653514177231 & 0.0541229429163978 & -0.973600718327164 & -0.933682928248479 & -1.13876616435716 & 3.64132608554531 & -0.947560905414491 & 0.0258560779340814 & 0.00976409220162089\\\\0.0355485201301466 & 0.0015469728759613 & -0.0738842461470187 & 0.353315589020717 & -0.438135801382418 & -0.494499754090251 & 0.737642664185463 & -0.947560905414491 & 2.15428103164346 & -0.00302437004247361 & 0.00602205796862534\\\\-0.000431932493798091 & 0.00891327230724461 & -0.0276596863508294 & 0.049142134315987 & 0.00595942347957319 & 0.00148603982274744 & -0.00827771956385714 & 0.0258560779340814 & -0.00302437004247361 & 1.00334049442504 & 0.00466438308666239\\\\-0.0104503056184312 & 0.0142275226274922 & -0.0623625012135673 & 0.0284099520470493 & 0.013662127877582 & -0.0108142618847751 & -0.0166618539303037 & 0.00976409220162089 & 0.00602205796862534 & 0.00466438308666239 & 1.00444969762618\\end{array}\\right]$"
      ],
      "text/plain": [
       "Matrix([\n",
       "[     1.00848447875051,   0.0714437847620826,   0.0288433637733201, 0.00179585672245366, -0.0275679138151637,  -0.0438348712051949,   0.0318046072032986, 0.00187928692921228,   0.0355485201301466, -0.000431932493798091, -0.0104503056184312],\n",
       "[   0.0714437847620826,     1.00657044589528, -0.00779040976251879, 0.00895012526286592,   0.019241081174328, -0.00632983362395021,  -0.0457252209555186, 0.00961256553012231,   0.0015469728759613,   0.00891327230724461,  0.0142275226274922],\n",
       "[   0.0288433637733201, -0.00779040976251878,     1.10801988416408,  -0.197961760149317, -0.0956692387330293,    0.109611852672713,   0.0728517238129056,   0.251653514177231,  -0.0738842461470187,   -0.0276596863508294, -0.0623625012135673],\n",
       "[  0.00179585672245366,  0.00895012526286592,   -0.197961760149317,     1.2097594054094, -0.0880881636775218,   0.0552402733674128,   -0.229179353308531,  0.0541229429163978,    0.353315589020717,     0.049142134315987,  0.0284099520470493],\n",
       "[  -0.0275679138151637,    0.019241081174328,  -0.0956692387330294, -0.0880881636775218,    4.52749290681024,    -1.85851615100764,    -2.00730212435264,  -0.973600718327163,   -0.438135801382418,   0.00595942347957319,   0.013662127877582],\n",
       "[  -0.0438348712051949,  -0.0063298336239502,    0.109611852672713,  0.0552402733674128,   -1.85851615100764,     3.05562561580158,     1.16384279995726,  -0.933682928248478,   -0.494499754090251,   0.00148603982274744, -0.0108142618847751],\n",
       "[   0.0318046072032986,  -0.0457252209555186,   0.0728517238129058,  -0.229179353308531,   -2.00730212435264,     1.16384279995726,     2.71654799525331,   -1.13876616435716,    0.737642664185463,  -0.00827771956385714, -0.0166618539303037],\n",
       "[  0.00187928692921228,  0.00961256553012231,    0.251653514177231,  0.0541229429163978,  -0.973600718327164,   -0.933682928248479,    -1.13876616435716,    3.64132608554531,   -0.947560905414491,    0.0258560779340814, 0.00976409220162089],\n",
       "[   0.0355485201301466,   0.0015469728759613,  -0.0738842461470187,   0.353315589020717,  -0.438135801382418,   -0.494499754090251,    0.737642664185463,  -0.947560905414491,     2.15428103164346,  -0.00302437004247361, 0.00602205796862534],\n",
       "[-0.000431932493798091,  0.00891327230724461,  -0.0276596863508294,   0.049142134315987, 0.00595942347957319,  0.00148603982274744, -0.00827771956385714,  0.0258560779340814, -0.00302437004247361,      1.00334049442504, 0.00466438308666239],\n",
       "[  -0.0104503056184312,   0.0142275226274922,  -0.0623625012135673,  0.0284099520470493,   0.013662127877582,  -0.0108142618847751,  -0.0166618539303037, 0.00976409220162089,  0.00602205796862534,   0.00466438308666239,    1.00444969762618]])"
      ]
     },
     "execution_count": 166,
     "metadata": {},
     "output_type": "execute_result"
    }
   ],
   "source": [
    "R_inv = R**(-1)\n",
    "R_inv"
   ]
  },
  {
   "cell_type": "code",
   "execution_count": 167,
   "id": "27838670",
   "metadata": {},
   "outputs": [
    {
     "name": "stdout",
     "output_type": "stream",
     "text": [
      "F tabl = 1.7902\n",
      "---------------\n",
      "Округ 4.7459 True\n",
      "Отрасль 3.6753 True\n",
      "ИДО 60.4224 True\n",
      "ИФР 117.3318 True\n",
      "2020, Оборотные активы, RUB 1973.1513 True\n",
      "2020, Капитал и резервы, RUB 1149.8422 True\n",
      "2020, Совокупный долг, RUB 960.1745 True\n",
      "2020, Выручка, RUB 1477.4618 True\n",
      "2020, Чистая прибыль (убыток), RUB 645.6628 True\n",
      "2020, Оборачиваемость кредиторской задолженности, разы 1.8686 True\n",
      "2020, Соотношение совокупного долга к EBIT, % 2.4890 True\n"
     ]
    }
   ],
   "source": [
    "nu_1 = k\n",
    "nu_2 = (n - k - 1)\n",
    "F_tabl = round(sts.f.isf(0.05, nu_1, nu_2), 4)\n",
    "print(f'F tabl = {F_tabl}')\n",
    "print('---------------')\n",
    "for j,r in enumerate(regressors):\n",
    "    c_jj = R_inv[j, j]\n",
    "    F_j = round((c_jj - 1) * (n - k - 1) / k, 4)\n",
    "    print(r, F_j, F_j >= F_tabl)"
   ]
  },
  {
   "cell_type": "markdown",
   "id": "16dc26d8",
   "metadata": {},
   "source": [
    "Вывод: все регрессоры, кроме \"2020, Соотношение совокупного долга к EBIT\" имеют тесную связь с другими регрессорами."
   ]
  },
  {
   "cell_type": "markdown",
   "id": "ed9c881f",
   "metadata": {},
   "source": [
    "Наибольшую связь имеет регрессор - \"2020, Оборотные активы, RUB\"\\\n",
    "Наименьшую - \"2020, Оборачиваемость кредиторской задолженности, разы\""
   ]
  },
  {
   "cell_type": "markdown",
   "id": "b7e2fcd5",
   "metadata": {},
   "source": [
    "###### Проверка наличия мультиколлинеарности каждой пары переменных"
   ]
  },
  {
   "cell_type": "code",
   "execution_count": 168,
   "id": "91e14695",
   "metadata": {},
   "outputs": [
    {
     "name": "stdout",
     "output_type": "stream",
     "text": [
      "t tabl = 1.6451\n",
      "-----------------\n",
      "Пары с мультиколлинеарностью\n",
      "('Округ', 'Отрасль') 5.5763\n",
      "('Округ', 'ИДО') 2.1411\n",
      "('Округ', '2020, Капитал и резервы, RUB') 1.9594\n",
      "('Округ', '2020, Чистая прибыль (убыток), RUB') 1.8924\n",
      "('Отрасль', '2020, Совокупный долг, RUB') 2.1699\n",
      "('ИДО', 'ИФР') 13.6127\n",
      "('ИДО', '2020, Оборотные активы, RUB') 3.3536\n",
      "('ИДО', '2020, Капитал и резервы, RUB') 4.6811\n",
      "('ИДО', '2020, Совокупный долг, RUB') 3.2967\n",
      "('ИДО', '2020, Выручка, RUB') 9.9055\n",
      "('ИДО', '2020, Чистая прибыль (убыток), RUB') 3.7555\n",
      "('ИДО', '2020, Оборачиваемость кредиторской задолженности, разы') 2.0585\n",
      "('ИДО', '2020, Соотношение совокупного долга к EBIT, %') 4.6450\n",
      "('ИФР', '2020, Оборотные активы, RUB') 2.9545\n",
      "('ИФР', '2020, Капитал и резервы, RUB') 2.2546\n",
      "('ИФР', '2020, Совокупный долг, RUB') 9.9968\n",
      "('ИФР', '2020, Выручка, RUB') 2.0234\n",
      "('ИФР', '2020, Чистая прибыль (убыток), RUB') 17.5940\n",
      "('ИФР', '2020, Оборачиваемость кредиторской задолженности, разы') 3.5023\n",
      "('ИФР', '2020, Соотношение совокупного долга к EBIT, %') 2.0223\n",
      "('2020, Оборотные активы, RUB', '2020, Капитал и резервы, RUB') 45.2487\n",
      "('2020, Оборотные активы, RUB', '2020, Совокупный долг, RUB') 54.7528\n",
      "('2020, Оборотные активы, RUB', '2020, Выручка, RUB') 19.3742\n",
      "('2020, Оборотные активы, RUB', '2020, Чистая прибыль (убыток), RUB') 11.1145\n",
      "('2020, Капитал и резервы, RUB', '2020, Совокупный долг, RUB') 34.6388\n",
      "('2020, Капитал и резервы, RUB', '2020, Выручка, RUB') 22.8707\n",
      "('2020, Капитал и резервы, RUB', '2020, Чистая прибыль (убыток), RUB') 15.4074\n",
      "('2020, Совокупный долг, RUB', '2020, Выручка, RUB') 30.4687\n",
      "('2020, Совокупный долг, RUB', '2020, Чистая прибыль (убыток), RUB') 25.1143\n",
      "('2020, Выручка, RUB', '2020, Чистая прибыль (убыток), RUB') 28.2011\n"
     ]
    }
   ],
   "source": [
    "t_tabl = round(sts.t.isf(0.05, n-k-1), 4)\n",
    "print(f't tabl = {t_tabl}')\n",
    "print('-----------------')\n",
    "print('Пары с мультиколлинеарностью')\n",
    "for i in range(len(regressors)):\n",
    "    for j in range(i + 1, len(regressors)):\n",
    "        pair = (regressors[i], regressors[j])\n",
    "        c_ij = R_inv[i, j]\n",
    "        c_ii = R_inv[i, i]\n",
    "        c_jj = R_inv[j, j]\n",
    "        r_ij = -c_ij / (c_ii * c_jj)**0.5\n",
    "        t_ij = round((r_ij * (n - k - 1)**0.5) / (1 - r_ij**2)**0.5, 4)\n",
    "        if abs(t_ij) > t_tabl:\n",
    "            print(pair, abs(t_ij))"
   ]
  },
  {
   "cell_type": "markdown",
   "id": "f2c2898f",
   "metadata": {},
   "source": [
    "Вывод: между многими парами регрессоров существует мультиколлинеарность"
   ]
  },
  {
   "cell_type": "markdown",
   "id": "9d27cd25",
   "metadata": {},
   "source": [
    "Наибольшую связь имеют пары:\\\n",
    "('2020, Оборотные активы, RUB', '2020, Совокупный долг, RUB') 56.0739\\\n",
    "('2020, Оборотные активы, RUB', '2020, Капитал и резервы, RUB') 45.1908"
   ]
  },
  {
   "cell_type": "markdown",
   "id": "ad4b00b5",
   "metadata": {},
   "source": [
    "**Вывод: исходя из теста Фаррара-Глоубера, необходимо удалить следующие регрессоры:**\n",
    "1) '2020, Оборотные активы, RUB', т.к. сильнее всех коррелирует с другими регрессорми, а также он менее значим, чем Совокупный долг и Капитал и резервы в определении платежеспособности компании\n",
    "2) '2020, Выручка, RUB', т.к. имеет сильную связь со многими регрессорами. Это менее важный показатель для данной задачи, чем Совокупный долг, Капитал и резервы или Чистая прибыль."
   ]
  },
  {
   "cell_type": "code",
   "execution_count": 169,
   "id": "0a08cf66",
   "metadata": {},
   "outputs": [
    {
     "data": {
      "text/plain": [
       "Index(['Статус', 'Округ', 'Отрасль', 'ИДО', 'ИФР',\n",
       "       '2020, Оборотные активы, RUB', '2020, Капитал и резервы, RUB',\n",
       "       '2020, Совокупный долг, RUB', '2020, Выручка, RUB',\n",
       "       '2020, Чистая прибыль (убыток), RUB',\n",
       "       '2020, Оборачиваемость кредиторской задолженности, разы',\n",
       "       '2020, Соотношение совокупного долга к EBIT, %'],\n",
       "      dtype='object')"
      ]
     },
     "execution_count": 169,
     "metadata": {},
     "output_type": "execute_result"
    }
   ],
   "source": [
    "new_df.columns"
   ]
  },
  {
   "cell_type": "code",
   "execution_count": 170,
   "id": "4bd523ea",
   "metadata": {},
   "outputs": [],
   "source": [
    "new_df.drop(['2020, Оборотные активы, RUB', '2020, Выручка, RUB'], axis= 1, inplace= True)"
   ]
  },
  {
   "cell_type": "code",
   "execution_count": 171,
   "id": "031384ea",
   "metadata": {},
   "outputs": [
    {
     "data": {
      "text/html": [
       "<div>\n",
       "<style scoped>\n",
       "    .dataframe tbody tr th:only-of-type {\n",
       "        vertical-align: middle;\n",
       "    }\n",
       "\n",
       "    .dataframe tbody tr th {\n",
       "        vertical-align: top;\n",
       "    }\n",
       "\n",
       "    .dataframe thead th {\n",
       "        text-align: right;\n",
       "    }\n",
       "</style>\n",
       "<table border=\"1\" class=\"dataframe\">\n",
       "  <thead>\n",
       "    <tr style=\"text-align: right;\">\n",
       "      <th></th>\n",
       "      <th>Статус</th>\n",
       "      <th>Округ</th>\n",
       "      <th>Отрасль</th>\n",
       "      <th>ИДО</th>\n",
       "      <th>ИФР</th>\n",
       "      <th>2020, Капитал и резервы, RUB</th>\n",
       "      <th>2020, Совокупный долг, RUB</th>\n",
       "      <th>2020, Чистая прибыль (убыток), RUB</th>\n",
       "      <th>2020, Оборачиваемость кредиторской задолженности, разы</th>\n",
       "      <th>2020, Соотношение совокупного долга к EBIT, %</th>\n",
       "    </tr>\n",
       "  </thead>\n",
       "  <tbody>\n",
       "    <tr>\n",
       "      <th>0</th>\n",
       "      <td>1</td>\n",
       "      <td>5</td>\n",
       "      <td>1</td>\n",
       "      <td>62.0</td>\n",
       "      <td>9.0</td>\n",
       "      <td>118334000.0</td>\n",
       "      <td>14857000.0</td>\n",
       "      <td>297000.0</td>\n",
       "      <td>4.6</td>\n",
       "      <td>9.2563</td>\n",
       "    </tr>\n",
       "    <tr>\n",
       "      <th>3</th>\n",
       "      <td>1</td>\n",
       "      <td>5</td>\n",
       "      <td>1</td>\n",
       "      <td>30.0</td>\n",
       "      <td>22.0</td>\n",
       "      <td>21724000.0</td>\n",
       "      <td>19093000.0</td>\n",
       "      <td>2790000.0</td>\n",
       "      <td>1.3</td>\n",
       "      <td>4.3774</td>\n",
       "    </tr>\n",
       "    <tr>\n",
       "      <th>4</th>\n",
       "      <td>1</td>\n",
       "      <td>5</td>\n",
       "      <td>1</td>\n",
       "      <td>15.0</td>\n",
       "      <td>99.0</td>\n",
       "      <td>-34295000.0</td>\n",
       "      <td>38564000.0</td>\n",
       "      <td>-14815000.0</td>\n",
       "      <td>0.1</td>\n",
       "      <td>-18.7363</td>\n",
       "    </tr>\n",
       "    <tr>\n",
       "      <th>5</th>\n",
       "      <td>1</td>\n",
       "      <td>5</td>\n",
       "      <td>1</td>\n",
       "      <td>8.0</td>\n",
       "      <td>95.0</td>\n",
       "      <td>-2042000.0</td>\n",
       "      <td>18373000.0</td>\n",
       "      <td>-3599000.0</td>\n",
       "      <td>0.9</td>\n",
       "      <td>-1.7180</td>\n",
       "    </tr>\n",
       "    <tr>\n",
       "      <th>10</th>\n",
       "      <td>1</td>\n",
       "      <td>0</td>\n",
       "      <td>1</td>\n",
       "      <td>66.0</td>\n",
       "      <td>86.0</td>\n",
       "      <td>6072000.0</td>\n",
       "      <td>5593000.0</td>\n",
       "      <td>-19000.0</td>\n",
       "      <td>1.1</td>\n",
       "      <td>0.5300</td>\n",
       "    </tr>\n",
       "    <tr>\n",
       "      <th>...</th>\n",
       "      <td>...</td>\n",
       "      <td>...</td>\n",
       "      <td>...</td>\n",
       "      <td>...</td>\n",
       "      <td>...</td>\n",
       "      <td>...</td>\n",
       "      <td>...</td>\n",
       "      <td>...</td>\n",
       "      <td>...</td>\n",
       "      <td>...</td>\n",
       "    </tr>\n",
       "    <tr>\n",
       "      <th>8667</th>\n",
       "      <td>0</td>\n",
       "      <td>4</td>\n",
       "      <td>1</td>\n",
       "      <td>4.0</td>\n",
       "      <td>8.0</td>\n",
       "      <td>30551000.0</td>\n",
       "      <td>6310000.0</td>\n",
       "      <td>9567000.0</td>\n",
       "      <td>3.5</td>\n",
       "      <td>0.0101</td>\n",
       "    </tr>\n",
       "    <tr>\n",
       "      <th>8669</th>\n",
       "      <td>0</td>\n",
       "      <td>4</td>\n",
       "      <td>1</td>\n",
       "      <td>6.0</td>\n",
       "      <td>13.0</td>\n",
       "      <td>39925000.0</td>\n",
       "      <td>12305000.0</td>\n",
       "      <td>9675000.0</td>\n",
       "      <td>5.4</td>\n",
       "      <td>17.1053</td>\n",
       "    </tr>\n",
       "    <tr>\n",
       "      <th>8670</th>\n",
       "      <td>0</td>\n",
       "      <td>4</td>\n",
       "      <td>1</td>\n",
       "      <td>14.0</td>\n",
       "      <td>5.0</td>\n",
       "      <td>60012000.0</td>\n",
       "      <td>5338000.0</td>\n",
       "      <td>9437000.0</td>\n",
       "      <td>22.2</td>\n",
       "      <td>0.1174</td>\n",
       "    </tr>\n",
       "    <tr>\n",
       "      <th>8671</th>\n",
       "      <td>0</td>\n",
       "      <td>0</td>\n",
       "      <td>1</td>\n",
       "      <td>2.0</td>\n",
       "      <td>5.0</td>\n",
       "      <td>303327000.0</td>\n",
       "      <td>534631000.0</td>\n",
       "      <td>107869000.0</td>\n",
       "      <td>15.8</td>\n",
       "      <td>4.5884</td>\n",
       "    </tr>\n",
       "    <tr>\n",
       "      <th>8672</th>\n",
       "      <td>0</td>\n",
       "      <td>4</td>\n",
       "      <td>1</td>\n",
       "      <td>19.0</td>\n",
       "      <td>36.0</td>\n",
       "      <td>294000.0</td>\n",
       "      <td>22620000.0</td>\n",
       "      <td>56000.0</td>\n",
       "      <td>2.3</td>\n",
       "      <td>22.0804</td>\n",
       "    </tr>\n",
       "  </tbody>\n",
       "</table>\n",
       "<p>6165 rows × 10 columns</p>\n",
       "</div>"
      ],
      "text/plain": [
       "      Статус  Округ  Отрасль   ИДО   ИФР  2020, Капитал и резервы, RUB  \\\n",
       "0          1      5        1  62.0   9.0                   118334000.0   \n",
       "3          1      5        1  30.0  22.0                    21724000.0   \n",
       "4          1      5        1  15.0  99.0                   -34295000.0   \n",
       "5          1      5        1   8.0  95.0                    -2042000.0   \n",
       "10         1      0        1  66.0  86.0                     6072000.0   \n",
       "...      ...    ...      ...   ...   ...                           ...   \n",
       "8667       0      4        1   4.0   8.0                    30551000.0   \n",
       "8669       0      4        1   6.0  13.0                    39925000.0   \n",
       "8670       0      4        1  14.0   5.0                    60012000.0   \n",
       "8671       0      0        1   2.0   5.0                   303327000.0   \n",
       "8672       0      4        1  19.0  36.0                      294000.0   \n",
       "\n",
       "      2020, Совокупный долг, RUB  2020, Чистая прибыль (убыток), RUB  \\\n",
       "0                     14857000.0                            297000.0   \n",
       "3                     19093000.0                           2790000.0   \n",
       "4                     38564000.0                         -14815000.0   \n",
       "5                     18373000.0                          -3599000.0   \n",
       "10                     5593000.0                            -19000.0   \n",
       "...                          ...                                 ...   \n",
       "8667                   6310000.0                           9567000.0   \n",
       "8669                  12305000.0                           9675000.0   \n",
       "8670                   5338000.0                           9437000.0   \n",
       "8671                 534631000.0                         107869000.0   \n",
       "8672                  22620000.0                             56000.0   \n",
       "\n",
       "      2020, Оборачиваемость кредиторской задолженности, разы  \\\n",
       "0                                                        4.6   \n",
       "3                                                        1.3   \n",
       "4                                                        0.1   \n",
       "5                                                        0.9   \n",
       "10                                                       1.1   \n",
       "...                                                      ...   \n",
       "8667                                                     3.5   \n",
       "8669                                                     5.4   \n",
       "8670                                                    22.2   \n",
       "8671                                                    15.8   \n",
       "8672                                                     2.3   \n",
       "\n",
       "      2020, Соотношение совокупного долга к EBIT, %  \n",
       "0                                            9.2563  \n",
       "3                                            4.3774  \n",
       "4                                          -18.7363  \n",
       "5                                           -1.7180  \n",
       "10                                           0.5300  \n",
       "...                                             ...  \n",
       "8667                                         0.0101  \n",
       "8669                                        17.1053  \n",
       "8670                                         0.1174  \n",
       "8671                                         4.5884  \n",
       "8672                                        22.0804  \n",
       "\n",
       "[6165 rows x 10 columns]"
      ]
     },
     "execution_count": 171,
     "metadata": {},
     "output_type": "execute_result"
    }
   ],
   "source": [
    "new_df"
   ]
  },
  {
   "cell_type": "markdown",
   "id": "24362216",
   "metadata": {},
   "source": [
    "### 3.Пошаговый отбор"
   ]
  },
  {
   "cell_type": "code",
   "execution_count": 172,
   "id": "5c5d390f",
   "metadata": {},
   "outputs": [
    {
     "data": {
      "text/html": [
       "<div>\n",
       "<style scoped>\n",
       "    .dataframe tbody tr th:only-of-type {\n",
       "        vertical-align: middle;\n",
       "    }\n",
       "\n",
       "    .dataframe tbody tr th {\n",
       "        vertical-align: top;\n",
       "    }\n",
       "\n",
       "    .dataframe thead th {\n",
       "        text-align: right;\n",
       "    }\n",
       "</style>\n",
       "<table border=\"1\" class=\"dataframe\">\n",
       "  <thead>\n",
       "    <tr style=\"text-align: right;\">\n",
       "      <th></th>\n",
       "      <th>Округ</th>\n",
       "      <th>Отрасль</th>\n",
       "      <th>ИДО</th>\n",
       "      <th>ИФР</th>\n",
       "      <th>2020, Капитал и резервы, RUB</th>\n",
       "      <th>2020, Совокупный долг, RUB</th>\n",
       "      <th>2020, Чистая прибыль (убыток), RUB</th>\n",
       "      <th>2020, Оборачиваемость кредиторской задолженности, разы</th>\n",
       "      <th>2020, Соотношение совокупного долга к EBIT, %</th>\n",
       "    </tr>\n",
       "  </thead>\n",
       "  <tbody>\n",
       "    <tr>\n",
       "      <th>0</th>\n",
       "      <td>5</td>\n",
       "      <td>1</td>\n",
       "      <td>62.0</td>\n",
       "      <td>9.0</td>\n",
       "      <td>118334000.0</td>\n",
       "      <td>14857000.0</td>\n",
       "      <td>297000.0</td>\n",
       "      <td>4.6</td>\n",
       "      <td>9.2563</td>\n",
       "    </tr>\n",
       "    <tr>\n",
       "      <th>3</th>\n",
       "      <td>5</td>\n",
       "      <td>1</td>\n",
       "      <td>30.0</td>\n",
       "      <td>22.0</td>\n",
       "      <td>21724000.0</td>\n",
       "      <td>19093000.0</td>\n",
       "      <td>2790000.0</td>\n",
       "      <td>1.3</td>\n",
       "      <td>4.3774</td>\n",
       "    </tr>\n",
       "    <tr>\n",
       "      <th>4</th>\n",
       "      <td>5</td>\n",
       "      <td>1</td>\n",
       "      <td>15.0</td>\n",
       "      <td>99.0</td>\n",
       "      <td>-34295000.0</td>\n",
       "      <td>38564000.0</td>\n",
       "      <td>-14815000.0</td>\n",
       "      <td>0.1</td>\n",
       "      <td>-18.7363</td>\n",
       "    </tr>\n",
       "    <tr>\n",
       "      <th>5</th>\n",
       "      <td>5</td>\n",
       "      <td>1</td>\n",
       "      <td>8.0</td>\n",
       "      <td>95.0</td>\n",
       "      <td>-2042000.0</td>\n",
       "      <td>18373000.0</td>\n",
       "      <td>-3599000.0</td>\n",
       "      <td>0.9</td>\n",
       "      <td>-1.7180</td>\n",
       "    </tr>\n",
       "    <tr>\n",
       "      <th>10</th>\n",
       "      <td>0</td>\n",
       "      <td>1</td>\n",
       "      <td>66.0</td>\n",
       "      <td>86.0</td>\n",
       "      <td>6072000.0</td>\n",
       "      <td>5593000.0</td>\n",
       "      <td>-19000.0</td>\n",
       "      <td>1.1</td>\n",
       "      <td>0.5300</td>\n",
       "    </tr>\n",
       "  </tbody>\n",
       "</table>\n",
       "</div>"
      ],
      "text/plain": [
       "    Округ  Отрасль   ИДО   ИФР  2020, Капитал и резервы, RUB  \\\n",
       "0       5        1  62.0   9.0                   118334000.0   \n",
       "3       5        1  30.0  22.0                    21724000.0   \n",
       "4       5        1  15.0  99.0                   -34295000.0   \n",
       "5       5        1   8.0  95.0                    -2042000.0   \n",
       "10      0        1  66.0  86.0                     6072000.0   \n",
       "\n",
       "    2020, Совокупный долг, RUB  2020, Чистая прибыль (убыток), RUB  \\\n",
       "0                   14857000.0                            297000.0   \n",
       "3                   19093000.0                           2790000.0   \n",
       "4                   38564000.0                         -14815000.0   \n",
       "5                   18373000.0                          -3599000.0   \n",
       "10                   5593000.0                            -19000.0   \n",
       "\n",
       "    2020, Оборачиваемость кредиторской задолженности, разы  \\\n",
       "0                                                      4.6   \n",
       "3                                                      1.3   \n",
       "4                                                      0.1   \n",
       "5                                                      0.9   \n",
       "10                                                     1.1   \n",
       "\n",
       "    2020, Соотношение совокупного долга к EBIT, %  \n",
       "0                                          9.2563  \n",
       "3                                          4.3774  \n",
       "4                                        -18.7363  \n",
       "5                                         -1.7180  \n",
       "10                                         0.5300  "
      ]
     },
     "execution_count": 172,
     "metadata": {},
     "output_type": "execute_result"
    }
   ],
   "source": [
    "x = new_df.iloc[:, 1:]\n",
    "y = new_df.iloc[:, 0]\n",
    "x.head()"
   ]
  },
  {
   "cell_type": "markdown",
   "id": "4c44edce",
   "metadata": {},
   "source": [
    "###### 1 Шаг"
   ]
  },
  {
   "cell_type": "code",
   "execution_count": 173,
   "id": "cee4463f",
   "metadata": {},
   "outputs": [
    {
     "name": "stdout",
     "output_type": "stream",
     "text": [
      "Optimization terminated successfully.\n",
      "         Current function value: 0.051407\n",
      "         Iterations 16\n",
      "                                                Модель\n",
      "======================================================================================================\n",
      "Model:                          Logit                        Method:                       MLE        \n",
      "Dependent Variable:             Статус                       Pseudo R-squared:             0.478      \n",
      "Date:                           2024-03-06 14:57             AIC:                          653.8441   \n",
      "No. Observations:               6165                         BIC:                          721.1105   \n",
      "Df Model:                       9                            Log-Likelihood:               -316.92    \n",
      "Df Residuals:                   6155                         LL-Null:                      -607.13    \n",
      "Converged:                      1.0000                       LLR p-value:                  3.3260e-119\n",
      "No. Iterations:                 16.0000                      Scale:                        1.0000     \n",
      "------------------------------------------------------------------------------------------------------\n",
      "                                                        Coef.  Std.Err.    z    P>|z|   [0.025  0.975]\n",
      "------------------------------------------------------------------------------------------------------\n",
      "const                                                  -4.3805   0.5131 -8.5366 0.0000 -5.3862 -3.3748\n",
      "Округ                                                  -0.5593   0.0716 -7.8161 0.0000 -0.6996 -0.4191\n",
      "Отрасль                                                 0.0930   0.1583  0.5877 0.5567 -0.2172  0.4032\n",
      "ИДО                                                     0.0227   0.0066  3.4645 0.0005  0.0099  0.0356\n",
      "ИФР                                                     0.0370   0.0052  7.1284 0.0000  0.0268  0.0472\n",
      "2020, Капитал и резервы, RUB                           -0.0000   0.0000 -3.0044 0.0027 -0.0000 -0.0000\n",
      "2020, Совокупный долг, RUB                              0.0000   0.0000  0.4680 0.6398 -0.0000  0.0000\n",
      "2020, Чистая прибыль (убыток), RUB                     -0.0000   0.0000 -2.3183 0.0204 -0.0000 -0.0000\n",
      "2020, Оборачиваемость кредиторской задолженности, разы -0.2146   0.0559 -3.8400 0.0001 -0.3241 -0.1051\n",
      "2020, Соотношение совокупного долга к EBIT, %           0.0000   0.0001  0.2332 0.8156 -0.0002  0.0003\n",
      "======================================================================================================\n",
      "\n"
     ]
    }
   ],
   "source": [
    "X = sm.add_constant(x)\n",
    "model_logit = sm.Logit(y, X, hasconst = True).fit()\n",
    "\n",
    "print(model_logit.summary2(title = 'Модель'))"
   ]
  },
  {
   "cell_type": "code",
   "execution_count": 174,
   "id": "f925fccd",
   "metadata": {},
   "outputs": [
    {
     "data": {
      "text/plain": [
       "1.6448536269514729"
      ]
     },
     "execution_count": 174,
     "metadata": {},
     "output_type": "execute_result"
    }
   ],
   "source": [
    "z_cr = sts.norm.isf(0.05)\n",
    "z_cr"
   ]
  },
  {
   "cell_type": "markdown",
   "id": "e755caa0",
   "metadata": {},
   "source": [
    "Минимальный z, который меньше z_cr у \"2020, Соотношение совокупного долга к EBIT, %\". Удалю данный регрессор"
   ]
  },
  {
   "cell_type": "markdown",
   "id": "d980e9fe",
   "metadata": {},
   "source": [
    "###### Шаг 2"
   ]
  },
  {
   "cell_type": "code",
   "execution_count": 175,
   "id": "b7993268",
   "metadata": {},
   "outputs": [],
   "source": [
    "x.drop('2020, Соотношение совокупного долга к EBIT, %', axis = 1, inplace=True)"
   ]
  },
  {
   "cell_type": "code",
   "execution_count": 176,
   "id": "9ae8016b",
   "metadata": {},
   "outputs": [
    {
     "name": "stdout",
     "output_type": "stream",
     "text": [
      "Optimization terminated successfully.\n",
      "         Current function value: 0.051411\n",
      "         Iterations 16\n",
      "                                                Модель\n",
      "======================================================================================================\n",
      "Model:                          Logit                        Method:                       MLE        \n",
      "Dependent Variable:             Статус                       Pseudo R-squared:             0.478      \n",
      "Date:                           2024-03-06 14:57             AIC:                          651.8955   \n",
      "No. Observations:               6165                         BIC:                          712.4353   \n",
      "Df Model:                       8                            Log-Likelihood:               -316.95    \n",
      "Df Residuals:                   6156                         LL-Null:                      -607.13    \n",
      "Converged:                      1.0000                       LLR p-value:                  3.8757e-120\n",
      "No. Iterations:                 16.0000                      Scale:                        1.0000     \n",
      "------------------------------------------------------------------------------------------------------\n",
      "                                                        Coef.  Std.Err.    z    P>|z|   [0.025  0.975]\n",
      "------------------------------------------------------------------------------------------------------\n",
      "const                                                  -4.3748   0.5122 -8.5407 0.0000 -5.3788 -3.3709\n",
      "Округ                                                  -0.5592   0.0716 -7.8146 0.0000 -0.6995 -0.4190\n",
      "Отрасль                                                 0.0927   0.1583  0.5856 0.5582 -0.2175  0.4029\n",
      "ИДО                                                     0.0229   0.0065  3.5089 0.0004  0.0101  0.0357\n",
      "ИФР                                                     0.0369   0.0052  7.1357 0.0000  0.0268  0.0471\n",
      "2020, Капитал и резервы, RUB                           -0.0000   0.0000 -3.0011 0.0027 -0.0000 -0.0000\n",
      "2020, Совокупный долг, RUB                              0.0000   0.0000  0.4668 0.6406 -0.0000  0.0000\n",
      "2020, Чистая прибыль (убыток), RUB                     -0.0000   0.0000 -2.3242 0.0201 -0.0000 -0.0000\n",
      "2020, Оборачиваемость кредиторской задолженности, разы -0.2146   0.0559 -3.8424 0.0001 -0.3241 -0.1052\n",
      "======================================================================================================\n",
      "\n"
     ]
    }
   ],
   "source": [
    "X = sm.add_constant(x)\n",
    "model_logit = sm.Logit(y, X, hasconst = True).fit()\n",
    "\n",
    "print(model_logit.summary2(title = 'Модель'))"
   ]
  },
  {
   "cell_type": "code",
   "execution_count": 177,
   "id": "1faaad60",
   "metadata": {},
   "outputs": [
    {
     "data": {
      "text/plain": [
       "1.6448536269514729"
      ]
     },
     "execution_count": 177,
     "metadata": {},
     "output_type": "execute_result"
    }
   ],
   "source": [
    "z_cr = sts.norm.isf(0.05)\n",
    "z_cr"
   ]
  },
  {
   "cell_type": "markdown",
   "id": "a9328c3f",
   "metadata": {},
   "source": [
    "Минимальный z, который меньше z_cr у \"2020, Совокупный долг, RUB\". Удалю данный регрессор"
   ]
  },
  {
   "cell_type": "markdown",
   "id": "5872d268",
   "metadata": {},
   "source": [
    "###### Шаг 3"
   ]
  },
  {
   "cell_type": "code",
   "execution_count": 178,
   "id": "103f928d",
   "metadata": {},
   "outputs": [],
   "source": [
    "x.drop('2020, Совокупный долг, RUB', axis = 1, inplace=True)"
   ]
  },
  {
   "cell_type": "code",
   "execution_count": 179,
   "id": "e938f5e1",
   "metadata": {},
   "outputs": [
    {
     "name": "stdout",
     "output_type": "stream",
     "text": [
      "Optimization terminated successfully.\n",
      "         Current function value: 0.051428\n",
      "         Iterations 16\n",
      "                                                Модель\n",
      "======================================================================================================\n",
      "Model:                          Logit                        Method:                       MLE        \n",
      "Dependent Variable:             Статус                       Pseudo R-squared:             0.478      \n",
      "Date:                           2024-03-06 14:57             AIC:                          650.1030   \n",
      "No. Observations:               6165                         BIC:                          703.9162   \n",
      "Df Model:                       7                            Log-Likelihood:               -317.05    \n",
      "Df Residuals:                   6157                         LL-Null:                      -607.13    \n",
      "Converged:                      1.0000                       LLR p-value:                  4.5448e-121\n",
      "No. Iterations:                 16.0000                      Scale:                        1.0000     \n",
      "------------------------------------------------------------------------------------------------------\n",
      "                                                        Coef.  Std.Err.    z    P>|z|   [0.025  0.975]\n",
      "------------------------------------------------------------------------------------------------------\n",
      "const                                                  -4.3369   0.5048 -8.5910 0.0000 -5.3263 -3.3474\n",
      "Округ                                                  -0.5583   0.0714 -7.8191 0.0000 -0.6982 -0.4183\n",
      "Отрасль                                                 0.0941   0.1582  0.5949 0.5519 -0.2160  0.4042\n",
      "ИДО                                                     0.0224   0.0065  3.4732 0.0005  0.0098  0.0351\n",
      "ИФР                                                     0.0367   0.0052  7.1313 0.0000  0.0266  0.0468\n",
      "2020, Капитал и резервы, RUB                           -0.0000   0.0000 -3.1959 0.0014 -0.0000 -0.0000\n",
      "2020, Чистая прибыль (убыток), RUB                     -0.0000   0.0000 -2.5813 0.0098 -0.0000 -0.0000\n",
      "2020, Оборачиваемость кредиторской задолженности, разы -0.2152   0.0559 -3.8528 0.0001 -0.3247 -0.1057\n",
      "======================================================================================================\n",
      "\n"
     ]
    }
   ],
   "source": [
    "X = sm.add_constant(x)\n",
    "model_logit = sm.Logit(y, X, hasconst = True).fit()\n",
    "\n",
    "print(model_logit.summary2(title = 'Модель'))"
   ]
  },
  {
   "cell_type": "code",
   "execution_count": 180,
   "id": "86f06f4b",
   "metadata": {},
   "outputs": [
    {
     "data": {
      "text/plain": [
       "1.6448536269514729"
      ]
     },
     "execution_count": 180,
     "metadata": {},
     "output_type": "execute_result"
    }
   ],
   "source": [
    "z_cr = sts.norm.isf(0.05)\n",
    "z_cr"
   ]
  },
  {
   "cell_type": "markdown",
   "id": "9826cbd8",
   "metadata": {},
   "source": [
    "Минимальный z, который меньше z_cr у \"Отрасль\". Удалю данный регрессор"
   ]
  },
  {
   "cell_type": "markdown",
   "id": "92176782",
   "metadata": {},
   "source": [
    "###### Шаг 4"
   ]
  },
  {
   "cell_type": "code",
   "execution_count": 181,
   "id": "12f44e81",
   "metadata": {},
   "outputs": [],
   "source": [
    "x.drop('Отрасль', axis = 1, inplace=True)"
   ]
  },
  {
   "cell_type": "code",
   "execution_count": 182,
   "id": "dc9c274e",
   "metadata": {},
   "outputs": [
    {
     "name": "stdout",
     "output_type": "stream",
     "text": [
      "Optimization terminated successfully.\n",
      "         Current function value: 0.051456\n",
      "         Iterations 16\n",
      "                                                Модель\n",
      "======================================================================================================\n",
      "Model:                          Logit                        Method:                       MLE        \n",
      "Dependent Variable:             Статус                       Pseudo R-squared:             0.477      \n",
      "Date:                           2024-03-06 14:57             AIC:                          648.4574   \n",
      "No. Observations:               6165                         BIC:                          695.5439   \n",
      "Df Model:                       6                            Log-Likelihood:               -317.23    \n",
      "Df Residuals:                   6158                         LL-Null:                      -607.13    \n",
      "Converged:                      1.0000                       LLR p-value:                  5.2781e-122\n",
      "No. Iterations:                 16.0000                      Scale:                        1.0000     \n",
      "------------------------------------------------------------------------------------------------------\n",
      "                                                        Coef.  Std.Err.    z    P>|z|   [0.025  0.975]\n",
      "------------------------------------------------------------------------------------------------------\n",
      "const                                                  -4.2337   0.4726 -8.9586 0.0000 -5.1599 -3.3074\n",
      "Округ                                                  -0.5619   0.0713 -7.8842 0.0000 -0.7016 -0.4222\n",
      "ИДО                                                     0.0225   0.0065  3.4801 0.0005  0.0098  0.0351\n",
      "ИФР                                                     0.0367   0.0051  7.1274 0.0000  0.0266  0.0468\n",
      "2020, Капитал и резервы, RUB                           -0.0000   0.0000 -3.1811 0.0015 -0.0000 -0.0000\n",
      "2020, Чистая прибыль (убыток), RUB                     -0.0000   0.0000 -2.5951 0.0095 -0.0000 -0.0000\n",
      "2020, Оборачиваемость кредиторской задолженности, разы -0.2167   0.0558 -3.8810 0.0001 -0.3262 -0.1073\n",
      "======================================================================================================\n",
      "\n"
     ]
    }
   ],
   "source": [
    "X = sm.add_constant(x)\n",
    "model_logit = sm.Logit(y, X, hasconst = True).fit()\n",
    "\n",
    "print(model_logit.summary2(title = 'Модель'))"
   ]
  },
  {
   "cell_type": "code",
   "execution_count": 183,
   "id": "6f507030",
   "metadata": {},
   "outputs": [
    {
     "data": {
      "text/plain": [
       "1.6448536269514729"
      ]
     },
     "execution_count": 183,
     "metadata": {},
     "output_type": "execute_result"
    }
   ],
   "source": [
    "z_cr = sts.norm.isf(0.05)\n",
    "z_cr"
   ]
  },
  {
   "cell_type": "markdown",
   "id": "9d1e23cb",
   "metadata": {},
   "source": [
    "Все регрессоры значимы.\\\n",
    "**Отбор регрессоров закончен**"
   ]
  },
  {
   "cell_type": "markdown",
   "id": "5fc60038",
   "metadata": {},
   "source": [
    "# Разделение выборки"
   ]
  },
  {
   "cell_type": "markdown",
   "id": "001ca0bf",
   "metadata": {},
   "source": [
    "Переведу значения из RUB в млн. RUB для \"Капитал и резервы\" и \"Чистая прибыль (убыток)\""
   ]
  },
  {
   "cell_type": "code",
   "execution_count": 184,
   "id": "aae85497",
   "metadata": {},
   "outputs": [],
   "source": [
    "x['2020, Капитал и резервы, RUB'] = x['2020, Капитал и резервы, RUB']/10**6\n",
    "x['2020, Чистая прибыль (убыток), RUB'] = x['2020, Чистая прибыль (убыток), RUB']/10**6"
   ]
  },
  {
   "cell_type": "code",
   "execution_count": 185,
   "id": "f954fbfe",
   "metadata": {},
   "outputs": [],
   "source": [
    "x.rename(columns={'2020, Капитал и резервы, RUB': '2020, Капитал и резервы, млн. RUB'}, inplace=True)\n",
    "x.rename(columns={'2020, Чистая прибыль (убыток), RUB': '2020, Чистая прибыль (убыток), млн. RUB'}, inplace=True)"
   ]
  },
  {
   "cell_type": "code",
   "execution_count": 186,
   "id": "436cd5d7",
   "metadata": {},
   "outputs": [
    {
     "data": {
      "text/html": [
       "<div>\n",
       "<style scoped>\n",
       "    .dataframe tbody tr th:only-of-type {\n",
       "        vertical-align: middle;\n",
       "    }\n",
       "\n",
       "    .dataframe tbody tr th {\n",
       "        vertical-align: top;\n",
       "    }\n",
       "\n",
       "    .dataframe thead th {\n",
       "        text-align: right;\n",
       "    }\n",
       "</style>\n",
       "<table border=\"1\" class=\"dataframe\">\n",
       "  <thead>\n",
       "    <tr style=\"text-align: right;\">\n",
       "      <th></th>\n",
       "      <th>Округ</th>\n",
       "      <th>ИДО</th>\n",
       "      <th>ИФР</th>\n",
       "      <th>2020, Капитал и резервы, млн. RUB</th>\n",
       "      <th>2020, Чистая прибыль (убыток), млн. RUB</th>\n",
       "      <th>2020, Оборачиваемость кредиторской задолженности, разы</th>\n",
       "    </tr>\n",
       "  </thead>\n",
       "  <tbody>\n",
       "    <tr>\n",
       "      <th>0</th>\n",
       "      <td>5</td>\n",
       "      <td>62.0</td>\n",
       "      <td>9.0</td>\n",
       "      <td>118.334</td>\n",
       "      <td>0.297</td>\n",
       "      <td>4.6</td>\n",
       "    </tr>\n",
       "    <tr>\n",
       "      <th>3</th>\n",
       "      <td>5</td>\n",
       "      <td>30.0</td>\n",
       "      <td>22.0</td>\n",
       "      <td>21.724</td>\n",
       "      <td>2.790</td>\n",
       "      <td>1.3</td>\n",
       "    </tr>\n",
       "    <tr>\n",
       "      <th>4</th>\n",
       "      <td>5</td>\n",
       "      <td>15.0</td>\n",
       "      <td>99.0</td>\n",
       "      <td>-34.295</td>\n",
       "      <td>-14.815</td>\n",
       "      <td>0.1</td>\n",
       "    </tr>\n",
       "    <tr>\n",
       "      <th>5</th>\n",
       "      <td>5</td>\n",
       "      <td>8.0</td>\n",
       "      <td>95.0</td>\n",
       "      <td>-2.042</td>\n",
       "      <td>-3.599</td>\n",
       "      <td>0.9</td>\n",
       "    </tr>\n",
       "    <tr>\n",
       "      <th>10</th>\n",
       "      <td>0</td>\n",
       "      <td>66.0</td>\n",
       "      <td>86.0</td>\n",
       "      <td>6.072</td>\n",
       "      <td>-0.019</td>\n",
       "      <td>1.1</td>\n",
       "    </tr>\n",
       "  </tbody>\n",
       "</table>\n",
       "</div>"
      ],
      "text/plain": [
       "    Округ   ИДО   ИФР  2020, Капитал и резервы, млн. RUB  \\\n",
       "0       5  62.0   9.0                            118.334   \n",
       "3       5  30.0  22.0                             21.724   \n",
       "4       5  15.0  99.0                            -34.295   \n",
       "5       5   8.0  95.0                             -2.042   \n",
       "10      0  66.0  86.0                              6.072   \n",
       "\n",
       "    2020, Чистая прибыль (убыток), млн. RUB  \\\n",
       "0                                     0.297   \n",
       "3                                     2.790   \n",
       "4                                   -14.815   \n",
       "5                                    -3.599   \n",
       "10                                   -0.019   \n",
       "\n",
       "    2020, Оборачиваемость кредиторской задолженности, разы  \n",
       "0                                                      4.6  \n",
       "3                                                      1.3  \n",
       "4                                                      0.1  \n",
       "5                                                      0.9  \n",
       "10                                                     1.1  "
      ]
     },
     "execution_count": 186,
     "metadata": {},
     "output_type": "execute_result"
    }
   ],
   "source": [
    "x.head()"
   ]
  },
  {
   "cell_type": "markdown",
   "id": "d1f93655",
   "metadata": {},
   "source": [
    "Разделю выборку на тренировочную и тестовую "
   ]
  },
  {
   "cell_type": "code",
   "execution_count": 187,
   "id": "32ac9775",
   "metadata": {},
   "outputs": [],
   "source": [
    "from sklearn.model_selection import train_test_split\n",
    "X = sm.add_constant(x)\n",
    "X_train, X_test, y_train, y_test = train_test_split(X, y, test_size=0.2, random_state=1, stratify=y)"
   ]
  },
  {
   "cell_type": "markdown",
   "id": "4b317a31",
   "metadata": {},
   "source": [
    "# Построение Логит модели"
   ]
  },
  {
   "cell_type": "code",
   "execution_count": 188,
   "id": "13ae275e",
   "metadata": {},
   "outputs": [
    {
     "name": "stdout",
     "output_type": "stream",
     "text": [
      "Optimization terminated successfully.\n",
      "         Current function value: 0.050522\n",
      "         Iterations 16\n",
      "                                             Логит модель\n",
      "======================================================================================================\n",
      "Model:                           Logit                        Method:                       MLE       \n",
      "Dependent Variable:              Статус                       Pseudo R-squared:             0.486     \n",
      "Date:                            2024-03-06 14:57             AIC:                          512.3509  \n",
      "No. Observations:                4932                         BIC:                          557.8754  \n",
      "Df Model:                        6                            Log-Likelihood:               -249.18   \n",
      "Df Residuals:                    4925                         LL-Null:                      -484.93   \n",
      "Converged:                       1.0000                       LLR p-value:                  1.1508e-98\n",
      "No. Iterations:                  16.0000                      Scale:                        1.0000    \n",
      "------------------------------------------------------------------------------------------------------\n",
      "                                                        Coef.  Std.Err.    z    P>|z|   [0.025  0.975]\n",
      "------------------------------------------------------------------------------------------------------\n",
      "const                                                  -4.2522   0.5351 -7.9459 0.0000 -5.3010 -3.2033\n",
      "Округ                                                  -0.5463   0.0794 -6.8770 0.0000 -0.7020 -0.3906\n",
      "ИДО                                                     0.0231   0.0070  3.3181 0.0009  0.0095  0.0368\n",
      "ИФР                                                     0.0360   0.0058  6.1853 0.0000  0.0246  0.0474\n",
      "2020, Капитал и резервы, млн. RUB                      -0.0013   0.0004 -3.5640 0.0004 -0.0020 -0.0006\n",
      "2020, Чистая прибыль (убыток), млн. RUB                -0.0031   0.0012 -2.6132 0.0090 -0.0054 -0.0008\n",
      "2020, Оборачиваемость кредиторской задолженности, разы -0.2198   0.0637 -3.4532 0.0006 -0.3446 -0.0951\n",
      "======================================================================================================\n",
      "\n"
     ]
    }
   ],
   "source": [
    "model_logit = sm.Logit(y_train, X_train, hasconst = True).fit()\n",
    "\n",
    "print(model_logit.summary2(title = 'Логит модель'))"
   ]
  },
  {
   "cell_type": "markdown",
   "id": "3005d443",
   "metadata": {},
   "source": [
    "X1 - Округ\\\n",
    "X2 - ИДО\\\n",
    "X3 - ИФР\\\n",
    "X4 - 2020, Капитал и резервы, млн. RUB\\\n",
    "X5 - 2020, Чистая прибыль (убыток), млн. RUB\\\n",
    "X6 - 2020, Оборачиваемость кредиторской задолженности, разы"
   ]
  },
  {
   "cell_type": "markdown",
   "id": "41780fe4",
   "metadata": {},
   "source": [
    "Логит модель\n",
    "\n",
    "$y_i = \\frac{\\exp^{b_0 + b_1*X_1 + b_2*X_2 + b_3*X_3 + b_4*X_4 + b_5*X_5 + b_6*X_6 + \\varepsilon_i}}{1 + \\exp^{b_0 + b_1*X_1 + b_2*X_2 + b_3*X_3 + b_4*X_4 + b_5*X_5 + b_6*X_6 + \\varepsilon_i}} $\n",
    "\n",
    "$y_i = \\frac{\\exp^{-4.2521 -0.5463X_1 + 0.0231X_2 + 0.036X_3 -0.0013X_4 - 0.0031X_5 - 0.2198X_6 + \\varepsilon_i}}{1 + \\exp^{-4.2521 -0.5463X_1 + 0.0231X_2 + 0.036X_3 -0.0013X_4 - 0.0031X_5 - 0.2198X_6 + \\varepsilon_i}} $\n",
    "\n",
    "$\n",
    "\\sigma = 1 \\\\\n",
    "\\sigma_{b_0} = 0.5351 \\\\\n",
    "\\sigma_{b_1} = 0.0794 \\\\\n",
    "\\sigma_{b_2} = 0.007 \\\\\n",
    "\\sigma_{b_3} = 0.0058 \\\\\n",
    "\\sigma_{b_4} = 0.0004 \\\\\n",
    "\\sigma_{b_5} = 0.0012 \\\\\n",
    "\\sigma_{b_6} = 0.0637 \\\\\n",
    "$"
   ]
  },
  {
   "cell_type": "markdown",
   "id": "dfb80109",
   "metadata": {},
   "source": [
    "### Проверка значимости регрессии в целом"
   ]
  },
  {
   "cell_type": "markdown",
   "id": "bcd84380",
   "metadata": {},
   "source": [
    "H0 : b1 = ... bk = 0\\\n",
    "H1: bi != 0, для некоторых i = 1,..k"
   ]
  },
  {
   "attachments": {
    "image.png": {
     "image/png": "[encoded data removed]"
    }
   },
   "cell_type": "markdown",
   "id": "bab9dc73",
   "metadata": {},
   "source": [
    "Воспользуюсь LR-статистикой\\\n",
    "![image.png](attachment:image.png)"
   ]
  },
  {
   "cell_type": "code",
   "execution_count": 109,
   "id": "211d0686",
   "metadata": {},
   "outputs": [
    {
     "data": {
      "text/latex": [
       "$\\displaystyle -484.929292459231$"
      ],
      "text/plain": [
       "-484.929292459231"
      ]
     },
     "execution_count": 109,
     "metadata": {},
     "output_type": "execute_result"
    }
   ],
   "source": [
    "n_x_train = X_train.shape[0]\n",
    "y_equals_1 = y_train.sum()\n",
    "L_0 = (y_equals_1/n_x_train)**(y_equals_1) * ((n_x_train-y_equals_1)/n_x_train)**(n_x_train-y_equals_1)\n",
    "Ln_L_0 = sp.log(L_0)\n",
    "Ln_L_0"
   ]
  },
  {
   "cell_type": "code",
   "execution_count": 110,
   "id": "7dc8d972",
   "metadata": {},
   "outputs": [
    {
     "data": {
      "text/plain": [
       "True"
      ]
     },
     "execution_count": 110,
     "metadata": {},
     "output_type": "execute_result"
    }
   ],
   "source": [
    "#Проверка со значением из statsmodels\n",
    "round(model_logit.llnull, 5) == round(float(Ln_L_0), 5)"
   ]
  },
  {
   "cell_type": "code",
   "execution_count": 111,
   "id": "02e67ecb",
   "metadata": {},
   "outputs": [
    {
     "data": {
      "text/plain": [
       "array([[2.58262259e-49, 9.77518097e-03, 7.61080911e-17, ...,\n",
       "        4.18631463e-10, 2.26598434e-06, 3.88354990e-02]])"
      ]
     },
     "execution_count": 111,
     "metadata": {},
     "output_type": "execute_result"
    }
   ],
   "source": [
    "params = pd.DataFrame(model_logit.params)[1:].transpose()\n",
    "F = pd.DataFrame()\n",
    "for i in range(n_x_train):\n",
    "    z = model_logit.params[0] + (X_train.iloc[i, 1:] * params).sum(1)[0]\n",
    "    F[i] = [np.exp(z) / (1 + np.exp(z))]\n",
    "\n",
    "F = np.array(F)\n",
    "F"
   ]
  },
  {
   "cell_type": "code",
   "execution_count": 112,
   "id": "68090147",
   "metadata": {},
   "outputs": [
    {
     "data": {
      "text/plain": [
       "-249.17546571079333"
      ]
     },
     "execution_count": 112,
     "metadata": {},
     "output_type": "execute_result"
    }
   ],
   "source": [
    "ln_L = ((np.log(F)**np.array(y_train)) * (np.log(1-F)**(1 - np.array(y_train)))).sum()\n",
    "ln_L"
   ]
  },
  {
   "cell_type": "code",
   "execution_count": 113,
   "id": "a2f854dd",
   "metadata": {},
   "outputs": [
    {
     "data": {
      "text/plain": [
       "True"
      ]
     },
     "execution_count": 113,
     "metadata": {},
     "output_type": "execute_result"
    }
   ],
   "source": [
    "#Проверка со значением из statsmodels\n",
    "round(model_logit.llf, 5) == round(float(ln_L), 5)"
   ]
  },
  {
   "cell_type": "code",
   "execution_count": 114,
   "id": "d50608ad",
   "metadata": {},
   "outputs": [
    {
     "data": {
      "text/latex": [
       "$\\displaystyle 471.507653496875$"
      ],
      "text/plain": [
       "471.507653496875"
      ]
     },
     "execution_count": 114,
     "metadata": {},
     "output_type": "execute_result"
    }
   ],
   "source": [
    "LR = 2 * (ln_L - Ln_L_0)\n",
    "LR"
   ]
  },
  {
   "cell_type": "code",
   "execution_count": 115,
   "id": "5993964d",
   "metadata": {},
   "outputs": [
    {
     "data": {
      "text/plain": [
       "True"
      ]
     },
     "execution_count": 115,
     "metadata": {},
     "output_type": "execute_result"
    }
   ],
   "source": [
    "#Проверка со значением из statsmodels\n",
    "round(model_logit.llr, 5) == round(float(LR), 5)"
   ]
  },
  {
   "cell_type": "code",
   "execution_count": 116,
   "id": "a71656f9",
   "metadata": {},
   "outputs": [
    {
     "data": {
      "text/plain": [
       "14.067140449340167"
      ]
     },
     "execution_count": 116,
     "metadata": {},
     "output_type": "execute_result"
    }
   ],
   "source": [
    "chi_2_cr = sts.chi2.isf(0.05, X_train.shape[1])\n",
    "chi_2_cr"
   ]
  },
  {
   "cell_type": "code",
   "execution_count": 117,
   "id": "8764c8f1",
   "metadata": {},
   "outputs": [
    {
     "name": "stdout",
     "output_type": "stream",
     "text": [
      "H0 отвергаем\n"
     ]
    }
   ],
   "source": [
    "print('H0 отвергаем') if (LR > chi_2_cr) else print('H0 не отвергаем')"
   ]
  },
  {
   "cell_type": "markdown",
   "id": "84c8b8ab",
   "metadata": {},
   "source": [
    "Вывод: уравнение значимо"
   ]
  },
  {
   "cell_type": "markdown",
   "id": "d6641969",
   "metadata": {},
   "source": [
    "### Проверка качества модели"
   ]
  },
  {
   "attachments": {
    "image-2.png": {
     "image/png": "[encoded data removed]"
    }
   },
   "cell_type": "markdown",
   "id": "8f6b8fff",
   "metadata": {},
   "source": [
    "Найду псевдо-R^2 или R^2 МакФаддена\n",
    "![image-2.png](attachment:image-2.png)"
   ]
  },
  {
   "cell_type": "code",
   "execution_count": 118,
   "id": "d354cf09",
   "metadata": {},
   "outputs": [
    {
     "data": {
      "text/latex": [
       "$\\displaystyle 0.486161241266443$"
      ],
      "text/plain": [
       "0.486161241266443"
      ]
     },
     "execution_count": 118,
     "metadata": {},
     "output_type": "execute_result"
    }
   ],
   "source": [
    "psevdo_R2 = 1 - ln_L / Ln_L_0\n",
    "psevdo_R2"
   ]
  },
  {
   "cell_type": "code",
   "execution_count": 119,
   "id": "8c69511a",
   "metadata": {},
   "outputs": [
    {
     "data": {
      "text/plain": [
       "True"
      ]
     },
     "execution_count": 119,
     "metadata": {},
     "output_type": "execute_result"
    }
   ],
   "source": [
    "#Проверка со значением из statsmodels\n",
    "round(model_logit.prsquared, 5) == round(float(psevdo_R2), 5)"
   ]
  },
  {
   "cell_type": "markdown",
   "id": "14d07fc6",
   "metadata": {},
   "source": [
    "Вывод: мера качества прогноза 0,486"
   ]
  },
  {
   "cell_type": "markdown",
   "id": "7b184a19",
   "metadata": {},
   "source": [
    "### Проверка на тестовой выборке"
   ]
  },
  {
   "cell_type": "markdown",
   "id": "72f16c19",
   "metadata": {},
   "source": [
    "Посчитаю точность модели"
   ]
  },
  {
   "cell_type": "code",
   "execution_count": 220,
   "id": "408f43bf",
   "metadata": {},
   "outputs": [
    {
     "data": {
      "text/plain": [
       "0.9805352798053528"
      ]
     },
     "execution_count": 220,
     "metadata": {},
     "output_type": "execute_result"
    }
   ],
   "source": [
    "from sklearn.metrics import accuracy_score, f1_score, roc_auc_score\n",
    "\n",
    "y_pred = model_logit.predict(X_test)\n",
    "accuracy = accuracy_score(y_test, y_pred.round())\n",
    "accuracy"
   ]
  },
  {
   "cell_type": "code",
   "execution_count": 221,
   "id": "64f4d6d9",
   "metadata": {},
   "outputs": [
    {
     "data": {
      "text/plain": [
       "0.5395860927152318"
      ]
     },
     "execution_count": 221,
     "metadata": {},
     "output_type": "execute_result"
    }
   ],
   "source": [
    "roc_auc = roc_auc_score(y_test, y_pred.round())\n",
    "roc_auc"
   ]
  },
  {
   "cell_type": "code",
   "execution_count": 222,
   "id": "eb5502b2",
   "metadata": {},
   "outputs": [
    {
     "data": {
      "text/plain": [
       "0.14285714285714285"
      ]
     },
     "execution_count": 222,
     "metadata": {},
     "output_type": "execute_result"
    }
   ],
   "source": [
    "f1_ = f1_score(y_test, y_pred.round())\n",
    "f1_"
   ]
  },
  {
   "cell_type": "markdown",
   "id": "ababffe0",
   "metadata": {},
   "source": [
    "F1 Score с разным порогом. Чем ниже порог, тем больше компаний определяются как имеющие кредитный риск"
   ]
  },
  {
   "cell_type": "code",
   "execution_count": 223,
   "id": "618f67b6",
   "metadata": {},
   "outputs": [
    {
     "name": "stdout",
     "output_type": "stream",
     "text": [
      "0.039999999999999994 0.0\n",
      "0.19469026548672566 0.010101010101010102\n",
      "0.2619047619047619 0.020202020202020204\n",
      "0.2896551724137931 0.030303030303030304\n",
      "0.2975206611570248 0.05050505050505051\n",
      "0.33644859813084116 0.06060606060606061\n",
      "0.375 0.07070707070707072\n",
      "0.3956043956043956 0.08080808080808081\n",
      "0.41860465116279066 0.09090909090909091\n",
      "0.43902439024390244 0.10101010101010102\n",
      "0.4556962025316456 0.11111111111111112\n",
      "0.4736842105263158 0.12121212121212122\n",
      "0.47619047619047616 0.18181818181818182\n",
      "0.48387096774193555 0.19191919191919193\n",
      "0.5 0.20202020202020204\n",
      "0.5116279069767442 0.26262626262626265\n",
      "0.5238095238095238 0.30303030303030304\n"
     ]
    }
   ],
   "source": [
    "best_f1 = 0\n",
    "for threshold in np.linspace(0, 1, 100):\n",
    "    f1_ = f1_score(y_test, (y_pred > threshold ).astype(int))\n",
    "    if f1_ > best_f1:\n",
    "        best_f1 = f1_\n",
    "        print(f1_, threshold)"
   ]
  },
  {
   "cell_type": "code",
   "execution_count": 224,
   "id": "17180514",
   "metadata": {},
   "outputs": [
    {
     "data": {
      "text/plain": [
       "0.5238095238095238"
      ]
     },
     "execution_count": 224,
     "metadata": {},
     "output_type": "execute_result"
    }
   ],
   "source": [
    "# Оптимальный порог - 0.3\n",
    "f1_ = f1_score(y_test, (y_pred > 0.3).astype(int))\n",
    "f1_"
   ]
  },
  {
   "cell_type": "markdown",
   "id": "ff5863a3",
   "metadata": {},
   "source": [
    "**Вывод**: точность модели высокая за счет огромного превосходства значений y=0 над y=1, поэтому модель практически всегда предлагает наиболее вероятный исход. \n",
    "\n",
    "ROC_AUC показал, что качество модели среднее.\n",
    "\n",
    "f1_score показал, что модель будет средне работать с неизвестными данными и может показывать, что у компании нет кредитного риска, когда он присутствует. "
   ]
  },
  {
   "cell_type": "markdown",
   "id": "21d5478e",
   "metadata": {},
   "source": [
    "# Построение Пробит модели"
   ]
  },
  {
   "cell_type": "code",
   "execution_count": 206,
   "id": "94ddcf8e",
   "metadata": {},
   "outputs": [
    {
     "name": "stdout",
     "output_type": "stream",
     "text": [
      "Optimization terminated successfully.\n",
      "         Current function value: 0.051903\n",
      "         Iterations 15\n",
      "                                             Пробит модель\n",
      "=======================================================================================================\n",
      "Model:                            Probit                       Method:                       MLE       \n",
      "Dependent Variable:               Статус                       Pseudo R-squared:             0.472     \n",
      "Date:                             2024-03-06 15:05             AIC:                          525.9695  \n",
      "No. Observations:                 4932                         BIC:                          571.4940  \n",
      "Df Model:                         6                            Log-Likelihood:               -255.98   \n",
      "Df Residuals:                     4925                         LL-Null:                      -484.93   \n",
      "Converged:                        1.0000                       LLR p-value:                  9.8373e-96\n",
      "No. Iterations:                   15.0000                      Scale:                        1.0000    \n",
      "-------------------------------------------------------------------------------------------------------\n",
      "                                                        Coef.  Std.Err.    z     P>|z|   [0.025  0.975]\n",
      "-------------------------------------------------------------------------------------------------------\n",
      "const                                                  -2.2265   0.2077 -10.7208 0.0000 -2.6336 -1.8195\n",
      "Округ                                                  -0.2419   0.0340  -7.1078 0.0000 -0.3087 -0.1752\n",
      "ИДО                                                     0.0137   0.0036   3.8239 0.0001  0.0067  0.0208\n",
      "ИФР                                                     0.0164   0.0024   6.8914 0.0000  0.0118  0.0211\n",
      "2020, Капитал и резервы, млн. RUB                      -0.0006   0.0002  -3.6896 0.0002 -0.0009 -0.0003\n",
      "2020, Чистая прибыль (убыток), млн. RUB                -0.0016   0.0006  -2.7857 0.0053 -0.0028 -0.0005\n",
      "2020, Оборачиваемость кредиторской задолженности, разы -0.0772   0.0221  -3.4940 0.0005 -0.1205 -0.0339\n",
      "=======================================================================================================\n",
      "\n"
     ]
    }
   ],
   "source": [
    "model_probit = sm.Probit(y_train, X_train, hasconst = True).fit()\n",
    "\n",
    "print(model_probit.summary2(title = 'Пробит модель'))"
   ]
  },
  {
   "cell_type": "markdown",
   "id": "395fc137",
   "metadata": {},
   "source": [
    "X1 - Округ\\\n",
    "X2 - ИДО\\\n",
    "X3 - ИФР\\\n",
    "X4 - 2020, Капитал и резервы, млн. RUB\\\n",
    "X5 - 2020, Чистая прибыль (убыток), млн. RUB\\\n",
    "X6 - 2020, Оборачиваемость кредиторской задолженности, разы"
   ]
  },
  {
   "cell_type": "markdown",
   "id": "bb62900d",
   "metadata": {},
   "source": [
    "Пробит модель\n",
    "\n",
    "$Z = {b_0 + b_1X_1 + b_2X_2 + b_3X_3 + b_4X_4 + b_5X_5 + b_6X_6 + \\varepsilon_i}$\n",
    "\n",
    "$Z = -2.2265 -0.2419X_1 + 0.0137X_2 + 0.0164X_3 -0.0006X_4 -0.0016X_5 -0.0772X_6 + \\varepsilon_i $\n",
    "\n",
    "$F(Z) = \\frac{1}{\\sqrt{2\\pi}} \\int\\limits_{-inf}^{Z} \\exp^{-0.5*(u)^2} \\, du  $\n",
    "\n",
    "$\n",
    "\\sigma = 1 \\\\\n",
    "\\sigma_{b_0} = 0.2077 \\\\\n",
    "\\sigma_{b_1} = 0.0340 \\\\\n",
    "\\sigma_{b_2} = 0.0036 \\\\\n",
    "\\sigma_{b_3} = 0.0024 \\\\\n",
    "\\sigma_{b_4} = 0.0002 \\\\\n",
    "\\sigma_{b_5} = 0.0006 \\\\\n",
    "\\sigma_{b_6} = 0.0221 \\\\\n",
    "$"
   ]
  },
  {
   "cell_type": "markdown",
   "id": "f298e123",
   "metadata": {},
   "source": [
    "### Проверка значимости регрессии в целом"
   ]
  },
  {
   "cell_type": "markdown",
   "id": "6335257f",
   "metadata": {},
   "source": [
    "H0: b1 = ... bk = 0\\\n",
    "H1: bi != 0, для некоторых i = 1,..k"
   ]
  },
  {
   "cell_type": "markdown",
   "id": "66944ee5",
   "metadata": {},
   "source": [
    "Воспользуюсь LR-статистикой"
   ]
  },
  {
   "cell_type": "code",
   "execution_count": 207,
   "id": "909f05c9",
   "metadata": {},
   "outputs": [
    {
     "data": {
      "text/plain": [
       "457.8890667487634"
      ]
     },
     "execution_count": 207,
     "metadata": {},
     "output_type": "execute_result"
    }
   ],
   "source": [
    "LR = model_probit.llr\n",
    "LR"
   ]
  },
  {
   "cell_type": "code",
   "execution_count": 208,
   "id": "fdbc4e29",
   "metadata": {},
   "outputs": [
    {
     "data": {
      "text/plain": [
       "14.067140449340167"
      ]
     },
     "execution_count": 208,
     "metadata": {},
     "output_type": "execute_result"
    }
   ],
   "source": [
    "chi_2_cr = sts.chi2.isf(0.05, X_train.shape[1])\n",
    "chi_2_cr"
   ]
  },
  {
   "cell_type": "code",
   "execution_count": 209,
   "id": "3a8fd328",
   "metadata": {},
   "outputs": [
    {
     "name": "stdout",
     "output_type": "stream",
     "text": [
      "H0 отвергаем\n"
     ]
    }
   ],
   "source": [
    "print('H0 отвергаем') if (LR > chi_2_cr) else print('H0 не отвергаем')"
   ]
  },
  {
   "cell_type": "markdown",
   "id": "f6119210",
   "metadata": {},
   "source": [
    "Вывод: уравнение значимо"
   ]
  },
  {
   "cell_type": "markdown",
   "id": "7d77b284",
   "metadata": {},
   "source": [
    "### Проверка качества модели"
   ]
  },
  {
   "cell_type": "code",
   "execution_count": 210,
   "id": "125385bf",
   "metadata": {},
   "outputs": [
    {
     "data": {
      "text/plain": [
       "0.47211941396192547"
      ]
     },
     "execution_count": 210,
     "metadata": {},
     "output_type": "execute_result"
    }
   ],
   "source": [
    "psevdo_R_2 = model_probit.prsquared\n",
    "psevdo_R_2"
   ]
  },
  {
   "cell_type": "markdown",
   "id": "e9d5159c",
   "metadata": {},
   "source": [
    "Вывод: мера качества прогноза 0,472"
   ]
  },
  {
   "cell_type": "markdown",
   "id": "d149fa55",
   "metadata": {},
   "source": [
    "### Проверка на тестовой выборке"
   ]
  },
  {
   "cell_type": "code",
   "execution_count": 211,
   "id": "af1dca1b",
   "metadata": {},
   "outputs": [
    {
     "data": {
      "text/plain": [
       "0.9805352798053528"
      ]
     },
     "execution_count": 211,
     "metadata": {},
     "output_type": "execute_result"
    }
   ],
   "source": [
    "from sklearn.metrics import accuracy_score, f1_score, roc_auc_score\n",
    "\n",
    "y_pred = model_probit.predict(X_test)\n",
    "accuracy = accuracy_score(y_test, y_pred.round())\n",
    "accuracy"
   ]
  },
  {
   "cell_type": "code",
   "execution_count": 212,
   "id": "01a64dcc",
   "metadata": {},
   "outputs": [
    {
     "data": {
      "text/plain": [
       "0.5395860927152318"
      ]
     },
     "execution_count": 212,
     "metadata": {},
     "output_type": "execute_result"
    }
   ],
   "source": [
    "roc_auc = roc_auc_score(y_test, y_pred.round())\n",
    "roc_auc"
   ]
  },
  {
   "cell_type": "code",
   "execution_count": 213,
   "id": "4c5230c0",
   "metadata": {},
   "outputs": [
    {
     "data": {
      "text/plain": [
       "0.14285714285714285"
      ]
     },
     "execution_count": 213,
     "metadata": {},
     "output_type": "execute_result"
    }
   ],
   "source": [
    "f1_ = f1_score(y_test, y_pred.round())\n",
    "f1_"
   ]
  },
  {
   "cell_type": "markdown",
   "id": "7384c710",
   "metadata": {},
   "source": [
    "F1 Score с разным порогом. Чем ниже порог, тем больше компаний определяются как имеющие кредитный риск"
   ]
  },
  {
   "cell_type": "code",
   "execution_count": 218,
   "id": "0b4044d3",
   "metadata": {},
   "outputs": [
    {
     "name": "stdout",
     "output_type": "stream",
     "text": [
      "0.04045307443365696 0.0\n",
      "0.18410041841004185 0.010101010101010102\n",
      "0.24043715846994534 0.020202020202020204\n",
      "0.271604938271605 0.030303030303030304\n",
      "0.28571428571428575 0.05050505050505051\n",
      "0.2903225806451613 0.06060606060606061\n",
      "0.3157894736842105 0.07070707070707072\n",
      "0.3564356435643564 0.08080808080808081\n",
      "0.36734693877551017 0.09090909090909091\n",
      "0.3956043956043956 0.10101010101010102\n",
      "0.42857142857142855 0.11111111111111112\n",
      "0.43589743589743585 0.13131313131313133\n",
      "0.4533333333333334 0.14141414141414144\n",
      "0.4545454545454546 0.17171717171717174\n",
      "0.45614035087719296 0.20202020202020204\n",
      "0.4583333333333333 0.22222222222222224\n",
      "0.46808510638297873 0.23232323232323235\n",
      "0.4782608695652174 0.24242424242424243\n",
      "0.5 0.25252525252525254\n",
      "0.5238095238095238 0.26262626262626265\n"
     ]
    }
   ],
   "source": [
    "best_f1 = 0\n",
    "for threshold in np.linspace(0, 1, 100):\n",
    "    f1_ = f1_score(y_test, (y_pred > threshold).astype(int))\n",
    "    if f1_ > best_f1:\n",
    "        best_f1 = f1_\n",
    "        print(f1_, threshold)"
   ]
  },
  {
   "cell_type": "code",
   "execution_count": 217,
   "id": "eab6b5a8",
   "metadata": {},
   "outputs": [
    {
     "data": {
      "text/plain": [
       "0.5238095238095238"
      ]
     },
     "execution_count": 217,
     "metadata": {},
     "output_type": "execute_result"
    }
   ],
   "source": [
    "# Оптимальный порог - 0.26\n",
    "f1_ = f1_score(y_test, (y_pred > 0.26).astype(int))\n",
    "f1_"
   ]
  },
  {
   "cell_type": "markdown",
   "id": "ed60b46e",
   "metadata": {},
   "source": [
    "**Вывод**: точность модели высокая за счет огромного превосходства значений y=0 над y=1, поэтому модель практически всегда предлагает наиболее вероятный исход.\n",
    "\n",
    "ROC_AUC показал, что качество модели среднее.\n",
    "\n",
    "f1_score показал, что модель будет средне работать с неизвестными данными и может показывать, что у компании нет кредитного риска, когда он присутствует. "
   ]
  },
  {
   "cell_type": "markdown",
   "id": "16868ff3",
   "metadata": {},
   "source": [
    "# Вывод"
   ]
  },
  {
   "cell_type": "markdown",
   "id": "9a2bc3d4",
   "metadata": {},
   "source": [
    "Проведя исследование и построив логит и пробит модели, можно сказать, что наличие кредитного риска у компании (или ее платежеспособность) большее всего зависит от следующих параметров:\\\n",
    "Округ\\\n",
    "ИФР\\\n",
    "ИДО\\\n",
    "Капитал и резервы\\\n",
    "Оборачиваемость кредиторской задолженности, разы\\\n",
    "Чистая прибыль (убыток)"
   ]
  },
  {
   "cell_type": "markdown",
   "id": "29eb046b",
   "metadata": {},
   "source": [
    "Данная модель в целом имеет среднее качество. Она хорошо предсказывает отсутствие кредитного риска, однако может ошибаться, когда он есть."
   ]
  }
 ],
 "metadata": {
  "kernelspec": {
   "display_name": "Python 3 (ipykernel)",
   "language": "python",
   "name": "python3"
  },
  "language_info": {
   "codemirror_mode": {
    "name": "ipython",
    "version": 3
   },
   "file_extension": ".py",
   "mimetype": "text/x-python",
   "name": "python",
   "nbconvert_exporter": "python",
   "pygments_lexer": "ipython3",
   "version": "3.11.5"
  }
 },
 "nbformat": 4,
 "nbformat_minor": 5
}
